{
 "cells": [
  {
   "cell_type": "code",
   "execution_count": 1,
   "id": "1042fe54-fe31-42de-86fd-8b763d8a484e",
   "metadata": {},
   "outputs": [
    {
     "name": "stderr",
     "output_type": "stream",
     "text": [
      "── \u001b[1mAttaching core tidyverse packages\u001b[22m ──────────────────────── tidyverse 2.0.0 ──\n",
      "\u001b[32m✔\u001b[39m \u001b[34mdplyr    \u001b[39m 1.1.4     \u001b[32m✔\u001b[39m \u001b[34mreadr    \u001b[39m 2.1.5\n",
      "\u001b[32m✔\u001b[39m \u001b[34mforcats  \u001b[39m 1.0.0     \u001b[32m✔\u001b[39m \u001b[34mstringr  \u001b[39m 1.5.1\n",
      "\u001b[32m✔\u001b[39m \u001b[34mggplot2  \u001b[39m 3.5.1     \u001b[32m✔\u001b[39m \u001b[34mtibble   \u001b[39m 3.2.1\n",
      "\u001b[32m✔\u001b[39m \u001b[34mlubridate\u001b[39m 1.9.3     \u001b[32m✔\u001b[39m \u001b[34mtidyr    \u001b[39m 1.3.1\n",
      "\u001b[32m✔\u001b[39m \u001b[34mpurrr    \u001b[39m 1.0.2     \n",
      "── \u001b[1mConflicts\u001b[22m ────────────────────────────────────────── tidyverse_conflicts() ──\n",
      "\u001b[31m✖\u001b[39m \u001b[34mdplyr\u001b[39m::\u001b[32mfilter()\u001b[39m masks \u001b[34mstats\u001b[39m::filter()\n",
      "\u001b[31m✖\u001b[39m \u001b[34mdplyr\u001b[39m::\u001b[32mlag()\u001b[39m    masks \u001b[34mstats\u001b[39m::lag()\n",
      "\u001b[36mℹ\u001b[39m Use the conflicted package (\u001b[3m\u001b[34m<http://conflicted.r-lib.org/>\u001b[39m\u001b[23m) to force all conflicts to become errors\n",
      "Loading required package: lattice\n",
      "\n",
      "\n",
      "Attaching package: 'caret'\n",
      "\n",
      "\n",
      "The following object is masked from 'package:purrr':\n",
      "\n",
      "    lift\n",
      "\n",
      "\n",
      "randomForest 4.7-1.2\n",
      "\n",
      "Type rfNews() to see new features/changes/bug fixes.\n",
      "\n",
      "\n",
      "Attaching package: 'randomForest'\n",
      "\n",
      "\n",
      "The following object is masked from 'package:dplyr':\n",
      "\n",
      "    combine\n",
      "\n",
      "\n",
      "The following object is masked from 'package:ggplot2':\n",
      "\n",
      "    margin\n",
      "\n",
      "\n",
      "\n",
      "Attaching package: 'xgboost'\n",
      "\n",
      "\n",
      "The following object is masked from 'package:dplyr':\n",
      "\n",
      "    slice\n",
      "\n",
      "\n"
     ]
    }
   ],
   "source": [
    "# Wyłączenie ostrzerzeń w ramach skryptu\n",
    "options(warn = -1)\n",
    "\n",
    "# Zimportowanie bibliotek\n",
    "library(tidyverse)\n",
    "# - KNN\n",
    "library(class)\n",
    "library(caret)\n",
    "# - Bayes\n",
    "library(ROCR)\n",
    "library(e1071)\n",
    "# - Drzewa klasyfikacyjne\n",
    "library(rpart)\n",
    "library(rpart.plot)\n",
    "library(tree)\n",
    "# - Drzewa losowe\n",
    "library(randomForest)\n",
    "# - XGBoost\n",
    "library(xgboost)\n",
    "# - SVM"
   ]
  },
  {
   "cell_type": "code",
   "execution_count": 2,
   "id": "29745ad7-e167-4ee3-a2e4-47c5bee77ce8",
   "metadata": {},
   "outputs": [
    {
     "name": "stderr",
     "output_type": "stream",
     "text": [
      "dummies-1.5.6 provided by Decision Patterns\n",
      "\n",
      "\n"
     ]
    },
    {
     "name": "stdout",
     "output_type": "stream",
     "text": [
      "Rows: 2,770\n",
      "Columns: 31\n",
      "$ ID       \u001b[3m\u001b[90m<int>\u001b[39m\u001b[23m 88, 152, 157, 158, 159, 160, 169, 206, 209, 218, 231, 238, 27…\n",
      "$ WESBROOK \u001b[3m\u001b[90m<fct>\u001b[39m\u001b[23m Y, Y, Y, Y, Y, Y, Y, Y, Y, Y, Y, Y, N, Y, Y, N, Y, N, N, N, Y…\n",
      "$ TOTLGIVE \u001b[3m\u001b[90m<dbl>\u001b[39m\u001b[23m 24728, 23500, 3000, 7600, 20000, 7829, 2476, 5000, 13611, 685…\n",
      "$ INDUPDT  \u001b[3m\u001b[90m<chr>\u001b[39m\u001b[23m \"10/02/1995\", \"07/21/1997\", \"08/22/1994\", \"12/21/1996\", \"05/0…\n",
      "$ GRADYR1  \u001b[3m\u001b[90m<fct>\u001b[39m\u001b[23m 1960, 1988, 1949, NA, 1958, NA, NA, 1993, 1937, 1990, 1958, N…\n",
      "$ FACULTY1 \u001b[3m\u001b[90m<fct>\u001b[39m\u001b[23m CO, PO, AP, NA, LA, NA, NA, PO, AR, PO, CO, NA, AP, LA, LA, F…\n",
      "$ DEPT1    \u001b[3m\u001b[90m<fct>\u001b[39m\u001b[23m CO, PO, AP, NA, LA, NA, NA, PO, AR, PO, CO, NA, AP, LA, LA, F…\n",
      "$ MAJOR1   \u001b[3m\u001b[90m<fct>\u001b[39m\u001b[23m NA, NA, CIVL, NA, NA, NA, NA, NA, NA, NA, NA, NA, GEOE, NA, N…\n",
      "$ PARENT   \u001b[3m\u001b[90m<fct>\u001b[39m\u001b[23m Y, N, Y, N, Y, Y, N, Y, Y, Y, Y, Y, N, N, N, N, N, N, N, N, N…\n",
      "$ CHILD    \u001b[3m\u001b[90m<fct>\u001b[39m\u001b[23m Y, N, N, N, Y, N, N, Y, Y, N, N, N, N, N, N, N, N, N, N, N, N…\n",
      "$ SPOUSE   \u001b[3m\u001b[90m<fct>\u001b[39m\u001b[23m Y, Y, Y, Y, Y, N, Y, Y, Y, Y, Y, Y, N, N, Y, Y, N, Y, Y, N, Y…\n",
      "$ SEX      \u001b[3m\u001b[90m<fct>\u001b[39m\u001b[23m M, M, M, M, M, M, M, M, M, M, M, M, M, M, M, M, M, M, F, F, M…\n",
      "$ MARITAL  \u001b[3m\u001b[90m<fct>\u001b[39m\u001b[23m M, M, M, M, M, W, M, M, M, M, M, M, NA, M, M, M, NA, M, M, NA…\n",
      "$ EA       \u001b[3m\u001b[90m<chr>\u001b[39m\u001b[23m \"59030052\", \"59030113\", \"59030201\", \"59028017\", \"59030052\", \"…\n",
      "$ FACSTAFF \u001b[3m\u001b[90m<fct>\u001b[39m\u001b[23m N, N, N, N, N, N, N, N, N, N, N, N, N, N, N, N, N, N, N, N, N…\n",
      "$ ATHLTCS  \u001b[3m\u001b[90m<fct>\u001b[39m\u001b[23m Y, N, Y, N, N, N, N, N, N, N, N, N, N, N, Y, N, Y, N, N, N, N…\n",
      "$ BIGBLOCK \u001b[3m\u001b[90m<fct>\u001b[39m\u001b[23m N, N, N, N, N, N, N, N, N, N, N, N, N, N, N, N, N, N, N, N, N…\n",
      "$ OTHERACT \u001b[3m\u001b[90m<fct>\u001b[39m\u001b[23m N, N, Y, N, N, N, N, N, N, N, N, N, N, N, Y, N, N, N, N, N, N…\n",
      "$ FRSTYEAR \u001b[3m\u001b[90m<int>\u001b[39m\u001b[23m 1960, 1988, 1949, NA, 1958, NA, NA, 1993, 1937, 1949, 1958, N…\n",
      "$ MOV_DWEL \u001b[3m\u001b[90m<dbl>\u001b[39m\u001b[23m 0, 0, 0, 0, 0, 0, 0, 0, 0, 0, 0, 0, 0, 0, 0, 0, 0, 0, 0, 0, 0…\n",
      "$ HH_1PER  \u001b[3m\u001b[90m<dbl>\u001b[39m\u001b[23m 0.16901408, 0.06666667, 0.38983051, 0.56470588, 0.16901408, 0…\n",
      "$ HH_2PER  \u001b[3m\u001b[90m<dbl>\u001b[39m\u001b[23m 0.2816901, 0.2666667, 0.3728814, 0.3176471, 0.2816901, 0.3250…\n",
      "$ HH_3PER  \u001b[3m\u001b[90m<dbl>\u001b[39m\u001b[23m 0.11267606, 0.20000000, 0.10169492, 0.07058824, 0.11267606, 0…\n",
      "$ HH_45PER \u001b[3m\u001b[90m<dbl>\u001b[39m\u001b[23m 0.32394366, 0.23333333, 0.06779661, 0.04705882, 0.32394366, 0…\n",
      "$ AVE_INC  \u001b[3m\u001b[90m<dbl>\u001b[39m\u001b[23m 147196, 151728, 162558, 45609, 147196, 44348, 152304, NA, 181…\n",
      "$ DWEL_VAL \u001b[3m\u001b[90m<dbl>\u001b[39m\u001b[23m 1153369, 1667488, 1153646, 232647, 1153369, 667492, 1148184, …\n",
      "$ PROV     \u001b[3m\u001b[90m<fct>\u001b[39m\u001b[23m BC, BC, BC, BC, BC, BC, BC, BC, BC, BC, BC, BC, NT, BC, BC, B…\n",
      "$ CNDN_PCT \u001b[3m\u001b[90m<dbl>\u001b[39m\u001b[23m 0.7750000, 0.8596491, 0.9224806, 0.8000000, 0.7750000, 0.8682…\n",
      "$ ENG_PCT  \u001b[3m\u001b[90m<dbl>\u001b[39m\u001b[23m 0.6736402, 0.8070175, 0.8217054, 0.7777778, 0.6736402, 0.8384…\n",
      "$ OWN_PCT  \u001b[3m\u001b[90m<dbl>\u001b[39m\u001b[23m 0.7857143, 0.8709677, 0.2807018, 0.3647059, 0.7857143, 0.1975…\n",
      "$ SD_INC   \u001b[3m\u001b[90m<dbl>\u001b[39m\u001b[23m 529293.84, 215856.36, 919876.36, 83574.13, 529293.84, 64815.3…\n"
     ]
    }
   ],
   "source": [
    "# Zaladowanie pakietu dummies\n",
    "library(dummies)\n",
    "\n",
    "# Zaimportowanie zbioru danych z podaniem typów kolumn do zmiennej srodowiskowej \"Wesbrook\"\n",
    "Wesbrook <- read_csv('http://jolej.linuxpl.info/Wesbrook.csv', col_types = \"ifncfffffffffcffffinnnnnnnfnnnn\")\n",
    "\n",
    "# Wyswietlenie podgladu danych przechowywanych w obiekcie \"Wesbrook\"\n",
    "glimpse(Wesbrook)"
   ]
  },
  {
   "cell_type": "code",
   "execution_count": 3,
   "id": "ee24f6a3-c3e2-49dc-b43c-ef8e35a847e6",
   "metadata": {},
   "outputs": [],
   "source": [
    "#################\n",
    "# TRESC ZADANIA #\n",
    "#################\n",
    "\n",
    "# Dla 6 modeli przy ich wykorzystaniu zbudowac i sparametryzowac model klasyfikacyjny:\n",
    "# 1. K-najblizszych sasiadow\n",
    "# 2. Naiwnego klasyfikatora Bayesa\n",
    "# 3. Drzew klasyfikacyjnych\n",
    "# 4. Lasow Losowych (Random Forest)\n",
    "# 5. Algorytmu XGBoost\n",
    "# 6. Metody SVM\n",
    "\n",
    "# Dla kazdego z modeli wykonac ewaluacje z wykorzystaniem:\n",
    "# - macierzy pomylek\n",
    "# - krzywej ROC\n",
    "# - wspolczynnika AUC\n",
    "\n",
    "# Dla kazdego z modeli wykonac walidacje krzyzowa k-krotna oraz losowa\n",
    "\n",
    "# Sformuowac wnioski"
   ]
  },
  {
   "cell_type": "code",
   "execution_count": 4,
   "id": "a1625c36-9afa-4c2b-9717-b47a46eee09a",
   "metadata": {},
   "outputs": [
    {
     "name": "stdout",
     "output_type": "stream",
     "text": [
      "  MAJOR1  MARITAL  GRADYR1 FACULTY1    DEPT1 FRSTYEAR  AVE_INC   SD_INC \n",
      "    1964     1815      947      947      947      947       71       71 \n",
      "CNDN_PCT MOV_DWEL  HH_1PER  HH_2PER  HH_3PER HH_45PER DWEL_VAL  ENG_PCT \n",
      "      29       28       28       28       28       28       28       28 \n",
      " OWN_PCT     PROV       EA  INDUPDT       ID WESBROOK TOTLGIVE   PARENT \n",
      "      28       17       13       12        0        0        0        0 \n",
      "   CHILD   SPOUSE      SEX FACSTAFF  ATHLTCS BIGBLOCK OTHERACT \n",
      "       0        0        0        0        0        0        0 \n",
      "\u001b[90m# A tibble: 2,488 × 31\u001b[39m\n",
      "      ID WESBROOK TOTLGIVE INDUPDT    GRADYR1 FACULTY1 DEPT1 MAJOR1 PARENT CHILD\n",
      "   \u001b[3m\u001b[90m<int>\u001b[39m\u001b[23m \u001b[3m\u001b[90m<fct>\u001b[39m\u001b[23m       \u001b[3m\u001b[90m<dbl>\u001b[39m\u001b[23m \u001b[3m\u001b[90m<chr>\u001b[39m\u001b[23m      \u001b[3m\u001b[90m<fct>\u001b[39m\u001b[23m   \u001b[3m\u001b[90m<fct>\u001b[39m\u001b[23m    \u001b[3m\u001b[90m<fct>\u001b[39m\u001b[23m \u001b[3m\u001b[90m<fct>\u001b[39m\u001b[23m  \u001b[3m\u001b[90m<fct>\u001b[39m\u001b[23m  \u001b[3m\u001b[90m<fct>\u001b[39m\u001b[23m\n",
      "\u001b[90m 1\u001b[39m    88 Y           \u001b[4m2\u001b[24m\u001b[4m4\u001b[24m728 10/02/1995 1960    CO       CO    \u001b[31mNA\u001b[39m     Y      Y    \n",
      "\u001b[90m 2\u001b[39m   152 Y           \u001b[4m2\u001b[24m\u001b[4m3\u001b[24m500 07/21/1997 1988    PO       PO    \u001b[31mNA\u001b[39m     N      N    \n",
      "\u001b[90m 3\u001b[39m   158 Y            \u001b[4m7\u001b[24m600 12/21/1996 \u001b[31mNA\u001b[39m      \u001b[31mNA\u001b[39m       \u001b[31mNA\u001b[39m    \u001b[31mNA\u001b[39m     N      N    \n",
      "\u001b[90m 4\u001b[39m   159 Y           \u001b[4m2\u001b[24m\u001b[4m0\u001b[24m000 05/07/1997 1958    LA       LA    \u001b[31mNA\u001b[39m     Y      Y    \n",
      "\u001b[90m 5\u001b[39m   160 Y            \u001b[4m7\u001b[24m829 04/27/1993 \u001b[31mNA\u001b[39m      \u001b[31mNA\u001b[39m       \u001b[31mNA\u001b[39m    \u001b[31mNA\u001b[39m     Y      N    \n",
      "\u001b[90m 6\u001b[39m   169 Y            \u001b[4m2\u001b[24m476 12/08/1994 \u001b[31mNA\u001b[39m      \u001b[31mNA\u001b[39m       \u001b[31mNA\u001b[39m    \u001b[31mNA\u001b[39m     N      N    \n",
      "\u001b[90m 7\u001b[39m   206 Y            \u001b[4m5\u001b[24m000 07/21/1997 1993    PO       PO    \u001b[31mNA\u001b[39m     Y      Y    \n",
      "\u001b[90m 8\u001b[39m   209 Y           \u001b[4m1\u001b[24m\u001b[4m3\u001b[24m611 07/17/1992 1937    AR       AR    \u001b[31mNA\u001b[39m     Y      Y    \n",
      "\u001b[90m 9\u001b[39m   218 Y            \u001b[4m6\u001b[24m858 09/22/1997 1990    PO       PO    \u001b[31mNA\u001b[39m     Y      N    \n",
      "\u001b[90m10\u001b[39m   231 Y           \u001b[4m1\u001b[24m\u001b[4m6\u001b[24m445 07/18/1997 1958    CO       CO    \u001b[31mNA\u001b[39m     Y      N    \n",
      "\u001b[90m# ℹ 2,478 more rows\u001b[39m\n",
      "\u001b[90m# ℹ 21 more variables: SPOUSE <fct>, SEX <fct>, MARITAL <fct>, EA <chr>,\u001b[39m\n",
      "\u001b[90m#   FACSTAFF <fct>, ATHLTCS <fct>, BIGBLOCK <fct>, OTHERACT <fct>,\u001b[39m\n",
      "\u001b[90m#   FRSTYEAR <int>, MOV_DWEL <dbl>, HH_1PER <dbl>, HH_2PER <dbl>,\u001b[39m\n",
      "\u001b[90m#   HH_3PER <dbl>, HH_45PER <dbl>, AVE_INC <dbl>, DWEL_VAL <dbl>, PROV <fct>,\u001b[39m\n",
      "\u001b[90m#   CNDN_PCT <dbl>, ENG_PCT <dbl>, OWN_PCT <dbl>, SD_INC <dbl>\u001b[39m\n",
      "[1] 2488\n",
      "\n",
      "   M    W    S    D    G <NA> \n",
      " 588   38   86    5    1 1105 \n",
      "      ID WESBROOK TOTLGIVE  GRADYR1 FACULTY1   MAJOR1   PARENT    CHILD \n",
      "       0        0        0        0        0        0        0        0 \n",
      "  SPOUSE      SEX  MARITAL FACSTAFF  ATHLTCS OTHERACT FRSTYEAR MOV_DWEL \n",
      "       0        0        0        0        0        0        0        0 \n",
      " HH_1PER  HH_2PER  HH_3PER HH_45PER  AVE_INC DWEL_VAL     PROV CNDN_PCT \n",
      "       0        0        0        0        0        0        0        0 \n",
      " ENG_PCT  OWN_PCT   SD_INC \n",
      "       0        0        0 \n",
      "\u001b[90m# A tibble: 0 × 27\u001b[39m\n",
      "\u001b[90m# ℹ 27 variables: ID <int>, WESBROOK <fct>, TOTLGIVE <dbl>, GRADYR1 <fct>,\u001b[39m\n",
      "\u001b[90m#   FACULTY1 <fct>, MAJOR1 <fct>, PARENT <fct>, CHILD <fct>, SPOUSE <fct>,\u001b[39m\n",
      "\u001b[90m#   SEX <fct>, MARITAL <fct>, FACSTAFF <fct>, ATHLTCS <fct>, OTHERACT <fct>,\u001b[39m\n",
      "\u001b[90m#   FRSTYEAR <int>, MOV_DWEL <dbl>, HH_1PER <dbl>, HH_2PER <dbl>,\u001b[39m\n",
      "\u001b[90m#   HH_3PER <dbl>, HH_45PER <dbl>, AVE_INC <dbl>, DWEL_VAL <dbl>, PROV <fct>,\u001b[39m\n",
      "\u001b[90m#   CNDN_PCT <dbl>, ENG_PCT <dbl>, OWN_PCT <dbl>, SD_INC <dbl>\u001b[39m\n",
      "[1] 0\n"
     ]
    }
   ],
   "source": [
    "########################\n",
    "# Przygotowanie danych #\n",
    "########################\n",
    "\n",
    "# Sprawdzenie ile jest brakujacych wartosci\n",
    "print(sort(colSums(is.na(Wesbrook)), decreasing = TRUE))\n",
    "rows_with_na <- Wesbrook[rowSums(is.na(Wesbrook)) > 0, ]\n",
    "print(rows_with_na)\n",
    "print(nrow(rows_with_na))\n",
    "\n",
    "# Usuniecie kolumny DEPT1 - to powielenie kolumny FACULTY1\n",
    "Wesbrook <- Wesbrook %>% select(-DEPT1)\n",
    "\n",
    "# Usuniecie kolumny INDUPDT - zbedna dana\n",
    "Wesbrook <- Wesbrook %>% select(-INDUPDT)\n",
    "\n",
    "# Usuniecie kolumny EA - zbedna dana\n",
    "Wesbrook <- Wesbrook %>% select(-EA)\n",
    "\n",
    "# Usuniecie kolumny BIGBLOCK - nikt nie wzial udzialu w tym programie\n",
    "Wesbrook <- Wesbrook %>% select(-BIGBLOCK)\n",
    "\n",
    "# Usuniecie rekordow, ktore maja GRADYR1 jako NA\n",
    "Wesbrook <- Wesbrook %>%\n",
    "  filter(!is.na(GRADYR1))\n",
    "\n",
    "# Sprawdzenie wartosci dla kolumny MARITAL wraz z brakujacymi wartosciami\n",
    "print(table(Wesbrook$MARITAL, useNA = \"ifany\"))\n",
    "\n",
    "# Dla braku statusu malzenskiego przypisac wartosc \"S\"\n",
    "Wesbrook$MARITAL[is.na(Wesbrook$MARITAL)] <- \"S\"\n",
    "\n",
    "# Dla braku kodu przedmiotu MAJOR1 przypisac wartosc \"TBS\" - to be specified\n",
    "Wesbrook$MAJOR1 <- factor(Wesbrook$MAJOR1, levels = c(levels(Wesbrook$MAJOR1), \"TBS\"))\n",
    "Wesbrook$MAJOR1[is.na(Wesbrook$MAJOR1)] <- \"TBS\"\n",
    "\n",
    "# Ustawienie brakujacych wartosci sredniego dochodu AVE_INC jako srednia ze wszystkich wartosci\n",
    "Wesbrook$AVE_INC[is.na(Wesbrook$AVE_INC)] <- mean(Wesbrook$AVE_INC, na.rm = TRUE)\n",
    "\n",
    "# Ustawienie brakujacych wartosci odchylenia standardowego SD_INC jako srednia ze wszystkich wartosci\n",
    "Wesbrook$SD_INC[is.na(Wesbrook$SD_INC)] <- mean(Wesbrook$SD_INC, na.rm = TRUE)\n",
    "\n",
    "# Usuniecie pozostalych rekordow z brakujacymi wartosciami\n",
    "Wesbrook <- Wesbrook %>% drop_na()\n",
    "\n",
    "# Ponowsne sprawdzenie ile jest brakujacych wartosci\n",
    "print(sort(colSums(is.na(Wesbrook)), decreasing = TRUE))\n",
    "rows_with_na <- Wesbrook[rowSums(is.na(Wesbrook)) > 0, ]\n",
    "print(rows_with_na)\n",
    "print(nrow(rows_with_na))\n",
    "\n",
    "# Zapisanie kopii zbioru dla jego przywracania\n",
    "Wesbrook_backup <- Wesbrook"
   ]
  },
  {
   "cell_type": "code",
   "execution_count": 5,
   "id": "0ea776ee-8c09-4979-a3c1-a5477b29eb05",
   "metadata": {},
   "outputs": [],
   "source": [
    "##################################\n",
    "# 1. K-najblizszych sasiadow     #\n",
    "##################################"
   ]
  },
  {
   "cell_type": "code",
   "execution_count": 6,
   "id": "57195368-a86b-4478-b917-42f0ad8eff41",
   "metadata": {},
   "outputs": [
    {
     "data": {
      "text/html": [
       "<style>\n",
       ".list-inline {list-style: none; margin:0; padding: 0}\n",
       ".list-inline>li {display: inline-block}\n",
       ".list-inline>li:not(:last-child)::after {content: \"\\00b7\"; padding: 0 .5ex}\n",
       "</style>\n",
       "<ol class=list-inline><li>'ID'</li><li>'TOTLGIVE'</li><li>'GRADYR1'</li><li>'FACULTY1'</li><li>'MAJOR1'</li><li>'PARENT'</li><li>'CHILD'</li><li>'SPOUSE'</li><li>'SEX'</li><li>'MARITAL'</li><li>'FACSTAFF'</li><li>'ATHLTCS'</li><li>'OTHERACT'</li><li>'FRSTYEAR'</li><li>'MOV_DWEL'</li><li>'HH_1PER'</li><li>'HH_2PER'</li><li>'HH_3PER'</li><li>'HH_45PER'</li><li>'AVE_INC'</li><li>'DWEL_VAL'</li><li>'PROV'</li><li>'CNDN_PCT'</li><li>'ENG_PCT'</li><li>'OWN_PCT'</li><li>'SD_INC'</li></ol>\n"
      ],
      "text/latex": [
       "\\begin{enumerate*}\n",
       "\\item 'ID'\n",
       "\\item 'TOTLGIVE'\n",
       "\\item 'GRADYR1'\n",
       "\\item 'FACULTY1'\n",
       "\\item 'MAJOR1'\n",
       "\\item 'PARENT'\n",
       "\\item 'CHILD'\n",
       "\\item 'SPOUSE'\n",
       "\\item 'SEX'\n",
       "\\item 'MARITAL'\n",
       "\\item 'FACSTAFF'\n",
       "\\item 'ATHLTCS'\n",
       "\\item 'OTHERACT'\n",
       "\\item 'FRSTYEAR'\n",
       "\\item 'MOV\\_DWEL'\n",
       "\\item 'HH\\_1PER'\n",
       "\\item 'HH\\_2PER'\n",
       "\\item 'HH\\_3PER'\n",
       "\\item 'HH\\_45PER'\n",
       "\\item 'AVE\\_INC'\n",
       "\\item 'DWEL\\_VAL'\n",
       "\\item 'PROV'\n",
       "\\item 'CNDN\\_PCT'\n",
       "\\item 'ENG\\_PCT'\n",
       "\\item 'OWN\\_PCT'\n",
       "\\item 'SD\\_INC'\n",
       "\\end{enumerate*}\n"
      ],
      "text/markdown": [
       "1. 'ID'\n",
       "2. 'TOTLGIVE'\n",
       "3. 'GRADYR1'\n",
       "4. 'FACULTY1'\n",
       "5. 'MAJOR1'\n",
       "6. 'PARENT'\n",
       "7. 'CHILD'\n",
       "8. 'SPOUSE'\n",
       "9. 'SEX'\n",
       "10. 'MARITAL'\n",
       "11. 'FACSTAFF'\n",
       "12. 'ATHLTCS'\n",
       "13. 'OTHERACT'\n",
       "14. 'FRSTYEAR'\n",
       "15. 'MOV_DWEL'\n",
       "16. 'HH_1PER'\n",
       "17. 'HH_2PER'\n",
       "18. 'HH_3PER'\n",
       "19. 'HH_45PER'\n",
       "20. 'AVE_INC'\n",
       "21. 'DWEL_VAL'\n",
       "22. 'PROV'\n",
       "23. 'CNDN_PCT'\n",
       "24. 'ENG_PCT'\n",
       "25. 'OWN_PCT'\n",
       "26. 'SD_INC'\n",
       "\n",
       "\n"
      ],
      "text/plain": [
       " [1] \"ID\"       \"TOTLGIVE\" \"GRADYR1\"  \"FACULTY1\" \"MAJOR1\"   \"PARENT\"  \n",
       " [7] \"CHILD\"    \"SPOUSE\"   \"SEX\"      \"MARITAL\"  \"FACSTAFF\" \"ATHLTCS\" \n",
       "[13] \"OTHERACT\" \"FRSTYEAR\" \"MOV_DWEL\" \"HH_1PER\"  \"HH_2PER\"  \"HH_3PER\" \n",
       "[19] \"HH_45PER\" \"AVE_INC\"  \"DWEL_VAL\" \"PROV\"     \"CNDN_PCT\" \"ENG_PCT\" \n",
       "[25] \"OWN_PCT\"  \"SD_INC\"  "
      ]
     },
     "metadata": {},
     "output_type": "display_data"
    }
   ],
   "source": [
    "# -------------------- #\n",
    "# Przygotowanie danych #\n",
    "# -------------------- #\n",
    "\n",
    "# Usuniecie obiektow dla czystego startu modelu\n",
    "rm(list = setdiff(ls(), \"Wesbrook_backup\"))\n",
    "\n",
    "# Przywrocenie zbioru z kopii\n",
    "Wesbrook <- Wesbrook_backup\n",
    "\n",
    "### Normalizacja zmiennych numerycznych\n",
    "\n",
    "# Funkcja normalizujaca metoda min - max\n",
    "normalize <- function(x) {\n",
    "  if (min(x) == max(x)) {\n",
    "    return(rep(0, length(x)))\n",
    "  } else {\n",
    "    return((x - min(x)) / (max(x) - min(x)))\n",
    "  }\n",
    "}\n",
    "\n",
    "# Zastosowanie funkcji normalizujacej dla kazdej zmiennej numerycznej\n",
    "Wesbrook <- Wesbrook %>%\n",
    "  mutate(across(where(is.numeric), normalize))\n",
    "\n",
    "### Kodowanie zero jedynkowe zmiennych typu factor\n",
    "\n",
    "# Zmiana obiektu z tibble na data.frame\n",
    "Wesbrook <- data.frame(Wesbrook)\n",
    "\n",
    "# Wydzielenie ze zbioru zmiennej objasnianej\n",
    "Wesbrook_labels <- Wesbrook %>% select(WESBROOK)\n",
    "Wesbrook <- Wesbrook %>% select(-WESBROOK)\n",
    "\n",
    "# Podglad etykiet zmiennych\n",
    "colnames(Wesbrook)\n",
    "\n",
    "# Utworzenie ramki danych\n",
    "Wesbrook<-as.data.frame(Wesbrook)\n",
    "\n",
    "# Utworzenie zmiennych sztucznych dla zmiennych czynnikowych\n",
    "factor_columns <- names(Wesbrook)[sapply(Wesbrook, is.factor)]\n",
    "Wesbrook <- dummy.data.frame(data = Wesbrook, factor_columns, sep = \"_\")\n",
    "\n",
    "###  Podzial zbioru na treningowy i testowy w proporcjach 75% do 25%\n",
    "\n",
    "set.seed(1234)\n",
    "sample_index <-\n",
    "  sample(nrow(Wesbrook), round(nrow(Wesbrook) * .75), replace = FALSE)\n",
    "wesbrook_train <- Wesbrook[sample_index,]\n",
    "wesbrook_test <- Wesbrook[-sample_index,]\n",
    "\n",
    "# Powt?rzenie operacji dla zmiennej objasnianej heartDisease\n",
    "wesbrook_train_labels <- as.factor(Wesbrook_labels[sample_index,])\n",
    "wesbrook_test_labels <- as.factor(Wesbrook_labels[-sample_index,])\n",
    "\n",
    "# Wymuszenie takich samych poziomów dla obu zbiorów etykiet\n",
    "# Dla zmiennej numerycznej objasniajacej poziomy moga sie roznic przez rozne\n",
    "# kombinacje w kategoriach, brakujace w zbiorze testowym lub rozny ich porzadek \n",
    "# levels(wesbrook_test_labels) <- levels(wesbrook_train_labels)\n"
   ]
  },
  {
   "cell_type": "code",
   "execution_count": 7,
   "id": "8595643e-9ec0-41f6-b6d9-530276dd0c67",
   "metadata": {},
   "outputs": [
    {
     "data": {
      "text/html": [
       "<style>\n",
       ".list-inline {list-style: none; margin:0; padding: 0}\n",
       ".list-inline>li {display: inline-block}\n",
       ".list-inline>li:not(:last-child)::after {content: \"\\00b7\"; padding: 0 .5ex}\n",
       "</style>\n",
       "<ol class=list-inline><li>Y</li><li>Y</li><li>Y</li><li>Y</li><li>Y</li><li>Y</li></ol>\n",
       "\n",
       "<details>\n",
       "\t<summary style=display:list-item;cursor:pointer>\n",
       "\t\t<strong>Levels</strong>:\n",
       "\t</summary>\n",
       "\t<style>\n",
       "\t.list-inline {list-style: none; margin:0; padding: 0}\n",
       "\t.list-inline>li {display: inline-block}\n",
       "\t.list-inline>li:not(:last-child)::after {content: \"\\00b7\"; padding: 0 .5ex}\n",
       "\t</style>\n",
       "\t<ol class=list-inline><li>'Y'</li><li>'N'</li></ol>\n",
       "</details>"
      ],
      "text/latex": [
       "\\begin{enumerate*}\n",
       "\\item Y\n",
       "\\item Y\n",
       "\\item Y\n",
       "\\item Y\n",
       "\\item Y\n",
       "\\item Y\n",
       "\\end{enumerate*}\n",
       "\n",
       "\\emph{Levels}: \\begin{enumerate*}\n",
       "\\item 'Y'\n",
       "\\item 'N'\n",
       "\\end{enumerate*}\n"
      ],
      "text/markdown": [
       "1. Y\n",
       "2. Y\n",
       "3. Y\n",
       "4. Y\n",
       "5. Y\n",
       "6. Y\n",
       "\n",
       "\n",
       "\n",
       "**Levels**: 1. 'Y'\n",
       "2. 'N'\n",
       "\n",
       "\n"
      ],
      "text/plain": [
       "[1] Y Y Y Y Y Y\n",
       "Levels: Y N"
      ]
     },
     "metadata": {},
     "output_type": "display_data"
    }
   ],
   "source": [
    "# ---------------- #\n",
    "# Tworzenie modelu #\n",
    "# ---------------- #\n",
    "\n",
    "# Deklaracja wartosci k\n",
    "k <- 15\n",
    "\n",
    "### Budowa modelu KNN za pomoca funkcji knn() z pakietu class\n",
    "wesbrook_pred1 <-\n",
    "  knn(\n",
    "    train = wesbrook_train,\n",
    "    test = wesbrook_test,\n",
    "    cl = wesbrook_train_labels,\n",
    "    k = k\n",
    "  )\n",
    "\n",
    "# Podejrzenie pierwszych 6 elementów modelu\n",
    "head(wesbrook_pred1)\n"
   ]
  },
  {
   "cell_type": "code",
   "execution_count": 8,
   "id": "50309492-3e77-44fb-a25b-ea38b135f7ad",
   "metadata": {},
   "outputs": [
    {
     "data": {
      "text/plain": [
       "Confusion Matrix and Statistics\n",
       "\n",
       "          Reference\n",
       "Prediction   Y   N\n",
       "         Y  89  39\n",
       "         N  96 228\n",
       "                                          \n",
       "               Accuracy : 0.7013          \n",
       "                 95% CI : (0.6568, 0.7432)\n",
       "    No Information Rate : 0.5907          \n",
       "    P-Value [Acc > NIR] : 7.169e-07       \n",
       "                                          \n",
       "                  Kappa : 0.3517          \n",
       "                                          \n",
       " Mcnemar's Test P-Value : 1.438e-06       \n",
       "                                          \n",
       "            Sensitivity : 0.4811          \n",
       "            Specificity : 0.8539          \n",
       "         Pos Pred Value : 0.6953          \n",
       "         Neg Pred Value : 0.7037          \n",
       "             Prevalence : 0.4093          \n",
       "         Detection Rate : 0.1969          \n",
       "   Detection Prevalence : 0.2832          \n",
       "      Balanced Accuracy : 0.6675          \n",
       "                                          \n",
       "       'Positive' Class : Y               \n",
       "                                          "
      ]
     },
     "metadata": {},
     "output_type": "display_data"
    },
    {
     "data": {
      "text/html": [
       "0.758588926004656"
      ],
      "text/latex": [
       "0.758588926004656"
      ],
      "text/markdown": [
       "0.758588926004656"
      ],
      "text/plain": [
       "[1] 0.7585889"
      ]
     },
     "metadata": {},
     "output_type": "display_data"
    },
    {
     "data": {
      "image/png": "[encoded data removed]",
      "text/plain": [
       "Plot with title \"ROC Curve\""
      ]
     },
     "metadata": {
      "image/png": {
       "height": 420,
       "width": 420
      }
     },
     "output_type": "display_data"
    }
   ],
   "source": [
    "# ---------------- #\n",
    "# Ewaluacja modelu #\n",
    "# ---------------- #\n",
    "\n",
    "### 1. Ewaluacja z wykorzystaniem macierzy pomylek\n",
    "confusionMatrix(wesbrook_pred1, wesbrook_test_labels)\n",
    "\n",
    "### 2. Ewaluacja z wykorzystaniem krzywej ROC\n",
    "\n",
    "# Trening modelu KNN\n",
    "knn_model <- train(\n",
    "  x = wesbrook_train, \n",
    "  y = wesbrook_train_labels, \n",
    "  method = \"knn\", \n",
    "  trControl = trainControl(method = \"cv\", number = 10),\n",
    "  tuneGrid = expand.grid(k = k)  # Określenie wartości k\n",
    ")\n",
    "\n",
    "wesbrook_pred_p <- predict(knn_model, wesbrook_test, type = \"prob\")\n",
    "\n",
    "roc_pred <-\n",
    "  prediction(\n",
    "    predictions = wesbrook_pred_p[, \"Y\"],\n",
    "    labels = wesbrook_test_labels\n",
    "  )\n",
    "\n",
    "roc_perf <- performance(roc_pred, measure = \"tpr\", x.measure = \"fpr\")\n",
    "\n",
    "plot(roc_perf, main = \"ROC Curve\", col = \"red\", lwd = 3)\n",
    "abline(a = 0, b = 1, lwd = 3, lty = 2, col = 1)\n",
    "\n",
    "### 3. Ewaluacja z wykorzystaniem wspolczynnika AUC\n",
    "\n",
    "# Obliczanie pola pod krzywa ROC\n",
    "\n",
    "# Wygenerowanie obiektu wydajnosci z parametrem measure = \"auc\"\n",
    "auc_perf <- performance(roc_pred, measure = \"auc\")\n",
    "\n",
    "# Wydobycie wartosci y.values ze slotu z obiektu auc_perf\n",
    "wesbrook_auc <- unlist(slot(auc_perf,\"y.values\"))\n",
    "wesbrook_auc\n"
   ]
  },
  {
   "cell_type": "code",
   "execution_count": 9,
   "id": "47de1495-bfeb-494a-88cf-57adb35763bc",
   "metadata": {},
   "outputs": [
    {
     "name": "stdout",
     "output_type": "stream",
     "text": [
      "k-Nearest Neighbors \n",
      "\n",
      "1356 samples\n",
      " 271 predictor\n",
      "   2 classes: 'Y', 'N' \n",
      "\n",
      "No pre-processing\n",
      "Resampling: Cross-Validated (10 fold) \n",
      "Summary of sample sizes: 1220, 1220, 1221, 1220, 1221, 1220, ... \n",
      "Resampling results across tuning parameters:\n",
      "\n",
      "  k  Accuracy   Kappa    \n",
      "  5  0.7433442  0.4598817\n",
      "  7  0.7477614  0.4678626\n",
      "  9  0.7529466  0.4783379\n",
      "\n",
      "Accuracy was used to select the optimal model using the largest value.\n",
      "The final value used for the model was k = 9.\n",
      "k-Nearest Neighbors \n",
      "\n",
      "1356 samples\n",
      " 271 predictor\n",
      "   2 classes: 'Y', 'N' \n",
      "\n",
      "No pre-processing\n",
      "Resampling: Bootstrapped (100 reps) \n",
      "Summary of sample sizes: 1356, 1356, 1356, 1356, 1356, 1356, ... \n",
      "Resampling results across tuning parameters:\n",
      "\n",
      "  k  Accuracy   Kappa    \n",
      "  5  0.7118252  0.3978292\n",
      "  7  0.7237222  0.4215674\n",
      "  9  0.7278074  0.4295137\n",
      "\n",
      "Accuracy was used to select the optimal model using the largest value.\n",
      "The final value used for the model was k = 9.\n"
     ]
    }
   ],
   "source": [
    "# ---------------- #\n",
    "# Walidacja modelu #\n",
    "# ---------------- #\n",
    "\n",
    "### Walidacja krzyzowa k-krotna\n",
    "knn_cv <- train(\n",
    "  x = wesbrook_train, \n",
    "  y = wesbrook_train_labels, \n",
    "  method = \"knn\", \n",
    "  trControl = trainControl(method = \"cv\", number = 10)\n",
    ")\n",
    "print(knn_cv)\n",
    "\n",
    "### Walidacja krzyzowa losowa\n",
    "knn_boot <- train(\n",
    "  x = wesbrook_train, \n",
    "  y = wesbrook_train_labels, \n",
    "  method = \"knn\", \n",
    "  trControl = trainControl(method = \"boot\", number = 100)\n",
    ")\n",
    "print(knn_boot)\n"
   ]
  },
  {
   "cell_type": "code",
   "execution_count": 10,
   "id": "f1dd067d-14a4-4388-85a9-0e17d6129ec9",
   "metadata": {},
   "outputs": [],
   "source": [
    "##################################\n",
    "# 2. Naiwny klasyfikator Bayesa  #\n",
    "##################################"
   ]
  },
  {
   "cell_type": "code",
   "execution_count": 11,
   "id": "bc92d18c-4021-458e-b195-f1323f631cd5",
   "metadata": {},
   "outputs": [
    {
     "data": {
      "text/plain": [
       "WESBROOK\n",
       "   Y    N \n",
       "0.41 0.59 "
      ]
     },
     "metadata": {},
     "output_type": "display_data"
    },
    {
     "data": {
      "text/plain": [
       "WESBROOK\n",
       "   Y    N \n",
       "0.41 0.59 "
      ]
     },
     "metadata": {},
     "output_type": "display_data"
    },
    {
     "data": {
      "text/plain": [
       "WESBROOK\n",
       "   Y    N \n",
       "0.41 0.59 "
      ]
     },
     "metadata": {},
     "output_type": "display_data"
    }
   ],
   "source": [
    "# -------------------- #\n",
    "# Przygotowanie danych #\n",
    "# -------------------- #\n",
    "\n",
    "# Usuniecie obiektow dla czystego startu modelu\n",
    "rm(list = setdiff(ls(), \"Wesbrook_backup\"))\n",
    "\n",
    "# Przywrocenie zbioru z kopii\n",
    "Wesbrook <- Wesbrook_backup\n",
    "\n",
    "###  Podzial zbioru na treningowy i testowy w proporcjach 75% do 25%\n",
    "\n",
    "set.seed(1234)\n",
    "sample_index <-\n",
    "  sample(nrow(Wesbrook), round(nrow(Wesbrook) * .75), replace = FALSE)\n",
    "wesbrook_train <- Wesbrook[sample_index,]\n",
    "wesbrook_test <- Wesbrook[-sample_index,]\n",
    "\n",
    "# Sprawdzenie proporcji klas dla wszystkich trzech zbiorow\n",
    "round(prop.table(table(select(Wesbrook, WESBROOK))),2)\n",
    "round(prop.table(table(select(wesbrook_train, WESBROOK))),2)\n",
    "round(prop.table(table(select(wesbrook_test, WESBROOK))),2)\n"
   ]
  },
  {
   "cell_type": "code",
   "execution_count": 12,
   "id": "bb45c0ec-df0c-4bf8-88a3-57c3ebc57dad",
   "metadata": {},
   "outputs": [
    {
     "data": {
      "text/plain": [
       "\n",
       "Naive Bayes Classifier for Discrete Predictors\n",
       "\n",
       "Call:\n",
       "naiveBayes.default(x = X, y = Y, laplace = laplace)\n",
       "\n",
       "A-priori probabilities:\n",
       "Y\n",
       "       Y        N \n",
       "0.410767 0.589233 \n",
       "\n",
       "Conditional probabilities:\n",
       "   ID\n",
       "Y        [,1]     [,2]\n",
       "  Y  60984.95 39675.91\n",
       "  N 101814.70 65827.81\n",
       "\n",
       "   TOTLGIVE\n",
       "Y        [,1]       [,2]\n",
       "  Y 6802.5727 13907.0770\n",
       "  N  321.0839   611.3896\n",
       "\n",
       "   GRADYR1\n",
       "Y          1960        1988        1949        1958        1993        1937\n",
       "  Y 0.036277603 0.009463722 0.018927445 0.020504732 0.007886435 0.009463722\n",
       "  N 0.014840183 0.017123288 0.010273973 0.003424658 0.030821918 0.003424658\n",
       "   GRADYR1\n",
       "Y          1990        1971        1970        1964        1962        1965\n",
       "  Y 0.004731861 0.022082019 0.020504732 0.014195584 0.028391167 0.026813880\n",
       "  N 0.022831050 0.017123288 0.014840183 0.005707763 0.005707763 0.010273973\n",
       "   GRADYR1\n",
       "Y          1974        1972        1976        1975        1956        1967\n",
       "  Y 0.017350158 0.022082019 0.020504732 0.018927445 0.034700315 0.022082019\n",
       "  N 0.014840183 0.022831050 0.017123288 0.022831050 0.006849315 0.011415525\n",
       "   GRADYR1\n",
       "Y          1961        1959        1973        1963        1980        1968\n",
       "  Y 0.015772871 0.026813880 0.028391167 0.018927445 0.009463722 0.028391167\n",
       "  N 0.009132420 0.010273973 0.023972603 0.015981735 0.018264840 0.015981735\n",
       "   GRADYR1\n",
       "Y          1969        1955        1981        1957        1989        1979\n",
       "  Y 0.029968454 0.020504732 0.017350158 0.015772871 0.012618297 0.018927445\n",
       "  N 0.018264840 0.006849315 0.018264840 0.006849315 0.025114155 0.026255708\n",
       "   GRADYR1\n",
       "Y          1978        1983        1977        1996        1966        1954\n",
       "  Y 0.020504732 0.020504732 0.022082019 0.004731861 0.012618297 0.014195584\n",
       "  N 0.018264840 0.017123288 0.027397260 0.035388128 0.013698630 0.006849315\n",
       "   GRADYR1\n",
       "Y          1986        1994        1985        1992        1982        1984\n",
       "  Y 0.011041009 0.007886435 0.009463722 0.009463722 0.015772871 0.015772871\n",
       "  N 0.020547945 0.034246575 0.022831050 0.021689498 0.020547945 0.026255708\n",
       "   GRADYR1\n",
       "Y          1953        1991        1952        1998        1987        1997\n",
       "  Y 0.012618297 0.006309148 0.020504732 0.004731861 0.011041009 0.003154574\n",
       "  N 0.003424658 0.027397260 0.007990868 0.041095890 0.020547945 0.026255708\n",
       "   GRADYR1\n",
       "Y          1947        1921        1951        1931        1950        1948\n",
       "  Y 0.018927445 0.001577287 0.014195584 0.003154574 0.017350158 0.025236593\n",
       "  N 0.003424658 0.001141553 0.005707763 0.001141553 0.015981735 0.004566210\n",
       "   GRADYR1\n",
       "Y          1934        1939        1943        1941        1946        1938\n",
       "  Y 0.004731861 0.006309148 0.004731861 0.004731861 0.006309148 0.006309148\n",
       "  N 0.001141553 0.002283105 0.003424658 0.002283105 0.007990868 0.004566210\n",
       "   GRADYR1\n",
       "Y          1945        1929        1936        1925        1926        1923\n",
       "  Y 0.007886435 0.003154574 0.004731861 0.001577287 0.003154574 0.003154574\n",
       "  N 0.004566210 0.002283105 0.001141553 0.001141553 0.001141553 0.001141553\n",
       "   GRADYR1\n",
       "Y          1930        1933        1944        1940        1932        1927\n",
       "  Y 0.001577287 0.004731861 0.003154574 0.003154574 0.006309148 0.003154574\n",
       "  N 0.002283105 0.001141553 0.005707763 0.002283105 0.001141553 0.002283105\n",
       "   GRADYR1\n",
       "Y          1928        1935        1942        1995        1999\n",
       "  Y 0.003154574 0.001577287 0.007886435 0.006309148 0.001577287\n",
       "  N 0.001141553 0.001141553 0.001141553 0.045662100 0.031963470\n",
       "\n",
       "   FACULTY1\n",
       "Y            CO          PO          AP          LA          AR          FR\n",
       "  Y 0.089473684 0.021052632 0.050877193 0.240350877 0.175438596 0.021052632\n",
       "  N 0.089901478 0.002463054 0.135467980 0.052955665 0.158866995 0.027093596\n",
       "   FACULTY1\n",
       "Y            GR          ME          PH          AG          DE          ED\n",
       "  Y 0.170175439 0.105263158 0.005263158 0.014035088 0.029824561 0.059649123\n",
       "  N 0.214285714 0.056650246 0.044334975 0.035714286 0.018472906 0.097290640\n",
       "   FACULTY1\n",
       "Y            SC\n",
       "  Y 0.017543860\n",
       "  N 0.066502463\n",
       "\n",
       "   MAJOR1\n",
       "Y          CIVL        GEOE        SOWK        HIST        ANTH        ELEC\n",
       "  Y 0.018597997 0.007153076 0.001430615 0.012875536 0.005722461 0.005722461\n",
       "  N 0.027630181 0.005313496 0.001062699 0.008501594 0.006376196 0.028692880\n",
       "   MAJOR1\n",
       "Y          GEOG        BIOC        PHYS        DIET        SOIL        PHIL\n",
       "  Y 0.012875536 0.002861230 0.014306152 0.001430615 0.004291845 0.001430615\n",
       "  N 0.009564293 0.004250797 0.004250797 0.004250797 0.004250797 0.002125399\n",
       "   MAJOR1\n",
       "Y          FORE        MECH        SOCI        CHML        ACCT        TSED\n",
       "  Y 0.001430615 0.007153076 0.005722461 0.005722461 0.005722461 0.002861230\n",
       "  N 0.003188098 0.024442083 0.005313496 0.009564293 0.007438895 0.002125399\n",
       "   MAJOR1\n",
       "Y          ADED        GEOL        BOTA        POLI        CHEM        MBA2\n",
       "  Y 0.002861230 0.004291845 0.002861230 0.002861230 0.007153076 0.001430615\n",
       "  N 0.006376196 0.012752391 0.003188098 0.006376196 0.008501594 0.005313496\n",
       "   MAJOR1\n",
       "Y          AGME        CPSC        SPAN        TESL        ENPH        ENGL\n",
       "  Y 0.001430615 0.007153076 0.002861230 0.002861230 0.004291845 0.017167382\n",
       "  N 0.001062699 0.008501594 0.001062699 0.001062699 0.007438895 0.023379384\n",
       "   MAJOR1\n",
       "Y          MATH        MKTG        FINC        INED        PSYC        EDUC\n",
       "  Y 0.007153076 0.007153076 0.008583691 0.001430615 0.008583691 0.002861230\n",
       "  N 0.009564293 0.009564293 0.015940489 0.001062699 0.017003188 0.007438895\n",
       "   MAJOR1\n",
       "Y          MUED        CLAS        FREN        PLAN        FINA        ENED\n",
       "  Y 0.001430615 0.002861230 0.005722461 0.004291845 0.005722461 0.001430615\n",
       "  N 0.002125399 0.002125399 0.005313496 0.002125399 0.005313496 0.004250797\n",
       "   MAJOR1\n",
       "Y          GEOP        READ        PRED        ZOOL        SPED        PDNT\n",
       "  Y 0.001430615 0.001430615 0.002861230 0.005722461 0.001430615 0.002861230\n",
       "  N 0.002125399 0.002125399 0.004250797 0.004250797 0.004250797 0.001062699\n",
       "   MAJOR1\n",
       "Y          LIBE        EADM        INDS        SSGE        BIOL        HSPL\n",
       "  Y 0.001430615 0.001430615 0.004291845 0.001430615 0.002861230 0.002861230\n",
       "  N 0.004250797 0.003188098 0.002125399 0.002125399 0.013815090 0.002125399\n",
       "   MAJOR1\n",
       "Y          ECED        ECON        ARTE         LAW        PLNT        UREC\n",
       "  Y 0.001430615 0.007153076 0.001430615 0.002861230 0.002861230 0.002861230\n",
       "  N 0.003188098 0.012752391 0.001062699 0.001062699 0.002125399 0.008501594\n",
       "   MAJOR1\n",
       "Y          LING        FRST        FORM        HUNU        THTR        METL\n",
       "  Y 0.001430615 0.002861230 0.002861230 0.001430615 0.002861230 0.002861230\n",
       "  N 0.002125399 0.005313496 0.010626993 0.002125399 0.002125399 0.004250797\n",
       "   MAJOR1\n",
       "Y          COML        MICB        IMED        SURG        CRWR        AGEN\n",
       "  Y 0.002861230 0.004291845 0.001430615 0.001430615 0.002861230 0.001430615\n",
       "  N 0.002125399 0.008501594 0.004250797 0.001062699 0.001062699 0.001062699\n",
       "   MAJOR1\n",
       "Y          TRUT        OBIR        ANSC        EDSP        EDCI        GENP\n",
       "  Y 0.001430615 0.002861230 0.002861230 0.001430615 0.001430615 0.001430615\n",
       "  N 0.004250797 0.002125399 0.003188098 0.001062699 0.002125399 0.003188098\n",
       "   MAJOR1\n",
       "Y          FOOD        BACT        INTR        NURS        AUDI        MING\n",
       "  Y 0.002861230 0.007153076 0.002861230 0.004291845 0.001430615 0.002861230\n",
       "  N 0.003188098 0.001062699 0.008501594 0.003188098 0.002125399 0.001062699\n",
       "   MAJOR1\n",
       "Y          MAED        PCTH        AGEC        PHAR        POUL        DAIR\n",
       "  Y 0.001430615 0.001430615 0.001430615 0.001430615 0.001430615 0.001430615\n",
       "  N 0.002125399 0.001062699 0.003188098 0.001062699 0.001062699 0.001062699\n",
       "   MAJOR1\n",
       "Y          RELG        CRFL        GUID        FORB        BIOE        H/IR\n",
       "  Y 0.001430615 0.001430615 0.001430615 0.001430615 0.001430615 0.002861230\n",
       "  N 0.002125399 0.002125399 0.002125399 0.002125399 0.003188098 0.001062699\n",
       "   MAJOR1\n",
       "Y          GMUS        JAPN        FMSC        MGIS        CLST        AMIS\n",
       "  Y 0.001430615 0.001430615 0.001430615 0.001430615 0.001430615 0.001430615\n",
       "  N 0.002125399 0.002125399 0.004250797 0.001062699 0.003188098 0.005313496\n",
       "   MAJOR1\n",
       "Y          ORIN        STAT        MSED        UNKN        SCED        PREF\n",
       "  Y 0.001430615 0.001430615 0.001430615 0.001430615 0.001430615 0.001430615\n",
       "  N 0.002125399 0.003188098 0.002125399 0.002125399 0.001062699 0.002125399\n",
       "   MAJOR1\n",
       "Y          NBAS        LESA        ANAT        CMLA        ERSC        HRBI\n",
       "  Y 0.001430615 0.001430615 0.002861230 0.002861230 0.001430615 0.001430615\n",
       "  N 0.002125399 0.001062699 0.001062699 0.002125399 0.002125399 0.002125399\n",
       "   MAJOR1\n",
       "Y          IMEF        NBNC        SSSS        MBAE        FMST        PGEO\n",
       "  Y 0.001430615 0.001430615 0.001430615 0.001430615 0.001430615 0.001430615\n",
       "  N 0.003188098 0.002125399 0.002125399 0.002125399 0.002125399 0.002125399\n",
       "   MAJOR1\n",
       "Y          BISC        WMGT        PHED        ARTH        GERM        INDR\n",
       "  Y 0.001430615 0.001430615 0.001430615 0.001430615 0.001430615 0.001430615\n",
       "  N 0.003188098 0.002125399 0.004250797 0.004250797 0.002125399 0.002125399\n",
       "   MAJOR1\n",
       "Y          PATH        ASAS        EXSC        FORS        CNPS        MGSC\n",
       "  Y 0.002861230 0.001430615 0.001430615 0.001430615 0.001430615 0.001430615\n",
       "  N 0.001062699 0.004250797 0.002125399 0.002125399 0.003188098 0.002125399\n",
       "   MAJOR1\n",
       "Y          HEFI        TLOG        MASC        REUD        SCMG        LESM\n",
       "  Y 0.001430615 0.001430615 0.001430615 0.001430615 0.001430615 0.001430615\n",
       "  N 0.002125399 0.001062699 0.001062699 0.001062699 0.002125399 0.002125399\n",
       "   MAJOR1\n",
       "Y          INRS        NUSC        ISCI         TBS\n",
       "  Y 0.001430615 0.001430615 0.001430615 0.570815451\n",
       "  N 0.002125399 0.002125399 0.001062699 0.395324123\n",
       "\n",
       "   PARENT\n",
       "Y            Y          N\n",
       "  Y 0.18067979 0.81932021\n",
       "  N 0.03620474 0.96379526\n",
       "\n",
       "   CHILD\n",
       "Y            Y          N\n",
       "  Y 0.06082290 0.93917710\n",
       "  N 0.01872659 0.98127341\n",
       "\n",
       "   SPOUSE\n",
       "Y           Y         N\n",
       "  Y 0.5187835 0.4812165\n",
       "  N 0.3096130 0.6903870\n",
       "\n",
       "   SEX\n",
       "Y           M         F\n",
       "  Y 0.7173524 0.2826476\n",
       "  N 0.5405743 0.4594257\n",
       "\n",
       "   MARITAL\n",
       "Y             M           W           S           D           G\n",
       "  Y 0.464412811 0.035587189 0.492882562 0.003558719 0.003558719\n",
       "  N 0.233830846 0.009950249 0.750000000 0.004975124 0.001243781\n",
       "\n",
       "   FACSTAFF\n",
       "Y            N          Y\n",
       "  Y 0.85867621 0.14132379\n",
       "  N 0.98751561 0.01248439\n",
       "\n",
       "   ATHLTCS\n",
       "Y            Y          N\n",
       "  Y 0.13774597 0.86225403\n",
       "  N 0.06491885 0.93508115\n",
       "\n",
       "   OTHERACT\n",
       "Y            N          Y\n",
       "  Y 0.74418605 0.25581395\n",
       "  N 0.92009988 0.07990012\n",
       "\n",
       "   FRSTYEAR\n",
       "Y       [,1]     [,2]\n",
       "  Y 1963.474 14.11266\n",
       "  N 1978.056 15.24481\n",
       "\n",
       "   MOV_DWEL\n",
       "Y          [,1]       [,2]\n",
       "  Y 0.003249797 0.02443921\n",
       "  N 0.004533736 0.03721276\n",
       "\n",
       "   HH_1PER\n",
       "Y        [,1]      [,2]\n",
       "  Y 0.2276988 0.1710382\n",
       "  N 0.2221682 0.1666313\n",
       "\n",
       "   HH_2PER\n",
       "Y        [,1]       [,2]\n",
       "  Y 0.3311994 0.08844950\n",
       "  N 0.3213558 0.08684892\n",
       "\n",
       "   HH_3PER\n",
       "Y        [,1]       [,2]\n",
       "  Y 0.1470613 0.05592376\n",
       "  N 0.1546761 0.05842188\n",
       "\n",
       "   HH_45PER\n",
       "Y        [,1]      [,2]\n",
       "  Y 0.2502458 0.1351916\n",
       "  N 0.2596253 0.1401092\n",
       "\n",
       "   AVE_INC\n",
       "Y       [,1]     [,2]\n",
       "  Y 90461.37 40393.74\n",
       "  N 68495.70 31499.77\n",
       "\n",
       "   DWEL_VAL\n",
       "Y       [,1]     [,2]\n",
       "  Y 542859.0 315819.0\n",
       "  N 344759.7 201390.4\n",
       "\n",
       "   PROV\n",
       "Y            BC          NT          ON          AB          QC          MB\n",
       "  Y 0.888888889 0.001763668 0.068783069 0.024691358 0.003527337 0.003527337\n",
       "  N 0.847960445 0.003708282 0.070457355 0.039555006 0.009888752 0.006180470\n",
       "   PROV\n",
       "Y            NS          SK          NF          NB\n",
       "  Y 0.003527337 0.001763668 0.001763668 0.001763668\n",
       "  N 0.006180470 0.008652658 0.003708282 0.003708282\n",
       "\n",
       "   CNDN_PCT\n",
       "Y        [,1]       [,2]\n",
       "  Y 0.8815865 0.07417760\n",
       "  N 0.8883883 0.08631672\n",
       "\n",
       "   ENG_PCT\n",
       "Y        [,1]      [,2]\n",
       "  Y 0.8265431 0.1433277\n",
       "  N 0.8081360 0.1862714\n",
       "\n",
       "   OWN_PCT\n",
       "Y        [,1]      [,2]\n",
       "  Y 0.7198077 0.2325273\n",
       "  N 0.7015507 0.2412336\n",
       "\n",
       "   SD_INC\n",
       "Y       [,1]     [,2]\n",
       "  Y 184904.0 140606.3\n",
       "  N 119357.5 143588.8\n"
      ]
     },
     "metadata": {},
     "output_type": "display_data"
    },
    {
     "data": {
      "text/html": [
       "<style>\n",
       ".list-inline {list-style: none; margin:0; padding: 0}\n",
       ".list-inline>li {display: inline-block}\n",
       ".list-inline>li:not(:last-child)::after {content: \"\\00b7\"; padding: 0 .5ex}\n",
       "</style>\n",
       "<ol class=list-inline><li>Y</li><li>Y</li><li>Y</li><li>Y</li><li>Y</li><li>Y</li></ol>\n",
       "\n",
       "<details>\n",
       "\t<summary style=display:list-item;cursor:pointer>\n",
       "\t\t<strong>Levels</strong>:\n",
       "\t</summary>\n",
       "\t<style>\n",
       "\t.list-inline {list-style: none; margin:0; padding: 0}\n",
       "\t.list-inline>li {display: inline-block}\n",
       "\t.list-inline>li:not(:last-child)::after {content: \"\\00b7\"; padding: 0 .5ex}\n",
       "\t</style>\n",
       "\t<ol class=list-inline><li>'Y'</li><li>'N'</li></ol>\n",
       "</details>"
      ],
      "text/latex": [
       "\\begin{enumerate*}\n",
       "\\item Y\n",
       "\\item Y\n",
       "\\item Y\n",
       "\\item Y\n",
       "\\item Y\n",
       "\\item Y\n",
       "\\end{enumerate*}\n",
       "\n",
       "\\emph{Levels}: \\begin{enumerate*}\n",
       "\\item 'Y'\n",
       "\\item 'N'\n",
       "\\end{enumerate*}\n"
      ],
      "text/markdown": [
       "1. Y\n",
       "2. Y\n",
       "3. Y\n",
       "4. Y\n",
       "5. Y\n",
       "6. Y\n",
       "\n",
       "\n",
       "\n",
       "**Levels**: 1. 'Y'\n",
       "2. 'N'\n",
       "\n",
       "\n"
      ],
      "text/plain": [
       "[1] Y Y Y Y Y Y\n",
       "Levels: Y N"
      ]
     },
     "metadata": {},
     "output_type": "display_data"
    }
   ],
   "source": [
    "# ---------------- #\n",
    "# Tworzenie modelu #\n",
    "# ---------------- #\n",
    "\n",
    "### Budowa modelu za pomoca funkcji naiveBayes() z pakietu e1071\n",
    "wesbrook_mod <- naiveBayes(WESBROOK ~ ., data = wesbrook_train, laplace = 1)\n",
    "wesbrook_mod\n",
    "\n",
    "# Podstawienie danych testowych do modelu\n",
    "\n",
    "wesbrook_pred <- predict(wesbrook_mod, wesbrook_test, type = \"class\")\n",
    "head(wesbrook_pred)\n"
   ]
  },
  {
   "cell_type": "code",
   "execution_count": 13,
   "id": "bfe670e6-d2c1-459a-8368-2f600e9e31c8",
   "metadata": {},
   "outputs": [
    {
     "data": {
      "text/plain": [
       "Confusion Matrix and Statistics\n",
       "\n",
       "          Reference\n",
       "Prediction   Y   N\n",
       "         Y 153  41\n",
       "         N  32 226\n",
       "                                          \n",
       "               Accuracy : 0.8385          \n",
       "                 95% CI : (0.8013, 0.8712)\n",
       "    No Information Rate : 0.5907          \n",
       "    P-Value [Acc > NIR] : <2e-16          \n",
       "                                          \n",
       "                  Kappa : 0.6685          \n",
       "                                          \n",
       " Mcnemar's Test P-Value : 0.3491          \n",
       "                                          \n",
       "            Sensitivity : 0.8270          \n",
       "            Specificity : 0.8464          \n",
       "         Pos Pred Value : 0.7887          \n",
       "         Neg Pred Value : 0.8760          \n",
       "             Prevalence : 0.4093          \n",
       "         Detection Rate : 0.3385          \n",
       "   Detection Prevalence : 0.4292          \n",
       "      Balanced Accuracy : 0.8367          \n",
       "                                          \n",
       "       'Positive' Class : Y               \n",
       "                                          "
      ]
     },
     "metadata": {},
     "output_type": "display_data"
    },
    {
     "data": {
      "text/html": [
       "0.932280595201945"
      ],
      "text/latex": [
       "0.932280595201945"
      ],
      "text/markdown": [
       "0.932280595201945"
      ],
      "text/plain": [
       "[1] 0.9322806"
      ]
     },
     "metadata": {},
     "output_type": "display_data"
    },
    {
     "data": {
      "image/png": "[encoded data removed]",
      "text/plain": [
       "Plot with title \"ROC Curve\""
      ]
     },
     "metadata": {
      "image/png": {
       "height": 420,
       "width": 420
      }
     },
     "output_type": "display_data"
    }
   ],
   "source": [
    "# ---------------- #\n",
    "# Ewaluacja modelu #\n",
    "# ---------------- #\n",
    "\n",
    "### 1. Ewaluacja z wykorzystaniem macierzy pomylek\n",
    "confusionMatrix(wesbrook_pred, wesbrook_test$WESBROOK)\n",
    "\n",
    "### 2. Ewaluacja z wykorzystaniem krzywej ROC\n",
    "\n",
    "wesbrook_pred_p <- predict(wesbrook_mod, wesbrook_test, type = \"raw\")\n",
    "\n",
    "roc_pred <-\n",
    "  prediction(\n",
    "    predictions = wesbrook_pred_p[, \"Y\"],\n",
    "    labels = wesbrook_test$WESBROOK\n",
    "  )\n",
    "\n",
    "roc_perf <- performance(roc_pred, measure = \"tpr\", x.measure = \"fpr\")\n",
    "\n",
    "plot(roc_perf, main = \"ROC Curve\", col = \"red\", lwd = 3)\n",
    "abline(a = 0, b = 1, lwd = 3, lty = 2, col = 1)\n",
    "\n",
    "### 3. Ewaluacja z wykorzystaniem wspolczynnika AUC\n",
    "\n",
    "# Wygenerowanie obiektu wydajnosci z parametrem measure = \"auc\"\n",
    "auc_perf <- performance(roc_pred, measure = \"auc\")\n",
    "\n",
    "# Wydobycie wartosci y.values ze slotu z obiektu auc_perf\n",
    "wesbrook_auc <- unlist(slot(auc_perf,\"y.values\"))\n",
    "wesbrook_auc\n"
   ]
  },
  {
   "cell_type": "code",
   "execution_count": 14,
   "id": "a6435160-5352-4617-a541-5aa8ac27ba7d",
   "metadata": {},
   "outputs": [
    {
     "name": "stdout",
     "output_type": "stream",
     "text": [
      "Naive Bayes \n",
      "\n",
      "1808 samples\n",
      "  26 predictor\n",
      "   2 classes: 'Y', 'N' \n",
      "\n",
      "No pre-processing\n",
      "Resampling: Cross-Validated (100 fold) \n",
      "Summary of sample sizes: 1789, 1789, 1790, 1790, 1790, 1790, ... \n",
      "Resampling results across tuning parameters:\n",
      "\n",
      "  usekernel  Accuracy   Kappa    \n",
      "  FALSE      0.5119900  0.1398757\n",
      "   TRUE      0.5897265  0.0000000\n",
      "\n",
      "Tuning parameter 'laplace' was held constant at a value of 0\n",
      "Tuning\n",
      " parameter 'adjust' was held constant at a value of 1\n",
      "Accuracy was used to select the optimal model using the largest value.\n",
      "The final values used for the model were laplace = 0, usekernel = TRUE\n",
      " and adjust = 1.\n",
      "[1] 0.8780488\n"
     ]
    }
   ],
   "source": [
    "# ---------------- #\n",
    "# Walidacja modelu #\n",
    "# ---------------- #\n",
    "\n",
    "### Walidacja krzyzowa k-krotna\n",
    "train_control <- trainControl(method = \"cv\", number = 100)\n",
    "wesbrook_cv <- train(WESBROOK ~ ., data = Wesbrook, method = \"naive_bayes\", trControl = train_control)\n",
    "print(wesbrook_cv)\n",
    "\n",
    "### Walidacja krzyzowa losowa\n",
    "n_iterations <- 10\n",
    "results <- vector(\"list\", n_iterations)\n",
    "\n",
    "for (i in 1:n_iterations) {\n",
    "  # Losowy podział danych na zbiór treningowy i testowy\n",
    "  train_index <- createDataPartition(Wesbrook$WESBROOK, p = 0.75, list = FALSE)\n",
    "  wesbrook_train <- Wesbrook[train_index,]\n",
    "  wesbrook_test <- Wesbrook[-train_index,]\n",
    "  \n",
    "  # Budowa modelu\n",
    "  wesbrook_mod <- naiveBayes(WESBROOK ~ ., data = wesbrook_train, laplace = 1)\n",
    "  \n",
    "  # Predykcja\n",
    "  wesbrook_pred <- predict(wesbrook_mod, wesbrook_test, type = \"class\")\n",
    "  \n",
    "  # Obliczenie macierzy pomyłek\n",
    "  cm <- confusionMatrix(wesbrook_pred, wesbrook_test$WESBROOK)\n",
    "  results[[i]] <- cm$overall[\"Accuracy\"]\n",
    "}\n",
    "\n",
    "# Średnia dokładność po 10 iteracjach\n",
    "mean_accuracy <- mean(unlist(results))\n",
    "print(mean_accuracy)\n"
   ]
  },
  {
   "cell_type": "code",
   "execution_count": 15,
   "id": "ebb20d80-13ae-4fca-a385-123a862bc393",
   "metadata": {},
   "outputs": [],
   "source": [
    "##################################\n",
    "# 3. Drzewa klasyfikacyjne       #\n",
    "##################################"
   ]
  },
  {
   "cell_type": "code",
   "execution_count": 16,
   "id": "41d47bdf-bdcb-427a-8ba9-d2a5facc458e",
   "metadata": {},
   "outputs": [
    {
     "data": {
      "text/plain": [
       "WESBROOK\n",
       "   Y    N \n",
       "0.41 0.59 "
      ]
     },
     "metadata": {},
     "output_type": "display_data"
    },
    {
     "data": {
      "text/plain": [
       "WESBROOK\n",
       "   Y    N \n",
       "0.41 0.59 "
      ]
     },
     "metadata": {},
     "output_type": "display_data"
    },
    {
     "data": {
      "text/plain": [
       "WESBROOK\n",
       "   Y    N \n",
       "0.41 0.59 "
      ]
     },
     "metadata": {},
     "output_type": "display_data"
    }
   ],
   "source": [
    "# -------------------- #\n",
    "# Przygotowanie danych #\n",
    "# -------------------- #\n",
    "\n",
    "# Usuniecie obiektow dla czystego startu nastepnego modelu\n",
    "rm(list = setdiff(ls(), \"Wesbrook_backup\"))\n",
    "\n",
    "# Przywrocenie zbioru z kopii\n",
    "Wesbrook <- Wesbrook_backup\n",
    "\n",
    "###  Podzial zbioru na treningowy i testowy w proporcjach 75% do 25%\n",
    "\n",
    "set.seed(1234)\n",
    "sample_index <-\n",
    "  sample(nrow(Wesbrook), round(nrow(Wesbrook) * .75), replace = FALSE)\n",
    "wesbrook_train <- Wesbrook[sample_index,]\n",
    "wesbrook_test <- Wesbrook[-sample_index,]\n",
    "\n",
    "# Sprawdzenie proporcji klas dla wszystkich trzech zbiorow\n",
    "round(prop.table(table(select(Wesbrook, WESBROOK))),2)\n",
    "round(prop.table(table(select(wesbrook_train, WESBROOK))),2)\n",
    "round(prop.table(table(select(wesbrook_test, WESBROOK))),2)\n"
   ]
  },
  {
   "cell_type": "code",
   "execution_count": 17,
   "id": "70deae2a-080a-405c-93b6-53bba381be2a",
   "metadata": {},
   "outputs": [
    {
     "data": {
      "image/png": "[encoded data removed]",
      "text/plain": [
       "plot without title"
      ]
     },
     "metadata": {
      "image/png": {
       "height": 420,
       "width": 420
      }
     },
     "output_type": "display_data"
    },
    {
     "data": {
      "image/png": "[encoded data removed]",
      "text/plain": [
       "plot without title"
      ]
     },
     "metadata": {
      "image/png": {
       "height": 420,
       "width": 420
      }
     },
     "output_type": "display_data"
    }
   ],
   "source": [
    "# ---------------- #\n",
    "# Tworzenie modelu #\n",
    "# ---------------- #\n",
    "\n",
    "# Budowa modelu za pomoca funkcji rpart() z pakietu rpart ze wspolczynnikiem cp=0.02\n",
    "wesbrook_mod <-\n",
    "  rpart(\n",
    "    WESBROOK ~ .,\n",
    "    method = \"class\",\n",
    "    data = wesbrook_train,\n",
    "    cp = 0.02\n",
    "  )\n",
    "\n",
    "# Wygenerowanie wykresu drzewa\n",
    "rpart.plot(wesbrook_mod)\n",
    "\n",
    "# Wygenerowanie wykresu bledu w zaleznosci od wspolczynnika cp\n",
    "plotcp(wesbrook_mod)\n",
    "\n",
    "# Podstawienie do modelu wartosci ze zbioru testowego\n",
    "wesbrook_pred <- predict(wesbrook_mod, wesbrook_test, type = \"class\")\n"
   ]
  },
  {
   "cell_type": "code",
   "execution_count": 18,
   "id": "0365ef03-58fa-459e-99ea-58973350f4f4",
   "metadata": {},
   "outputs": [
    {
     "data": {
      "text/plain": [
       "Confusion Matrix and Statistics\n",
       "\n",
       "          Reference\n",
       "Prediction   Y   N\n",
       "         Y 182  23\n",
       "         N   3 244\n",
       "                                          \n",
       "               Accuracy : 0.9425          \n",
       "                 95% CI : (0.9169, 0.9621)\n",
       "    No Information Rate : 0.5907          \n",
       "    P-Value [Acc > NIR] : < 2.2e-16       \n",
       "                                          \n",
       "                  Kappa : 0.883           \n",
       "                                          \n",
       " Mcnemar's Test P-Value : 0.0001944       \n",
       "                                          \n",
       "            Sensitivity : 0.9838          \n",
       "            Specificity : 0.9139          \n",
       "         Pos Pred Value : 0.8878          \n",
       "         Neg Pred Value : 0.9879          \n",
       "             Prevalence : 0.4093          \n",
       "         Detection Rate : 0.4027          \n",
       "   Detection Prevalence : 0.4535          \n",
       "      Balanced Accuracy : 0.9488          \n",
       "                                          \n",
       "       'Positive' Class : Y               \n",
       "                                          "
      ]
     },
     "metadata": {},
     "output_type": "display_data"
    },
    {
     "data": {
      "text/html": [
       "<table class=\"dataframe\">\n",
       "<caption>A matrix: 6 × 2 of type dbl</caption>\n",
       "<thead>\n",
       "\t<tr><th></th><th scope=col>Y</th><th scope=col>N</th></tr>\n",
       "</thead>\n",
       "<tbody>\n",
       "\t<tr><th scope=row>1</th><td>0.9147157</td><td>0.08528428</td></tr>\n",
       "\t<tr><th scope=row>2</th><td>0.9147157</td><td>0.08528428</td></tr>\n",
       "\t<tr><th scope=row>3</th><td>0.9147157</td><td>0.08528428</td></tr>\n",
       "\t<tr><th scope=row>4</th><td>0.9147157</td><td>0.08528428</td></tr>\n",
       "\t<tr><th scope=row>5</th><td>0.9147157</td><td>0.08528428</td></tr>\n",
       "\t<tr><th scope=row>6</th><td>0.9147157</td><td>0.08528428</td></tr>\n",
       "</tbody>\n",
       "</table>\n"
      ],
      "text/latex": [
       "A matrix: 6 × 2 of type dbl\n",
       "\\begin{tabular}{r|ll}\n",
       "  & Y & N\\\\\n",
       "\\hline\n",
       "\t1 & 0.9147157 & 0.08528428\\\\\n",
       "\t2 & 0.9147157 & 0.08528428\\\\\n",
       "\t3 & 0.9147157 & 0.08528428\\\\\n",
       "\t4 & 0.9147157 & 0.08528428\\\\\n",
       "\t5 & 0.9147157 & 0.08528428\\\\\n",
       "\t6 & 0.9147157 & 0.08528428\\\\\n",
       "\\end{tabular}\n"
      ],
      "text/markdown": [
       "\n",
       "A matrix: 6 × 2 of type dbl\n",
       "\n",
       "| <!--/--> | Y | N |\n",
       "|---|---|---|\n",
       "| 1 | 0.9147157 | 0.08528428 |\n",
       "| 2 | 0.9147157 | 0.08528428 |\n",
       "| 3 | 0.9147157 | 0.08528428 |\n",
       "| 4 | 0.9147157 | 0.08528428 |\n",
       "| 5 | 0.9147157 | 0.08528428 |\n",
       "| 6 | 0.9147157 | 0.08528428 |\n",
       "\n"
      ],
      "text/plain": [
       "  Y         N         \n",
       "1 0.9147157 0.08528428\n",
       "2 0.9147157 0.08528428\n",
       "3 0.9147157 0.08528428\n",
       "4 0.9147157 0.08528428\n",
       "5 0.9147157 0.08528428\n",
       "6 0.9147157 0.08528428"
      ]
     },
     "metadata": {},
     "output_type": "display_data"
    },
    {
     "data": {
      "text/html": [
       "0.948820730843203"
      ],
      "text/latex": [
       "0.948820730843203"
      ],
      "text/markdown": [
       "0.948820730843203"
      ],
      "text/plain": [
       "[1] 0.9488207"
      ]
     },
     "metadata": {},
     "output_type": "display_data"
    },
    {
     "data": {
      "image/png": "[encoded data removed]",
      "text/plain": [
       "Plot with title \"ROC Curve\""
      ]
     },
     "metadata": {
      "image/png": {
       "height": 420,
       "width": 420
      }
     },
     "output_type": "display_data"
    }
   ],
   "source": [
    "# ---------------- #\n",
    "# Ewaluacja modelu #\n",
    "# ---------------- #\n",
    "\n",
    "### 1. Ewaluacja z wykorzystaniem macierzy pomylek\n",
    "confusionMatrix(wesbrook_pred, wesbrook_test$WESBROOK)\n",
    "\n",
    "### 2. Ewaluacja z wykorzystaniem krzywej ROC\n",
    "\n",
    "# Predykcja wartosci prawdopodobienstw\n",
    "wesbrook_pred_p <- predict(wesbrook_mod, wesbrook_test, type = \"prob\")\n",
    "head(wesbrook_pred_p)\n",
    "\n",
    "roc_pred <-\n",
    "  prediction(\n",
    "    predictions = wesbrook_pred_p[, \"Y\"],\n",
    "    labels = wesbrook_test$WESBROOK\n",
    "  )\n",
    "\n",
    "roc_perf <- performance(roc_pred, measure = \"tpr\", x.measure = \"fpr\")\n",
    "\n",
    "plot(roc_perf, main = \"ROC Curve\", col = \"red\", lwd = 3)\n",
    "abline(a = 0, b = 1, lwd = 3, lty = 2, col = 1)\n",
    "\n",
    "### 3. Ewaluacja z wykorzystaniem wspolczynnika AUC\n",
    "\n",
    "# Wygenerowanie obiektu wydajnosci z parametrem measure = \"auc\"\n",
    "auc_perf <- performance(roc_pred, measure = \"auc\")\n",
    "\n",
    "# Wydobycie wartosci y.values ze slotu z obiektu auc_perf\n",
    "wesbrook_auc <- unlist(slot(auc_perf,\"y.values\"))\n",
    "wesbrook_auc\n"
   ]
  },
  {
   "cell_type": "code",
   "execution_count": 19,
   "id": "0f7bcd35-95d6-409f-adbd-a16a268bbf86",
   "metadata": {},
   "outputs": [
    {
     "name": "stdout",
     "output_type": "stream",
     "text": [
      "CART \n",
      "\n",
      "1808 samples\n",
      "  26 predictor\n",
      "   2 classes: 'Y', 'N' \n",
      "\n",
      "No pre-processing\n",
      "Resampling: Cross-Validated (10 fold) \n",
      "Summary of sample sizes: 1628, 1626, 1628, 1626, 1628, 1627, ... \n",
      "Resampling results across tuning parameters:\n",
      "\n",
      "  cp           Accuracy   Kappa    \n",
      "  0.003369272  0.9457730  0.8885860\n",
      "  0.004043127  0.9457730  0.8885860\n",
      "  0.882749326  0.8025425  0.5321797\n",
      "\n",
      "Accuracy was used to select the optimal model using the largest value.\n",
      "The final value used for the model was cp = 0.004043127.\n",
      "CART \n",
      "\n",
      "1808 samples\n",
      "  26 predictor\n",
      "   2 classes: 'Y', 'N' \n",
      "\n",
      "No pre-processing\n",
      "Resampling: Bootstrapped (100 reps) \n",
      "Summary of sample sizes: 1808, 1808, 1808, 1808, 1808, 1808, ... \n",
      "Resampling results across tuning parameters:\n",
      "\n",
      "  cp           Accuracy   Kappa    \n",
      "  0.003369272  0.9429974  0.8825732\n",
      "  0.004043127  0.9440614  0.8848618\n",
      "  0.882749326  0.7603486  0.4277933\n",
      "\n",
      "Accuracy was used to select the optimal model using the largest value.\n",
      "The final value used for the model was cp = 0.004043127.\n"
     ]
    }
   ],
   "source": [
    "# ---------------- #\n",
    "# Walidacja modelu #\n",
    "# ---------------- #\n",
    "\n",
    "### Walidacja krzyzowa k-krotna\n",
    "cv_model <- train(\n",
    "  WESBROOK ~ ., \n",
    "  data = Wesbrook, \n",
    "  method = \"rpart\", \n",
    "  trControl = trainControl(method = \"cv\", number = 10)\n",
    ")\n",
    "print(cv_model)\n",
    "\n",
    "### Walidacja krzyzowa losowa\n",
    "random_cv_model <- train(\n",
    "  WESBROOK ~ ., \n",
    "  data = Wesbrook, \n",
    "  method = \"rpart\", \n",
    "  trControl = trainControl(method = \"boot\", number = 100)  # 100 iteracji bootstrappingu\n",
    ")\n",
    "print(random_cv_model)\n"
   ]
  },
  {
   "cell_type": "code",
   "execution_count": 20,
   "id": "70edfc0d-4afb-4f17-b7eb-4d08c788255d",
   "metadata": {},
   "outputs": [],
   "source": [
    "##################################\n",
    "# 4. Lasy Losowe (Random Forest) #\n",
    "##################################"
   ]
  },
  {
   "cell_type": "code",
   "execution_count": 21,
   "id": "b98f5e61-f8a5-4dae-898c-dcc9a7ccd7b5",
   "metadata": {},
   "outputs": [
    {
     "data": {
      "text/plain": [
       "WESBROOK\n",
       "   Y    N \n",
       "0.41 0.59 "
      ]
     },
     "metadata": {},
     "output_type": "display_data"
    },
    {
     "data": {
      "text/plain": [
       "WESBROOK\n",
       "   Y    N \n",
       "0.41 0.59 "
      ]
     },
     "metadata": {},
     "output_type": "display_data"
    },
    {
     "data": {
      "text/plain": [
       "WESBROOK\n",
       "   Y    N \n",
       "0.41 0.59 "
      ]
     },
     "metadata": {},
     "output_type": "display_data"
    }
   ],
   "source": [
    "# -------------------- #\n",
    "# Przygotowanie danych #\n",
    "# -------------------- #\n",
    "\n",
    "# Usuniecie obiektow dla czystego startu nastepnego modelu\n",
    "rm(list = setdiff(ls(), \"Wesbrook_backup\"))\n",
    "\n",
    "# Przywrocenie zbioru z kopii\n",
    "Wesbrook <- Wesbrook_backup\n",
    "\n",
    "# Usuniecie kolumn GRADYR1 oraz MAJOR1 - posiadaja za duzo kategorii\n",
    "Wesbrook <- Wesbrook %>% select(-GRADYR1)\n",
    "Wesbrook <- Wesbrook %>% select(-MAJOR1)\n",
    "\n",
    "###  Podzial zbioru na treningowy i testowy w proporcjach 75% do 25%\n",
    "\n",
    "set.seed(1234)\n",
    "sample_index <-\n",
    "  sample(nrow(Wesbrook), round(nrow(Wesbrook) * .75), replace = FALSE)\n",
    "wesbrook_train <- Wesbrook[sample_index,]\n",
    "wesbrook_test <- Wesbrook[-sample_index,]\n",
    "\n",
    "# Sprawdzenie proporcji klas dla wszystkich trzech zbiorow\n",
    "round(prop.table(table(select(Wesbrook, WESBROOK))),2)\n",
    "round(prop.table(table(select(wesbrook_train, WESBROOK))),2)\n",
    "round(prop.table(table(select(wesbrook_test, WESBROOK))),2)\n"
   ]
  },
  {
   "cell_type": "code",
   "execution_count": 22,
   "id": "bca8f5e0-f008-48cc-a311-3d006af97501",
   "metadata": {},
   "outputs": [],
   "source": [
    "# ---------------- #\n",
    "# Tworzenie modelu #\n",
    "# ---------------- #\n",
    "\n",
    "# Budowa modelu za pomoca funkcji randomForest() z pakietu randomForest\n",
    "wesbrook_mod <- randomForest(WESBROOK ~ ., data = wesbrook_train, ntrees=100)\n",
    "\n",
    "wesbrook_pred <- predict(wesbrook_mod, wesbrook_test, type = \"class\")\n"
   ]
  },
  {
   "cell_type": "code",
   "execution_count": 23,
   "id": "ee35bb0f-933b-420a-bba1-aee07def2eac",
   "metadata": {},
   "outputs": [
    {
     "data": {
      "text/plain": [
       "Confusion Matrix and Statistics\n",
       "\n",
       "          Reference\n",
       "Prediction   Y   N\n",
       "         Y 179  20\n",
       "         N   6 247\n",
       "                                          \n",
       "               Accuracy : 0.9425          \n",
       "                 95% CI : (0.9169, 0.9621)\n",
       "    No Information Rate : 0.5907          \n",
       "    P-Value [Acc > NIR] : < 2e-16         \n",
       "                                          \n",
       "                  Kappa : 0.8824          \n",
       "                                          \n",
       " Mcnemar's Test P-Value : 0.01079         \n",
       "                                          \n",
       "            Sensitivity : 0.9676          \n",
       "            Specificity : 0.9251          \n",
       "         Pos Pred Value : 0.8995          \n",
       "         Neg Pred Value : 0.9763          \n",
       "             Prevalence : 0.4093          \n",
       "         Detection Rate : 0.3960          \n",
       "   Detection Prevalence : 0.4403          \n",
       "      Balanced Accuracy : 0.9463          \n",
       "                                          \n",
       "       'Positive' Class : Y               \n",
       "                                          "
      ]
     },
     "metadata": {},
     "output_type": "display_data"
    },
    {
     "data": {
      "text/html": [
       "<table class=\"dataframe\">\n",
       "<caption>A matrix: 6 × 2 of type dbl</caption>\n",
       "<thead>\n",
       "\t<tr><th></th><th scope=col>Y</th><th scope=col>N</th></tr>\n",
       "</thead>\n",
       "<tbody>\n",
       "\t<tr><th scope=row>1</th><td>0.982</td><td>0.018</td></tr>\n",
       "\t<tr><th scope=row>2</th><td>0.954</td><td>0.046</td></tr>\n",
       "\t<tr><th scope=row>3</th><td>0.838</td><td>0.162</td></tr>\n",
       "\t<tr><th scope=row>4</th><td>0.856</td><td>0.144</td></tr>\n",
       "\t<tr><th scope=row>5</th><td>0.948</td><td>0.052</td></tr>\n",
       "\t<tr><th scope=row>6</th><td>0.822</td><td>0.178</td></tr>\n",
       "</tbody>\n",
       "</table>\n"
      ],
      "text/latex": [
       "A matrix: 6 × 2 of type dbl\n",
       "\\begin{tabular}{r|ll}\n",
       "  & Y & N\\\\\n",
       "\\hline\n",
       "\t1 & 0.982 & 0.018\\\\\n",
       "\t2 & 0.954 & 0.046\\\\\n",
       "\t3 & 0.838 & 0.162\\\\\n",
       "\t4 & 0.856 & 0.144\\\\\n",
       "\t5 & 0.948 & 0.052\\\\\n",
       "\t6 & 0.822 & 0.178\\\\\n",
       "\\end{tabular}\n"
      ],
      "text/markdown": [
       "\n",
       "A matrix: 6 × 2 of type dbl\n",
       "\n",
       "| <!--/--> | Y | N |\n",
       "|---|---|---|\n",
       "| 1 | 0.982 | 0.018 |\n",
       "| 2 | 0.954 | 0.046 |\n",
       "| 3 | 0.838 | 0.162 |\n",
       "| 4 | 0.856 | 0.144 |\n",
       "| 5 | 0.948 | 0.052 |\n",
       "| 6 | 0.822 | 0.178 |\n",
       "\n"
      ],
      "text/plain": [
       "  Y     N    \n",
       "1 0.982 0.018\n",
       "2 0.954 0.046\n",
       "3 0.838 0.162\n",
       "4 0.856 0.144\n",
       "5 0.948 0.052\n",
       "6 0.822 0.178"
      ]
     },
     "metadata": {},
     "output_type": "display_data"
    },
    {
     "data": {
      "text/html": [
       "0.983034720113372"
      ],
      "text/latex": [
       "0.983034720113372"
      ],
      "text/markdown": [
       "0.983034720113372"
      ],
      "text/plain": [
       "[1] 0.9830347"
      ]
     },
     "metadata": {},
     "output_type": "display_data"
    },
    {
     "data": {
      "image/png": "[encoded data removed]",
      "text/plain": [
       "Plot with title \"ROC Curve\""
      ]
     },
     "metadata": {
      "image/png": {
       "height": 420,
       "width": 420
      }
     },
     "output_type": "display_data"
    }
   ],
   "source": [
    "# ---------------- #\n",
    "# Ewaluacja modelu #\n",
    "# ---------------- #\n",
    "\n",
    "### 1. Ewaluacja z wykorzystaniem macierzy pomylek\n",
    "confusionMatrix(wesbrook_pred, wesbrook_test$WESBROOK)\n",
    "\n",
    "### 2. Ewaluacja z wykorzystaniem krzywej ROC\n",
    "\n",
    "# Predykcja wartosci prawdopodobienstw\n",
    "wesbrook_pred_p <- predict(wesbrook_mod, wesbrook_test, type = \"prob\")\n",
    "head(wesbrook_pred_p)\n",
    "\n",
    "roc_pred <-\n",
    "  prediction(\n",
    "    predictions = wesbrook_pred_p[, \"Y\"],\n",
    "    labels = wesbrook_test$WESBROOK\n",
    "  )\n",
    "\n",
    "roc_perf <- performance(roc_pred, measure = \"tpr\", x.measure = \"fpr\")\n",
    "\n",
    "plot(roc_perf, main = \"ROC Curve\", col = \"red\", lwd = 3)\n",
    "abline(a = 0, b = 1, lwd = 3, lty = 2, col = 1)\n",
    "\n",
    "### 3. Ewaluacja z wykorzystaniem wspolczynnika AUC\n",
    "\n",
    "# Wygenerowanie obiektu wydajnosci z parametrem measure = \"auc\"\n",
    "auc_perf <- performance(roc_pred, measure = \"auc\")\n",
    "\n",
    "# Wydobycie wartosci y.values ze slotu z obiektu auc_perf\n",
    "wesbrook_auc <- unlist(slot(auc_perf,\"y.values\"))\n",
    "wesbrook_auc\n"
   ]
  },
  {
   "cell_type": "code",
   "execution_count": 24,
   "id": "3303c367-1187-4b33-8d22-46c6bd31a864",
   "metadata": {},
   "outputs": [
    {
     "name": "stdout",
     "output_type": "stream",
     "text": [
      "Random Forest \n",
      "\n",
      "1808 samples\n",
      "  24 predictor\n",
      "   2 classes: 'Y', 'N' \n",
      "\n",
      "No pre-processing\n",
      "Resampling: Cross-Validated (5 fold) \n",
      "Summary of sample sizes: 1446, 1445, 1447, 1447, 1447 \n",
      "Resampling results across tuning parameters:\n",
      "\n",
      "  mtry  Accuracy   Kappa    \n",
      "   2    0.9037463  0.8001799\n",
      "  24    0.9496670  0.8969183\n",
      "  46    0.9441345  0.8854530\n",
      "\n",
      "Accuracy was used to select the optimal model using the largest value.\n",
      "The final value used for the model was mtry = 24.\n",
      "Random Forest \n",
      "\n",
      "1808 samples\n",
      "  24 predictor\n",
      "   2 classes: 'Y', 'N' \n",
      "\n",
      "No pre-processing\n",
      "Resampling: Bootstrapped (50 reps) \n",
      "Summary of sample sizes: 1808, 1808, 1808, 1808, 1808, 1808, ... \n",
      "Resampling results across tuning parameters:\n",
      "\n",
      "  mtry  Accuracy   Kappa    \n",
      "   2    0.8997904  0.7919552\n",
      "  24    0.9510036  0.8997225\n",
      "  46    0.9435235  0.8841917\n",
      "\n",
      "Accuracy was used to select the optimal model using the largest value.\n",
      "The final value used for the model was mtry = 24.\n"
     ]
    }
   ],
   "source": [
    "# ---------------- #\n",
    "# Walidacja modelu #\n",
    "# ---------------- #\n",
    "\n",
    "### Walidacja krzyzowa k-krotna\n",
    "train_control <- trainControl(method = \"cv\", number = 5)\n",
    "wesbrook_cv <- train(WESBROOK ~ ., data = Wesbrook, method = \"rf\", trControl = train_control)\n",
    "print(wesbrook_cv)\n",
    "\n",
    "\n",
    "### Walidacja krzyzowa losowa\n",
    "train_control_random <- trainControl(method = \"boot\", number = 50)\n",
    "wesbrook_random_cv <- train(WESBROOK ~ ., data = Wesbrook, method = \"rf\", trControl = train_control_random)\n",
    "print(wesbrook_random_cv)"
   ]
  },
  {
   "cell_type": "code",
   "execution_count": 25,
   "id": "5f496bd2-bf9e-4f36-9578-89c795348e1c",
   "metadata": {},
   "outputs": [],
   "source": [
    "##################################\n",
    "# 5. Algorytm XGBoost            #\n",
    "##################################"
   ]
  },
  {
   "cell_type": "code",
   "execution_count": 26,
   "id": "ca96480a-a8b5-420b-8b44-86c15601d994",
   "metadata": {},
   "outputs": [
    {
     "data": {
      "text/plain": [
       "WESBROOK\n",
       "   Y    N \n",
       "0.41 0.59 "
      ]
     },
     "metadata": {},
     "output_type": "display_data"
    },
    {
     "data": {
      "text/plain": [
       "WESBROOK\n",
       "   Y    N \n",
       "0.41 0.59 "
      ]
     },
     "metadata": {},
     "output_type": "display_data"
    },
    {
     "data": {
      "text/plain": [
       "WESBROOK\n",
       "   Y    N \n",
       "0.41 0.59 "
      ]
     },
     "metadata": {},
     "output_type": "display_data"
    }
   ],
   "source": [
    "# -------------------- #\n",
    "# Przygotowanie danych #\n",
    "# -------------------- #\n",
    "\n",
    "# Usuniecie obiektow dla czystego startu nastepnego modelu\n",
    "rm(list = setdiff(ls(), \"Wesbrook_backup\"))\n",
    "\n",
    "# Przywrocenie zbioru z kopii\n",
    "Wesbrook <- Wesbrook_backup\n",
    "\n",
    "###  Podzial zbioru na treningowy i testowy w proporcjach 75% do 25%\n",
    "\n",
    "set.seed(1234)\n",
    "sample_index <-\n",
    "  sample(nrow(Wesbrook), round(nrow(Wesbrook) * .75), replace = FALSE)\n",
    "wesbrook_train <- Wesbrook[sample_index,]\n",
    "wesbrook_test <- Wesbrook[-sample_index,]\n",
    "\n",
    "# Sprawdzenie proporcji klas dla wszystkich trzech zbiorow\n",
    "round(prop.table(table(select(Wesbrook, WESBROOK))),2)\n",
    "round(prop.table(table(select(wesbrook_train, WESBROOK))),2)\n",
    "round(prop.table(table(select(wesbrook_test, WESBROOK))),2)\n"
   ]
  },
  {
   "cell_type": "code",
   "execution_count": 27,
   "id": "a6037e54-8eef-4990-8642-b055f9fcbdad",
   "metadata": {},
   "outputs": [
    {
     "data": {
      "text/html": [
       "<table class=\"dataframe\">\n",
       "<caption>A data.frame: 7 × 6</caption>\n",
       "<thead>\n",
       "\t<tr><th></th><th scope=col>model</th><th scope=col>parameter</th><th scope=col>label</th><th scope=col>forReg</th><th scope=col>forClass</th><th scope=col>probModel</th></tr>\n",
       "\t<tr><th></th><th scope=col>&lt;chr&gt;</th><th scope=col>&lt;chr&gt;</th><th scope=col>&lt;chr&gt;</th><th scope=col>&lt;lgl&gt;</th><th scope=col>&lt;lgl&gt;</th><th scope=col>&lt;lgl&gt;</th></tr>\n",
       "</thead>\n",
       "<tbody>\n",
       "\t<tr><th scope=row>1</th><td>xgbTree</td><td>nrounds         </td><td># Boosting Iterations         </td><td>TRUE</td><td>TRUE</td><td>TRUE</td></tr>\n",
       "\t<tr><th scope=row>2</th><td>xgbTree</td><td>max_depth       </td><td>Max Tree Depth                </td><td>TRUE</td><td>TRUE</td><td>TRUE</td></tr>\n",
       "\t<tr><th scope=row>3</th><td>xgbTree</td><td>eta             </td><td>Shrinkage                     </td><td>TRUE</td><td>TRUE</td><td>TRUE</td></tr>\n",
       "\t<tr><th scope=row>4</th><td>xgbTree</td><td>gamma           </td><td>Minimum Loss Reduction        </td><td>TRUE</td><td>TRUE</td><td>TRUE</td></tr>\n",
       "\t<tr><th scope=row>5</th><td>xgbTree</td><td>colsample_bytree</td><td>Subsample Ratio of Columns    </td><td>TRUE</td><td>TRUE</td><td>TRUE</td></tr>\n",
       "\t<tr><th scope=row>6</th><td>xgbTree</td><td>min_child_weight</td><td>Minimum Sum of Instance Weight</td><td>TRUE</td><td>TRUE</td><td>TRUE</td></tr>\n",
       "\t<tr><th scope=row>7</th><td>xgbTree</td><td>subsample       </td><td>Subsample Percentage          </td><td>TRUE</td><td>TRUE</td><td>TRUE</td></tr>\n",
       "</tbody>\n",
       "</table>\n"
      ],
      "text/latex": [
       "A data.frame: 7 × 6\n",
       "\\begin{tabular}{r|llllll}\n",
       "  & model & parameter & label & forReg & forClass & probModel\\\\\n",
       "  & <chr> & <chr> & <chr> & <lgl> & <lgl> & <lgl>\\\\\n",
       "\\hline\n",
       "\t1 & xgbTree & nrounds          & \\# Boosting Iterations          & TRUE & TRUE & TRUE\\\\\n",
       "\t2 & xgbTree & max\\_depth        & Max Tree Depth                 & TRUE & TRUE & TRUE\\\\\n",
       "\t3 & xgbTree & eta              & Shrinkage                      & TRUE & TRUE & TRUE\\\\\n",
       "\t4 & xgbTree & gamma            & Minimum Loss Reduction         & TRUE & TRUE & TRUE\\\\\n",
       "\t5 & xgbTree & colsample\\_bytree & Subsample Ratio of Columns     & TRUE & TRUE & TRUE\\\\\n",
       "\t6 & xgbTree & min\\_child\\_weight & Minimum Sum of Instance Weight & TRUE & TRUE & TRUE\\\\\n",
       "\t7 & xgbTree & subsample        & Subsample Percentage           & TRUE & TRUE & TRUE\\\\\n",
       "\\end{tabular}\n"
      ],
      "text/markdown": [
       "\n",
       "A data.frame: 7 × 6\n",
       "\n",
       "| <!--/--> | model &lt;chr&gt; | parameter &lt;chr&gt; | label &lt;chr&gt; | forReg &lt;lgl&gt; | forClass &lt;lgl&gt; | probModel &lt;lgl&gt; |\n",
       "|---|---|---|---|---|---|---|\n",
       "| 1 | xgbTree | nrounds          | # Boosting Iterations          | TRUE | TRUE | TRUE |\n",
       "| 2 | xgbTree | max_depth        | Max Tree Depth                 | TRUE | TRUE | TRUE |\n",
       "| 3 | xgbTree | eta              | Shrinkage                      | TRUE | TRUE | TRUE |\n",
       "| 4 | xgbTree | gamma            | Minimum Loss Reduction         | TRUE | TRUE | TRUE |\n",
       "| 5 | xgbTree | colsample_bytree | Subsample Ratio of Columns     | TRUE | TRUE | TRUE |\n",
       "| 6 | xgbTree | min_child_weight | Minimum Sum of Instance Weight | TRUE | TRUE | TRUE |\n",
       "| 7 | xgbTree | subsample        | Subsample Percentage           | TRUE | TRUE | TRUE |\n",
       "\n"
      ],
      "text/plain": [
       "  model   parameter        label                          forReg forClass\n",
       "1 xgbTree nrounds          # Boosting Iterations          TRUE   TRUE    \n",
       "2 xgbTree max_depth        Max Tree Depth                 TRUE   TRUE    \n",
       "3 xgbTree eta              Shrinkage                      TRUE   TRUE    \n",
       "4 xgbTree gamma            Minimum Loss Reduction         TRUE   TRUE    \n",
       "5 xgbTree colsample_bytree Subsample Ratio of Columns     TRUE   TRUE    \n",
       "6 xgbTree min_child_weight Minimum Sum of Instance Weight TRUE   TRUE    \n",
       "7 xgbTree subsample        Subsample Percentage           TRUE   TRUE    \n",
       "  probModel\n",
       "1 TRUE     \n",
       "2 TRUE     \n",
       "3 TRUE     \n",
       "4 TRUE     \n",
       "5 TRUE     \n",
       "6 TRUE     \n",
       "7 TRUE     "
      ]
     },
     "metadata": {},
     "output_type": "display_data"
    }
   ],
   "source": [
    "# ---------------- #\n",
    "# Tworzenie modelu #\n",
    "# ---------------- #\n",
    "\n",
    "# Budowa modelu za pomoca funkcji randomForest() z pakietu randomForest\n",
    "\n",
    "modelLookup(\"xgbTree\")\n",
    "\n",
    "wesbrook_mod <- train(\n",
    "  WESBROOK ~ .,\n",
    "  data = wesbrook_train,\n",
    "  metric = \"Accuracy\",\n",
    "  method = \"xgbTree\",\n",
    "  trControl = trainControl(method = \"none\"),\n",
    "  tuneGrid = expand.grid(\n",
    "    nrounds = 100,\n",
    "    max_depth = 6,\n",
    "    eta = 0.3,\n",
    "    gamma = 0.01,\n",
    "    colsample_bytree = 1,\n",
    "    min_child_weight = 1,\n",
    "    subsample = 1\n",
    "  )\n",
    ")\n",
    "\n",
    "wesbrook_pred <- predict(wesbrook_mod, wesbrook_test, type = \"raw\")\n"
   ]
  },
  {
   "cell_type": "code",
   "execution_count": 28,
   "id": "2dec4d9a-bec7-4ef2-81df-5174f4fee0e8",
   "metadata": {},
   "outputs": [
    {
     "data": {
      "text/plain": [
       "Confusion Matrix and Statistics\n",
       "\n",
       "          Reference\n",
       "Prediction   Y   N\n",
       "         Y 177  18\n",
       "         N   8 249\n",
       "                                          \n",
       "               Accuracy : 0.9425          \n",
       "                 95% CI : (0.9169, 0.9621)\n",
       "    No Information Rate : 0.5907          \n",
       "    P-Value [Acc > NIR] : < 2e-16         \n",
       "                                          \n",
       "                  Kappa : 0.882           \n",
       "                                          \n",
       " Mcnemar's Test P-Value : 0.07756         \n",
       "                                          \n",
       "            Sensitivity : 0.9568          \n",
       "            Specificity : 0.9326          \n",
       "         Pos Pred Value : 0.9077          \n",
       "         Neg Pred Value : 0.9689          \n",
       "             Prevalence : 0.4093          \n",
       "         Detection Rate : 0.3916          \n",
       "   Detection Prevalence : 0.4314          \n",
       "      Balanced Accuracy : 0.9447          \n",
       "                                          \n",
       "       'Positive' Class : Y               \n",
       "                                          "
      ]
     },
     "metadata": {},
     "output_type": "display_data"
    },
    {
     "data": {
      "text/html": [
       "<table class=\"dataframe\">\n",
       "<caption>A data.frame: 6 × 2</caption>\n",
       "<thead>\n",
       "\t<tr><th></th><th scope=col>Y</th><th scope=col>N</th></tr>\n",
       "\t<tr><th></th><th scope=col>&lt;dbl&gt;</th><th scope=col>&lt;dbl&gt;</th></tr>\n",
       "</thead>\n",
       "<tbody>\n",
       "\t<tr><th scope=row>1</th><td>0.9998710</td><td>0.0001289845</td></tr>\n",
       "\t<tr><th scope=row>2</th><td>0.9997541</td><td>0.0002458692</td></tr>\n",
       "\t<tr><th scope=row>3</th><td>0.9909930</td><td>0.0090070367</td></tr>\n",
       "\t<tr><th scope=row>4</th><td>0.9997985</td><td>0.0002015233</td></tr>\n",
       "\t<tr><th scope=row>5</th><td>0.9998183</td><td>0.0001817346</td></tr>\n",
       "\t<tr><th scope=row>6</th><td>0.9994007</td><td>0.0005992651</td></tr>\n",
       "</tbody>\n",
       "</table>\n"
      ],
      "text/latex": [
       "A data.frame: 6 × 2\n",
       "\\begin{tabular}{r|ll}\n",
       "  & Y & N\\\\\n",
       "  & <dbl> & <dbl>\\\\\n",
       "\\hline\n",
       "\t1 & 0.9998710 & 0.0001289845\\\\\n",
       "\t2 & 0.9997541 & 0.0002458692\\\\\n",
       "\t3 & 0.9909930 & 0.0090070367\\\\\n",
       "\t4 & 0.9997985 & 0.0002015233\\\\\n",
       "\t5 & 0.9998183 & 0.0001817346\\\\\n",
       "\t6 & 0.9994007 & 0.0005992651\\\\\n",
       "\\end{tabular}\n"
      ],
      "text/markdown": [
       "\n",
       "A data.frame: 6 × 2\n",
       "\n",
       "| <!--/--> | Y &lt;dbl&gt; | N &lt;dbl&gt; |\n",
       "|---|---|---|\n",
       "| 1 | 0.9998710 | 0.0001289845 |\n",
       "| 2 | 0.9997541 | 0.0002458692 |\n",
       "| 3 | 0.9909930 | 0.0090070367 |\n",
       "| 4 | 0.9997985 | 0.0002015233 |\n",
       "| 5 | 0.9998183 | 0.0001817346 |\n",
       "| 6 | 0.9994007 | 0.0005992651 |\n",
       "\n"
      ],
      "text/plain": [
       "  Y         N           \n",
       "1 0.9998710 0.0001289845\n",
       "2 0.9997541 0.0002458692\n",
       "3 0.9909930 0.0090070367\n",
       "4 0.9997985 0.0002015233\n",
       "5 0.9998183 0.0001817346\n",
       "6 0.9994007 0.0005992651"
      ]
     },
     "metadata": {},
     "output_type": "display_data"
    },
    {
     "data": {
      "text/html": [
       "0.986132199615346"
      ],
      "text/latex": [
       "0.986132199615346"
      ],
      "text/markdown": [
       "0.986132199615346"
      ],
      "text/plain": [
       "[1] 0.9861322"
      ]
     },
     "metadata": {},
     "output_type": "display_data"
    },
    {
     "data": {
      "image/png": "[encoded data removed]",
      "text/plain": [
       "Plot with title \"ROC Curve\""
      ]
     },
     "metadata": {
      "image/png": {
       "height": 420,
       "width": 420
      }
     },
     "output_type": "display_data"
    }
   ],
   "source": [
    "# ---------------- #\n",
    "# Ewaluacja modelu #\n",
    "# ---------------- #\n",
    "\n",
    "### 1. Ewaluacja z wykorzystaniem macierzy pomylek\n",
    "confusionMatrix(wesbrook_pred, wesbrook_test$WESBROOK)\n",
    "\n",
    "### 2. Ewaluacja z wykorzystaniem krzywej ROC\n",
    "\n",
    "# Predykcja wartosci prawdopodobienstw\n",
    "wesbrook_pred_p <- predict(wesbrook_mod, wesbrook_test, type = \"prob\")\n",
    "head(wesbrook_pred_p)\n",
    "\n",
    "roc_pred <-\n",
    "  prediction(\n",
    "    predictions = wesbrook_pred_p[, \"Y\"],\n",
    "    labels = wesbrook_test$WESBROOK\n",
    "  )\n",
    "\n",
    "roc_perf <- performance(roc_pred, measure = \"tpr\", x.measure = \"fpr\")\n",
    "\n",
    "plot(roc_perf, main = \"ROC Curve\", col = \"red\", lwd = 3)\n",
    "abline(a = 0, b = 1, lwd = 3, lty = 2, col = 1)\n",
    "\n",
    "### 3. Ewaluacja z wykorzystaniem wspolczynnika AUC\n",
    "\n",
    "# Wygenerowanie obiektu wydajnosci z parametrem measure = \"auc\"\n",
    "auc_perf <- performance(roc_pred, measure = \"auc\")\n",
    "\n",
    "# Wydobycie wartosci y.values ze slotu z obiektu auc_perf\n",
    "wesbrook_auc <- unlist(slot(auc_perf,\"y.values\"))\n",
    "wesbrook_auc\n"
   ]
  },
  {
   "cell_type": "code",
   "execution_count": 29,
   "id": "d9f82785-8879-468e-a200-cb0e61cf57bc",
   "metadata": {},
   "outputs": [
    {
     "name": "stdout",
     "output_type": "stream",
     "text": [
      "eXtreme Gradient Boosting \n",
      "\n",
      "1356 samples\n",
      "  26 predictor\n",
      "   2 classes: 'Y', 'N' \n",
      "\n",
      "No pre-processing\n",
      "Resampling: Cross-Validated (10 fold) \n",
      "Summary of sample sizes: 1221, 1220, 1220, 1221, 1220, 1221, ... \n",
      "Resampling results:\n",
      "\n",
      "  Accuracy  Kappa    \n",
      "  0.947598  0.8923239\n",
      "\n",
      "Tuning parameter 'nrounds' was held constant at a value of 100\n",
      "Tuning\n",
      " held constant at a value of 1\n",
      "Tuning parameter 'subsample' was held\n",
      " constant at a value of 1\n",
      "eXtreme Gradient Boosting \n",
      "\n",
      "1356 samples\n",
      "  26 predictor\n",
      "   2 classes: 'Y', 'N' \n",
      "\n",
      "No pre-processing\n",
      "Resampling: Cross-Validated (10 fold, repeated 3 times) \n",
      "Summary of sample sizes: 1220, 1220, 1221, 1220, 1221, 1220, ... \n",
      "Resampling results:\n",
      "\n",
      "  Accuracy   Kappa    \n",
      "  0.9483588  0.8937876\n",
      "\n",
      "Tuning parameter 'nrounds' was held constant at a value of 100\n",
      "Tuning\n",
      " held constant at a value of 1\n",
      "Tuning parameter 'subsample' was held\n",
      " constant at a value of 1\n"
     ]
    }
   ],
   "source": [
    "# ---------------- #\n",
    "# Walidacja modelu #\n",
    "# ---------------- #\n",
    "\n",
    "### Walidacja krzyzowa k-krotna\n",
    "cv_control <- trainControl(method = \"cv\", number = 10)\n",
    "wesbrook_mod_cv <- train(\n",
    "  WESBROOK ~ .,\n",
    "  data = wesbrook_train,\n",
    "  method = \"xgbTree\",\n",
    "  metric = \"Accuracy\",\n",
    "  trControl = cv_control,\n",
    "  tuneGrid = expand.grid(\n",
    "    nrounds = 100,\n",
    "    max_depth = 6,\n",
    "    eta = 0.3,\n",
    "    gamma = 0.01,\n",
    "    colsample_bytree = 1,\n",
    "    min_child_weight = 1,\n",
    "    subsample = 1\n",
    "  )\n",
    ")\n",
    "print(wesbrook_mod_cv)\n",
    "\n",
    "### Walidacja krzyzowa losowa\n",
    "random_control <- trainControl(method = \"repeatedcv\", number = 10, repeats = 3)\n",
    "wesbrook_mod_random <- train(\n",
    "  WESBROOK ~ .,\n",
    "  data = wesbrook_train,\n",
    "  method = \"xgbTree\",\n",
    "  metric = \"Accuracy\",\n",
    "  trControl = random_control,\n",
    "  tuneGrid = expand.grid(\n",
    "    nrounds = 100,\n",
    "    max_depth = 6,\n",
    "    eta = 0.3,\n",
    "    gamma = 0.01,\n",
    "    colsample_bytree = 1,\n",
    "    min_child_weight = 1,\n",
    "    subsample = 1\n",
    "  )\n",
    ")\n",
    "print(wesbrook_mod_random)\n"
   ]
  },
  {
   "cell_type": "code",
   "execution_count": 30,
   "id": "4c0c5383-01c5-4e58-8730-68ccb88a22dd",
   "metadata": {},
   "outputs": [],
   "source": [
    "##################################\n",
    "# 6. Metoda SVM                  #\n",
    "##################################"
   ]
  },
  {
   "cell_type": "code",
   "execution_count": 31,
   "id": "64260fc6-fb74-4dc7-a408-236d2c8ecd2e",
   "metadata": {},
   "outputs": [
    {
     "data": {
      "text/plain": [
       "WESBROOK\n",
       "   Y    N \n",
       "0.41 0.59 "
      ]
     },
     "metadata": {},
     "output_type": "display_data"
    },
    {
     "data": {
      "text/plain": [
       "WESBROOK\n",
       "   Y    N \n",
       "0.41 0.59 "
      ]
     },
     "metadata": {},
     "output_type": "display_data"
    },
    {
     "data": {
      "text/plain": [
       "WESBROOK\n",
       "   Y    N \n",
       "0.41 0.59 "
      ]
     },
     "metadata": {},
     "output_type": "display_data"
    }
   ],
   "source": [
    "# -------------------- #\n",
    "# Przygotowanie danych #\n",
    "# -------------------- #\n",
    "\n",
    "# Usuniecie obiektow dla czystego startu nastepnego modelu\n",
    "rm(list = setdiff(ls(), \"Wesbrook_backup\"))\n",
    "\n",
    "# Przywrocenie zbioru z kopii\n",
    "Wesbrook <- Wesbrook_backup\n",
    "\n",
    "###  Podzial zbioru na treningowy i testowy w proporcjach 75% do 25%\n",
    "\n",
    "set.seed(1234)\n",
    "sample_index <-\n",
    "  sample(nrow(Wesbrook), round(nrow(Wesbrook) * .75), replace = FALSE)\n",
    "wesbrook_train <- Wesbrook[sample_index,]\n",
    "wesbrook_test <- Wesbrook[-sample_index,]\n",
    "\n",
    "# Sprawdzenie proporcji klas dla wszystkich trzech zbiorow\n",
    "round(prop.table(table(select(Wesbrook, WESBROOK))),2)\n",
    "round(prop.table(table(select(wesbrook_train, WESBROOK))),2)\n",
    "round(prop.table(table(select(wesbrook_test, WESBROOK))),2)\n"
   ]
  },
  {
   "cell_type": "code",
   "execution_count": 32,
   "id": "3f7bfc44-3462-4b91-8f9a-347bc0bbd6c4",
   "metadata": {},
   "outputs": [
    {
     "name": "stdout",
     "output_type": "stream",
     "text": [
      "\n",
      "Call:\n",
      "svm(formula = WESBROOK ~ ., data = wesbrook_train, probability = TRUE)\n",
      "\n",
      "\n",
      "Parameters:\n",
      "   SVM-Type:  C-classification \n",
      " SVM-Kernel:  radial \n",
      "       cost:  1 \n",
      "\n",
      "Number of Support Vectors:  791\n",
      "\n"
     ]
    }
   ],
   "source": [
    "# ---------------- #\n",
    "# Tworzenie modelu #\n",
    "# ---------------- #\n",
    "\n",
    "# Budowa modelu za pomoca funkcji randomForest() z pakietu randomForest\n",
    "wesbrook_mod <- svm(WESBROOK ~ ., data = wesbrook_train, probability=TRUE)\n",
    "print(wesbrook_mod)\n",
    "\n",
    "wesbrook_pred <- predict(wesbrook_mod, wesbrook_test, type = \"class\")\n"
   ]
  },
  {
   "cell_type": "code",
   "execution_count": 33,
   "id": "b9a90eb7-bfda-4722-9226-bba0b4111ce0",
   "metadata": {},
   "outputs": [
    {
     "data": {
      "text/plain": [
       "Confusion Matrix and Statistics\n",
       "\n",
       "          Reference\n",
       "Prediction   Y   N\n",
       "         Y 114  22\n",
       "         N  71 245\n",
       "                                         \n",
       "               Accuracy : 0.7942         \n",
       "                 95% CI : (0.754, 0.8306)\n",
       "    No Information Rate : 0.5907         \n",
       "    P-Value [Acc > NIR] : < 2.2e-16      \n",
       "                                         \n",
       "                  Kappa : 0.5565         \n",
       "                                         \n",
       " Mcnemar's Test P-Value : 6.445e-07      \n",
       "                                         \n",
       "            Sensitivity : 0.6162         \n",
       "            Specificity : 0.9176         \n",
       "         Pos Pred Value : 0.8382         \n",
       "         Neg Pred Value : 0.7753         \n",
       "             Prevalence : 0.4093         \n",
       "         Detection Rate : 0.2522         \n",
       "   Detection Prevalence : 0.3009         \n",
       "      Balanced Accuracy : 0.7669         \n",
       "                                         \n",
       "       'Positive' Class : Y              \n",
       "                                         "
      ]
     },
     "metadata": {},
     "output_type": "display_data"
    },
    {
     "data": {
      "text/html": [
       "<table class=\"dataframe\">\n",
       "<caption>A matrix: 4 × 2 of type dbl</caption>\n",
       "<thead>\n",
       "\t<tr><th></th><th scope=col>N</th><th scope=col>Y</th></tr>\n",
       "</thead>\n",
       "<tbody>\n",
       "\t<tr><th scope=row>1</th><td>5.626091e-05</td><td>0.9999437</td></tr>\n",
       "\t<tr><th scope=row>2</th><td>2.394538e-04</td><td>0.9997605</td></tr>\n",
       "\t<tr><th scope=row>3</th><td>1.105061e-02</td><td>0.9889494</td></tr>\n",
       "\t<tr><th scope=row>4</th><td>1.109508e-01</td><td>0.8890492</td></tr>\n",
       "</tbody>\n",
       "</table>\n"
      ],
      "text/latex": [
       "A matrix: 4 × 2 of type dbl\n",
       "\\begin{tabular}{r|ll}\n",
       "  & N & Y\\\\\n",
       "\\hline\n",
       "\t1 & 5.626091e-05 & 0.9999437\\\\\n",
       "\t2 & 2.394538e-04 & 0.9997605\\\\\n",
       "\t3 & 1.105061e-02 & 0.9889494\\\\\n",
       "\t4 & 1.109508e-01 & 0.8890492\\\\\n",
       "\\end{tabular}\n"
      ],
      "text/markdown": [
       "\n",
       "A matrix: 4 × 2 of type dbl\n",
       "\n",
       "| <!--/--> | N | Y |\n",
       "|---|---|---|\n",
       "| 1 | 5.626091e-05 | 0.9999437 |\n",
       "| 2 | 2.394538e-04 | 0.9997605 |\n",
       "| 3 | 1.105061e-02 | 0.9889494 |\n",
       "| 4 | 1.109508e-01 | 0.8890492 |\n",
       "\n"
      ],
      "text/plain": [
       "  N            Y        \n",
       "1 5.626091e-05 0.9999437\n",
       "2 2.394538e-04 0.9997605\n",
       "3 1.105061e-02 0.9889494\n",
       "4 1.109508e-01 0.8890492"
      ]
     },
     "metadata": {},
     "output_type": "display_data"
    },
    {
     "data": {
      "text/html": [
       "0.891082093329284"
      ],
      "text/latex": [
       "0.891082093329284"
      ],
      "text/markdown": [
       "0.891082093329284"
      ],
      "text/plain": [
       "[1] 0.8910821"
      ]
     },
     "metadata": {},
     "output_type": "display_data"
    },
    {
     "data": {
      "image/png": "[encoded data removed]",
      "text/plain": [
       "Plot with title \"ROC Curve\""
      ]
     },
     "metadata": {
      "image/png": {
       "height": 420,
       "width": 420
      }
     },
     "output_type": "display_data"
    }
   ],
   "source": [
    "# ---------------- #\n",
    "# Ewaluacja modelu #\n",
    "# ---------------- #\n",
    "\n",
    "### 1. Ewaluacja z wykorzystaniem macierzy pomylek\n",
    "confusionMatrix(wesbrook_pred, wesbrook_test$WESBROOK)\n",
    "\n",
    "### 2. Ewaluacja z wykorzystaniem krzywej ROC\n",
    "\n",
    "# Predykcja wartosci , wazne aby ustawic parametry : \n",
    "# decision.values = TRUE, probability = TRUE\n",
    "wesbrook_pred <- predict(wesbrook_mod, wesbrook_test, decision.values = TRUE, probability = TRUE)\n",
    "\n",
    "# Wyodrebnianie prawdopodobienstw\n",
    "attr(wesbrook_pred, \"probabilities\")[1:4,]\n",
    "\n",
    "wesbrook_pred_p <- attr(wesbrook_pred, \"probabilities\")\n",
    "\n",
    "roc_pred <-\n",
    "  prediction(\n",
    "    predictions = wesbrook_pred_p[, \"Y\"],\n",
    "    labels = wesbrook_test$WESBROOK\n",
    "  )\n",
    "\n",
    "roc_perf <- performance(roc_pred, measure = \"tpr\", x.measure = \"fpr\")\n",
    "\n",
    "plot(roc_perf, main = \"ROC Curve\", col = \"red\", lwd = 3)\n",
    "abline(a = 0, b = 1, lwd = 3, lty = 2, col = 1)\n",
    "\n",
    "### 3. Ewaluacja z wykorzystaniem wspolczynnika AUC\n",
    "\n",
    "# Wygenerowanie obiektu wydajnosci z parametrem measure = \"auc\"\n",
    "auc_perf <- performance(roc_pred, measure = \"auc\")\n",
    "\n",
    "# Wydobycie wartosci y.values ze slotu z obiektu auc_perf\n",
    "wesbrook_auc <- unlist(slot(auc_perf,\"y.values\"))\n",
    "wesbrook_auc\n"
   ]
  },
  {
   "cell_type": "code",
   "execution_count": 34,
   "id": "985fd343-7695-4cdb-91b3-52aa27961f4f",
   "metadata": {},
   "outputs": [
    {
     "name": "stdout",
     "output_type": "stream",
     "text": [
      "Support Vector Machines with Radial Basis Function Kernel \n",
      "\n",
      "1356 samples\n",
      "  26 predictor\n",
      "   2 classes: 'Y', 'N' \n",
      "\n",
      "No pre-processing\n",
      "Resampling: Cross-Validated (10 fold) \n",
      "Summary of sample sizes: 1220, 1221, 1221, 1220, 1220, 1220, ... \n",
      "Resampling results across tuning parameters:\n",
      "\n",
      "  C     Accuracy   Kappa    \n",
      "  0.25  0.6902996  0.3317840\n",
      "  0.50  0.7050599  0.3618937\n",
      "  1.00  0.7264161  0.4119449\n",
      "\n",
      "Tuning parameter 'sigma' was held constant at a value of 4.71925e-11\n",
      "Accuracy was used to select the optimal model using the largest value.\n",
      "The final values used for the model were sigma = 4.71925e-11 and C = 1.\n",
      "Support Vector Machines with Radial Basis Function Kernel \n",
      "\n",
      "1356 samples\n",
      "  26 predictor\n",
      "   2 classes: 'Y', 'N' \n",
      "\n",
      "No pre-processing\n",
      "Resampling: Repeated Train/Test Splits Estimated (10 reps, 75%) \n",
      "Summary of sample sizes: 1018, 1018, 1018, 1018, 1018, 1018, ... \n",
      "Resampling results across tuning parameters:\n",
      "\n",
      "  C     Accuracy   Kappa    \n",
      "  0.25  0.6967456  0.3445924\n",
      "  0.50  0.7014793  0.3557513\n",
      "  1.00  0.7298817  0.4226676\n",
      "\n",
      "Tuning parameter 'sigma' was held constant at a value of 6.367354e-11\n",
      "Accuracy was used to select the optimal model using the largest value.\n",
      "The final values used for the model were sigma = 6.367354e-11 and C = 1.\n"
     ]
    }
   ],
   "source": [
    "# ---------------- #\n",
    "# Walidacja modelu #\n",
    "# ---------------- #\n",
    "\n",
    "### Walidacja krzyzowa k-krotna\n",
    "ctrl <- trainControl(method = \"cv\", number = 10)\n",
    "wesbrook_cv_mod <- train(WESBROOK ~ ., data = wesbrook_train, method = \"svmRadial\", trControl = ctrl, probability = TRUE)\n",
    "print(wesbrook_cv_mod)\n",
    "\n",
    "### Walidacja krzyzowa losowa\n",
    "ctrl_random <- trainControl(method = \"LGOCV\", number = 10)\n",
    "wesbrook_random_mod <- train(WESBROOK ~ ., data = wesbrook_train, method = \"svmRadial\", trControl = ctrl_random, probability = TRUE)\n",
    "print(wesbrook_random_mod)"
   ]
  },
  {
   "cell_type": "code",
   "execution_count": 35,
   "id": "3c8d3a44-15c3-4ff2-a989-d307642c5823",
   "metadata": {},
   "outputs": [],
   "source": [
    "###########\n",
    "# WNIOSKI #\n",
    "###########"
   ]
  },
  {
   "cell_type": "code",
   "execution_count": null,
   "id": "303b5aaa-ce91-4a77-b37b-7aed77c93e82",
   "metadata": {},
   "outputs": [],
   "source": [
    "### 1. K-najblizszych sąsiadów\n",
    "\n",
    "# Dokładność (macierz pomylek): 70%\n",
    "# Krzywwa ROC:\n",
    "# - Powyżej linii losowości - zdolnośc klasyfikowania lepsza niż losowa\n",
    "# - Brak pełnego wygięcia do górnego lewego rogu - model nie jest idealny\n",
    "# Dokładność (walidacja k-krotna): 74%\n",
    "# Dokładność (walidacja losowa): 72%\n",
    "\n",
    "# Podsumowanie: model ma umiarkowaną skuteczność"
   ]
  },
  {
   "cell_type": "code",
   "execution_count": null,
   "id": "d8648add-c85a-468f-94a0-cfbb836fef63",
   "metadata": {},
   "outputs": [],
   "source": [
    "### 2. Naiwny klasyfikator Bayesa\n",
    "\n",
    "# Dokładność (macierz pomylek): 83%\n",
    "# Krzywwa ROC:\n",
    "# - Powyżej linii losowości - zdolnośc klasyfikowania lepsza niż losowa\n",
    "# - Mocniejsze wygięcie do górnego lewego rogu - model nie jest idealny, ale jest dość dobry\n",
    "# Dokładność (walidacja k-krotna): 55%\n",
    "# Dokładność (walidacja losowa): 87%\n",
    "\n",
    "# Podsumowanie: odel ma umiarkowanie dobrą skuteczność, walidacja k-krotna była zbyt krótka"
   ]
  },
  {
   "cell_type": "code",
   "execution_count": null,
   "id": "5b82e2a7-d23b-41ce-9147-122beb415b11",
   "metadata": {},
   "outputs": [],
   "source": [
    "### 3. Drzew klasyfikacyjnych\n",
    "\n",
    "# Dokładność (macierz pomylek): 94%\n",
    "# Krzywwa ROC:\n",
    "# - Powyżej linii losowości - zdolnośc klasyfikowania lepsza niż losowa\n",
    "# - Bardzo ostre wygięcie do górnego lewego rogo - bardzo dobry model\n",
    "# Dokładność (walidacja k-krotna): 94%\n",
    "# Dokładność (walidacja losowa): 94%\n",
    "\n",
    "# Podsumowanie: model jest bardzo dobry, osiaga duza skutecznosc odpowiedzi"
   ]
  },
  {
   "cell_type": "code",
   "execution_count": null,
   "id": "4298c716-a975-41d4-b9a0-9c0d4ec04139",
   "metadata": {},
   "outputs": [],
   "source": [
    "### 4. Lasow Losowych (Random Forest)\n",
    "\n",
    "# Dokładność (macierz pomylek): 94%\n",
    "# Krzywwa ROC:\n",
    "# - Powyżej linii losowości - zdolnośc klasyfikowania lepsza niż losowa\n",
    "# - Bardzo ostre wygięcie do górnego lewego rogo - dobry model\n",
    "# Dokładność (walidacja k-krotna): 92%\n",
    "# Dokładność (walidacja losowa): 93%\n",
    "\n",
    "# Podsumowanie: model jest bardzo dobry, osiaga duza skutecznosc odpowiedzi"
   ]
  },
  {
   "cell_type": "code",
   "execution_count": null,
   "id": "f7140604-bf54-4209-a357-74678b93112e",
   "metadata": {},
   "outputs": [],
   "source": [
    "### 5. Algorytmu XGBoost\n",
    "\n",
    "# Dokładność (macierz pomylek): 94%\n",
    "# Krzywwa ROC:\n",
    "# - Powyżej linii losowości - zdolnośc klasyfikowania lepsza niż losowa\n",
    "# - Bardzo ostre wygięcie do górnego lewego rogo - dobry model\n",
    "# Dokładność (walidacja k-krotna): 94%\n",
    "# Dokładność (walidacja losowa): 94%\n",
    "\n",
    "# Podsumowanie: model jest bardzo dobry, osiaga duza skutecznosc odpowiedzi\n"
   ]
  },
  {
   "cell_type": "code",
   "execution_count": null,
   "id": "702b27e2-76a8-4f85-9e16-787cf0d7dccc",
   "metadata": {},
   "outputs": [],
   "source": [
    "### 6. Metody SVM\n",
    "\n",
    "# Dokładność (macierz pomylek): 79%\n",
    "# Krzywwa ROC:\n",
    "# - Powyżej linii losowości - zdolnośc klasyfikowania lepsza niż losowa\n",
    "# - Brak pełnego wygięcia do górnego lewego rogu - model jest umiarkowanie dobry\n",
    "# Dokładność (walidacja k-krotna): 70%\n",
    "# Dokładność (walidacja losowa): 70%\n",
    "\n",
    "# Podsumowanie: model jest umiarkowanie dobry"
   ]
  },
  {
   "cell_type": "code",
   "execution_count": null,
   "id": "1614a271-8ebe-454d-85ec-fb4712a91536",
   "metadata": {},
   "outputs": [],
   "source": [
    "### Podsumowanie ćwiczenia\n",
    "\n",
    "# W ramach ćwiczenia udało się stworzyć 6 różnych modeli klasyfikacyjnych.\n",
    "# Modele K-najbliższych sąsiadów (KNN) oraz Metody SVN osiągnęły mniejszą\n",
    "# skuteczność niż pozostałe, ponieważ KNN sprawdza się lepiej dla małych\n",
    "# zbiorów danych, a SVN dla dobrze zbalansowanych. Modele Random Forest oraz\n",
    "# XGBoost mają lepszą zdolność generalizacji oraz odporność na problem\n",
    "# niezbalansowanych danych.Naiwny klasyfikator Bayesa miał przeciętną skuteczność\n",
    "# w porównaniu z pozostałymi modelami, wynika to tego, że jest to prosty model z\n",
    "# prostymi założeniami. Drzewa klasyfikacyjne mają bardzo precyzyjny wzrost\n",
    "# skuteczności oraz również osiągnął dużą skuteczność.\n",
    "\n",
    "# Do analizy modeli wykorzystano skuteczne narzędzia statystyczne takie jak wykres\n",
    "# krzywej ROC, współczynnik AUC oraz macierz pomyłek. Pozwoliły one na precyzyjną\n",
    "# ewaluację modeli. Dodatkowo udało się skutecznie przeprowadzić walidację krzyżową\n",
    "# k-krotną oraz losową, których wyniki potwierdziły poprawność ewaluacji modelu."
   ]
  }
 ],
 "metadata": {
  "kernelspec": {
   "display_name": "R",
   "language": "R",
   "name": "ir"
  },
  "language_info": {
   "codemirror_mode": "r",
   "file_extension": ".r",
   "mimetype": "text/x-r-source",
   "name": "R",
   "pygments_lexer": "r",
   "version": "4.4.1"
  }
 },
 "nbformat": 4,
 "nbformat_minor": 5
}
