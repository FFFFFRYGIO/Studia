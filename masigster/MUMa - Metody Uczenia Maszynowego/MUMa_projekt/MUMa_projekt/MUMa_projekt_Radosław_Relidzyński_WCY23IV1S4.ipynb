{
 "cells": [
  {
   "cell_type": "code",
   "execution_count": 12,
   "id": "8ca8b5ae-203c-4ed7-8ccd-30d913a34b61",
   "metadata": {},
   "outputs": [
    {
     "name": "stderr",
     "output_type": "stream",
     "text": [
      "Warning message:\n",
      "\"package 'tidyverse' was built under R version 4.4.2\"\n",
      "Warning message:\n",
      "\"package 'readr' was built under R version 4.4.2\"\n",
      "Warning message:\n",
      "\"package 'dplyr' was built under R version 4.4.2\"\n",
      "── \u001b[1mAttaching core tidyverse packages\u001b[22m ──────────────────────── tidyverse 2.0.0 ──\n",
      "\u001b[32m✔\u001b[39m \u001b[34mdplyr    \u001b[39m 1.1.4     \u001b[32m✔\u001b[39m \u001b[34mreadr    \u001b[39m 2.1.5\n",
      "\u001b[32m✔\u001b[39m \u001b[34mforcats  \u001b[39m 1.0.0     \u001b[32m✔\u001b[39m \u001b[34mstringr  \u001b[39m 1.5.1\n",
      "\u001b[32m✔\u001b[39m \u001b[34mggplot2  \u001b[39m 3.5.1     \u001b[32m✔\u001b[39m \u001b[34mtibble   \u001b[39m 3.2.1\n",
      "\u001b[32m✔\u001b[39m \u001b[34mlubridate\u001b[39m 1.9.3     \u001b[32m✔\u001b[39m \u001b[34mtidyr    \u001b[39m 1.3.1\n",
      "\u001b[32m✔\u001b[39m \u001b[34mpurrr    \u001b[39m 1.0.2     \n",
      "── \u001b[1mConflicts\u001b[22m ────────────────────────────────────────── tidyverse_conflicts() ──\n",
      "\u001b[31m✖\u001b[39m \u001b[34mdplyr\u001b[39m::\u001b[32mfilter()\u001b[39m masks \u001b[34mstats\u001b[39m::filter()\n",
      "\u001b[31m✖\u001b[39m \u001b[34mdplyr\u001b[39m::\u001b[32mlag()\u001b[39m    masks \u001b[34mstats\u001b[39m::lag()\n",
      "\u001b[36mℹ\u001b[39m Use the conflicted package (\u001b[3m\u001b[34m<http://conflicted.r-lib.org/>\u001b[39m\u001b[23m) to force all conflicts to become errors\n",
      "Warning message:\n",
      "\"package 'caret' was built under R version 4.4.2\"\n",
      "Loading required package: lattice\n",
      "\n",
      "\n",
      "Attaching package: 'caret'\n",
      "\n",
      "\n",
      "The following object is masked from 'package:purrr':\n",
      "\n",
      "    lift\n",
      "\n",
      "\n",
      "Warning message:\n",
      "\"package 'ROCR' was built under R version 4.4.2\"\n",
      "Warning message:\n",
      "\"package 'e1071' was built under R version 4.4.2\"\n",
      "Warning message:\n",
      "\"package 'rpart' was built under R version 4.4.2\"\n",
      "Warning message:\n",
      "\"package 'rpart.plot' was built under R version 4.4.2\"\n",
      "Warning message:\n",
      "\"package 'tree' was built under R version 4.4.2\"\n",
      "Warning message:\n",
      "\"package 'randomForest' was built under R version 4.4.2\"\n",
      "randomForest 4.7-1.2\n",
      "\n",
      "Type rfNews() to see new features/changes/bug fixes.\n",
      "\n",
      "\n",
      "Attaching package: 'randomForest'\n",
      "\n",
      "\n",
      "The following object is masked from 'package:dplyr':\n",
      "\n",
      "    combine\n",
      "\n",
      "\n",
      "The following object is masked from 'package:ggplot2':\n",
      "\n",
      "    margin\n",
      "\n",
      "\n",
      "Warning message:\n",
      "\"package 'xgboost' was built under R version 4.4.2\"\n",
      "\n",
      "Attaching package: 'xgboost'\n",
      "\n",
      "\n",
      "The following object is masked from 'package:dplyr':\n",
      "\n",
      "    slice\n",
      "\n",
      "\n",
      "dummies-1.5.6 provided by Decision Patterns\n",
      "\n",
      "\n"
     ]
    }
   ],
   "source": [
    "# Załadowanie bibliotek\n",
    "library(tidyverse)\n",
    "# - KNN\n",
    "library(class)\n",
    "library(caret)\n",
    "# - Bayes\n",
    "library(ROCR)\n",
    "library(e1071)\n",
    "# - Drzewa klasyfikacyjne\n",
    "library(rpart)\n",
    "library(rpart.plot)\n",
    "library(tree)\n",
    "# - Drzewa losowe\n",
    "library(randomForest)\n",
    "# - XGBoost\n",
    "library(xgboost)\n",
    "# - SVM\n",
    "\n",
    "# Zaladowanie pakietu dummies\n",
    "library(dummies)"
   ]
  },
  {
   "cell_type": "code",
   "execution_count": 14,
   "id": "86b23f30-582d-4cf3-954e-46ef16cbfdeb",
   "metadata": {},
   "outputs": [
    {
     "name": "stderr",
     "output_type": "stream",
     "text": [
      "\u001b[1mRows: \u001b[22m\u001b[34m1599\u001b[39m \u001b[1mColumns: \u001b[22m\u001b[34m12\u001b[39m\n",
      "\u001b[36m──\u001b[39m \u001b[1mColumn specification\u001b[22m \u001b[36m────────────────────────────────────────────────────────\u001b[39m\n",
      "\u001b[1mDelimiter:\u001b[22m \";\"\n",
      "\u001b[32mdbl\u001b[39m (12): fixed acidity, volatile acidity, citric acid, residual sugar, chlo...\n",
      "\n",
      "\u001b[36mℹ\u001b[39m Use `spec()` to retrieve the full column specification for this data.\n",
      "\u001b[36mℹ\u001b[39m Specify the column types or set `show_col_types = FALSE` to quiet this message.\n",
      "\u001b[1mRows: \u001b[22m\u001b[34m4898\u001b[39m \u001b[1mColumns: \u001b[22m\u001b[34m12\u001b[39m\n",
      "\u001b[36m──\u001b[39m \u001b[1mColumn specification\u001b[22m \u001b[36m────────────────────────────────────────────────────────\u001b[39m\n",
      "\u001b[1mDelimiter:\u001b[22m \";\"\n",
      "\u001b[32mdbl\u001b[39m (12): fixed acidity, volatile acidity, citric acid, residual sugar, chlo...\n",
      "\n",
      "\u001b[36mℹ\u001b[39m Use `spec()` to retrieve the full column specification for this data.\n",
      "\u001b[36mℹ\u001b[39m Specify the column types or set `show_col_types = FALSE` to quiet this message.\n"
     ]
    },
    {
     "name": "stdout",
     "output_type": "stream",
     "text": [
      "Rows: 6,497\n",
      "Columns: 13\n",
      "$ fixed_acidity        \u001b[3m\u001b[90m<dbl>\u001b[39m\u001b[23m 7.4, 7.8, 7.8, 11.2, 7.4, 7.4, 7.9, 7.3, 7.8, 7.5…\n",
      "$ volatile_acidity     \u001b[3m\u001b[90m<dbl>\u001b[39m\u001b[23m 0.700, 0.880, 0.760, 0.280, 0.700, 0.660, 0.600, …\n",
      "$ citric_acid          \u001b[3m\u001b[90m<dbl>\u001b[39m\u001b[23m 0.00, 0.00, 0.04, 0.56, 0.00, 0.00, 0.06, 0.00, 0…\n",
      "$ residual_sugar       \u001b[3m\u001b[90m<dbl>\u001b[39m\u001b[23m 1.9, 2.6, 2.3, 1.9, 1.9, 1.8, 1.6, 1.2, 2.0, 6.1,…\n",
      "$ chlorides            \u001b[3m\u001b[90m<dbl>\u001b[39m\u001b[23m 0.076, 0.098, 0.092, 0.075, 0.076, 0.075, 0.069, …\n",
      "$ free_sulfur_dioxide  \u001b[3m\u001b[90m<dbl>\u001b[39m\u001b[23m 11, 25, 15, 17, 11, 13, 15, 15, 9, 17, 15, 17, 16…\n",
      "$ total_sulfur_dioxide \u001b[3m\u001b[90m<dbl>\u001b[39m\u001b[23m 34, 67, 54, 60, 34, 40, 59, 21, 18, 102, 65, 102,…\n",
      "$ density              \u001b[3m\u001b[90m<dbl>\u001b[39m\u001b[23m 0.9978, 0.9968, 0.9970, 0.9980, 0.9978, 0.9978, 0…\n",
      "$ pH                   \u001b[3m\u001b[90m<dbl>\u001b[39m\u001b[23m 3.51, 3.20, 3.26, 3.16, 3.51, 3.51, 3.30, 3.39, 3…\n",
      "$ sulphates            \u001b[3m\u001b[90m<dbl>\u001b[39m\u001b[23m 0.56, 0.68, 0.65, 0.58, 0.56, 0.56, 0.46, 0.47, 0…\n",
      "$ alcohol              \u001b[3m\u001b[90m<dbl>\u001b[39m\u001b[23m 9.4, 9.8, 9.8, 9.8, 9.4, 9.4, 9.4, 10.0, 9.5, 10.…\n",
      "$ quality              \u001b[3m\u001b[90m<fct>\u001b[39m\u001b[23m bad, bad, bad, good, bad, bad, bad, good, good, b…\n",
      "$ is_red               \u001b[3m\u001b[90m<dbl>\u001b[39m\u001b[23m 1, 1, 1, 1, 1, 1, 1, 1, 1, 1, 1, 1, 1, 1, 1, 1, 1…\n"
     ]
    },
    {
     "data": {
      "text/html": [
       "<table class=\"dataframe\">\n",
       "<caption>A tibble: 6 × 13</caption>\n",
       "<thead>\n",
       "\t<tr><th scope=col>fixed_acidity</th><th scope=col>volatile_acidity</th><th scope=col>citric_acid</th><th scope=col>residual_sugar</th><th scope=col>chlorides</th><th scope=col>free_sulfur_dioxide</th><th scope=col>total_sulfur_dioxide</th><th scope=col>density</th><th scope=col>pH</th><th scope=col>sulphates</th><th scope=col>alcohol</th><th scope=col>quality</th><th scope=col>is_red</th></tr>\n",
       "\t<tr><th scope=col>&lt;dbl&gt;</th><th scope=col>&lt;dbl&gt;</th><th scope=col>&lt;dbl&gt;</th><th scope=col>&lt;dbl&gt;</th><th scope=col>&lt;dbl&gt;</th><th scope=col>&lt;dbl&gt;</th><th scope=col>&lt;dbl&gt;</th><th scope=col>&lt;dbl&gt;</th><th scope=col>&lt;dbl&gt;</th><th scope=col>&lt;dbl&gt;</th><th scope=col>&lt;dbl&gt;</th><th scope=col>&lt;fct&gt;</th><th scope=col>&lt;dbl&gt;</th></tr>\n",
       "</thead>\n",
       "<tbody>\n",
       "\t<tr><td> 7.4</td><td>0.70</td><td>0.00</td><td>1.9</td><td>0.076</td><td>11</td><td>34</td><td>0.9978</td><td>3.51</td><td>0.56</td><td>9.4</td><td>bad </td><td>1</td></tr>\n",
       "\t<tr><td> 7.8</td><td>0.88</td><td>0.00</td><td>2.6</td><td>0.098</td><td>25</td><td>67</td><td>0.9968</td><td>3.20</td><td>0.68</td><td>9.8</td><td>bad </td><td>1</td></tr>\n",
       "\t<tr><td> 7.8</td><td>0.76</td><td>0.04</td><td>2.3</td><td>0.092</td><td>15</td><td>54</td><td>0.9970</td><td>3.26</td><td>0.65</td><td>9.8</td><td>bad </td><td>1</td></tr>\n",
       "\t<tr><td>11.2</td><td>0.28</td><td>0.56</td><td>1.9</td><td>0.075</td><td>17</td><td>60</td><td>0.9980</td><td>3.16</td><td>0.58</td><td>9.8</td><td>good</td><td>1</td></tr>\n",
       "\t<tr><td> 7.4</td><td>0.70</td><td>0.00</td><td>1.9</td><td>0.076</td><td>11</td><td>34</td><td>0.9978</td><td>3.51</td><td>0.56</td><td>9.4</td><td>bad </td><td>1</td></tr>\n",
       "\t<tr><td> 7.4</td><td>0.66</td><td>0.00</td><td>1.8</td><td>0.075</td><td>13</td><td>40</td><td>0.9978</td><td>3.51</td><td>0.56</td><td>9.4</td><td>bad </td><td>1</td></tr>\n",
       "</tbody>\n",
       "</table>\n"
      ],
      "text/latex": [
       "A tibble: 6 × 13\n",
       "\\begin{tabular}{lllllllllllll}\n",
       " fixed\\_acidity & volatile\\_acidity & citric\\_acid & residual\\_sugar & chlorides & free\\_sulfur\\_dioxide & total\\_sulfur\\_dioxide & density & pH & sulphates & alcohol & quality & is\\_red\\\\\n",
       " <dbl> & <dbl> & <dbl> & <dbl> & <dbl> & <dbl> & <dbl> & <dbl> & <dbl> & <dbl> & <dbl> & <fct> & <dbl>\\\\\n",
       "\\hline\n",
       "\t  7.4 & 0.70 & 0.00 & 1.9 & 0.076 & 11 & 34 & 0.9978 & 3.51 & 0.56 & 9.4 & bad  & 1\\\\\n",
       "\t  7.8 & 0.88 & 0.00 & 2.6 & 0.098 & 25 & 67 & 0.9968 & 3.20 & 0.68 & 9.8 & bad  & 1\\\\\n",
       "\t  7.8 & 0.76 & 0.04 & 2.3 & 0.092 & 15 & 54 & 0.9970 & 3.26 & 0.65 & 9.8 & bad  & 1\\\\\n",
       "\t 11.2 & 0.28 & 0.56 & 1.9 & 0.075 & 17 & 60 & 0.9980 & 3.16 & 0.58 & 9.8 & good & 1\\\\\n",
       "\t  7.4 & 0.70 & 0.00 & 1.9 & 0.076 & 11 & 34 & 0.9978 & 3.51 & 0.56 & 9.4 & bad  & 1\\\\\n",
       "\t  7.4 & 0.66 & 0.00 & 1.8 & 0.075 & 13 & 40 & 0.9978 & 3.51 & 0.56 & 9.4 & bad  & 1\\\\\n",
       "\\end{tabular}\n"
      ],
      "text/markdown": [
       "\n",
       "A tibble: 6 × 13\n",
       "\n",
       "| fixed_acidity &lt;dbl&gt; | volatile_acidity &lt;dbl&gt; | citric_acid &lt;dbl&gt; | residual_sugar &lt;dbl&gt; | chlorides &lt;dbl&gt; | free_sulfur_dioxide &lt;dbl&gt; | total_sulfur_dioxide &lt;dbl&gt; | density &lt;dbl&gt; | pH &lt;dbl&gt; | sulphates &lt;dbl&gt; | alcohol &lt;dbl&gt; | quality &lt;fct&gt; | is_red &lt;dbl&gt; |\n",
       "|---|---|---|---|---|---|---|---|---|---|---|---|---|\n",
       "|  7.4 | 0.70 | 0.00 | 1.9 | 0.076 | 11 | 34 | 0.9978 | 3.51 | 0.56 | 9.4 | bad  | 1 |\n",
       "|  7.8 | 0.88 | 0.00 | 2.6 | 0.098 | 25 | 67 | 0.9968 | 3.20 | 0.68 | 9.8 | bad  | 1 |\n",
       "|  7.8 | 0.76 | 0.04 | 2.3 | 0.092 | 15 | 54 | 0.9970 | 3.26 | 0.65 | 9.8 | bad  | 1 |\n",
       "| 11.2 | 0.28 | 0.56 | 1.9 | 0.075 | 17 | 60 | 0.9980 | 3.16 | 0.58 | 9.8 | good | 1 |\n",
       "|  7.4 | 0.70 | 0.00 | 1.9 | 0.076 | 11 | 34 | 0.9978 | 3.51 | 0.56 | 9.4 | bad  | 1 |\n",
       "|  7.4 | 0.66 | 0.00 | 1.8 | 0.075 | 13 | 40 | 0.9978 | 3.51 | 0.56 | 9.4 | bad  | 1 |\n",
       "\n"
      ],
      "text/plain": [
       "  fixed_acidity volatile_acidity citric_acid residual_sugar chlorides\n",
       "1  7.4          0.70             0.00        1.9            0.076    \n",
       "2  7.8          0.88             0.00        2.6            0.098    \n",
       "3  7.8          0.76             0.04        2.3            0.092    \n",
       "4 11.2          0.28             0.56        1.9            0.075    \n",
       "5  7.4          0.70             0.00        1.9            0.076    \n",
       "6  7.4          0.66             0.00        1.8            0.075    \n",
       "  free_sulfur_dioxide total_sulfur_dioxide density pH   sulphates alcohol\n",
       "1 11                  34                   0.9978  3.51 0.56      9.4    \n",
       "2 25                  67                   0.9968  3.20 0.68      9.8    \n",
       "3 15                  54                   0.9970  3.26 0.65      9.8    \n",
       "4 17                  60                   0.9980  3.16 0.58      9.8    \n",
       "5 11                  34                   0.9978  3.51 0.56      9.4    \n",
       "6 13                  40                   0.9978  3.51 0.56      9.4    \n",
       "  quality is_red\n",
       "1 bad     1     \n",
       "2 bad     1     \n",
       "3 bad     1     \n",
       "4 good    1     \n",
       "5 bad     1     \n",
       "6 bad     1     "
      ]
     },
     "metadata": {},
     "output_type": "display_data"
    }
   ],
   "source": [
    "# Definicja pliku url i plików z winem\n",
    "url <- \"https://archive.ics.uci.edu/ml/machine-learning-databases/wine-quality/winequality-red.csv\"\n",
    "red_file <- \"winequality-red.csv\"\n",
    "white_file <- \"winequality-white.csv\"\n",
    "\n",
    "# Pobieranie plików ze zbiorami\n",
    "download.file(url, red_file)\n",
    "download.file(gsub(\"red\", \"white\", url), white_file)\n",
    "\n",
    "# Pobranie zbioru z dodaniem informacji o kolorze wina\n",
    "wine_red <- read_delim('winequality-red.csv', delim = ';') %>%\n",
    " mutate(is_red = 1)\n",
    "wine_white <- read_delim('winequality-white.csv', delim = ';') %>%\n",
    " mutate(is_red = 0)\n",
    "\n",
    "# Połączenie zbiorów wzdłuż wierszy\n",
    "wine <- bind_rows(wine_red, wine_white)\n",
    "\n",
    "# Zmiana nazw kolumn, zastąpienie spacji znakiem \"_\"\n",
    "colnames(wine) <- gsub(\" \", \"_\", colnames(wine))\n",
    "\n",
    "# Zamiana wartości numerycznej factor\n",
    "wine$quality <- factor(ifelse(wine$quality > 5, 'good', 'bad'))\n",
    "\n",
    "# Sprawdzenie struktury danych\n",
    "glimpse(wine)\n",
    "\n",
    "# Podejrzenie początku danych\n",
    "head(wine)\n",
    "\n",
    "# Zapisanie kopii zbioru dla jego przywracania\n",
    "wine_backup <- wine"
   ]
  },
  {
   "cell_type": "code",
   "execution_count": 39,
   "id": "67e0e76d-b368-4cc1-a181-18eff29cf0dc",
   "metadata": {},
   "outputs": [],
   "source": [
    "##################################\n",
    "# 1. K-najblizszych sasiadow     #\n",
    "##################################"
   ]
  },
  {
   "cell_type": "code",
   "execution_count": 40,
   "id": "4dae09a6-c011-45c4-a0cd-2ed370078756",
   "metadata": {},
   "outputs": [
    {
     "data": {
      "text/html": [
       "<style>\n",
       ".list-inline {list-style: none; margin:0; padding: 0}\n",
       ".list-inline>li {display: inline-block}\n",
       ".list-inline>li:not(:last-child)::after {content: \"\\00b7\"; padding: 0 .5ex}\n",
       "</style>\n",
       "<ol class=list-inline><li>'fixed_acidity'</li><li>'volatile_acidity'</li><li>'citric_acid'</li><li>'residual_sugar'</li><li>'chlorides'</li><li>'free_sulfur_dioxide'</li><li>'total_sulfur_dioxide'</li><li>'density'</li><li>'pH'</li><li>'sulphates'</li><li>'alcohol'</li><li>'is_red'</li></ol>\n"
      ],
      "text/latex": [
       "\\begin{enumerate*}\n",
       "\\item 'fixed\\_acidity'\n",
       "\\item 'volatile\\_acidity'\n",
       "\\item 'citric\\_acid'\n",
       "\\item 'residual\\_sugar'\n",
       "\\item 'chlorides'\n",
       "\\item 'free\\_sulfur\\_dioxide'\n",
       "\\item 'total\\_sulfur\\_dioxide'\n",
       "\\item 'density'\n",
       "\\item 'pH'\n",
       "\\item 'sulphates'\n",
       "\\item 'alcohol'\n",
       "\\item 'is\\_red'\n",
       "\\end{enumerate*}\n"
      ],
      "text/markdown": [
       "1. 'fixed_acidity'\n",
       "2. 'volatile_acidity'\n",
       "3. 'citric_acid'\n",
       "4. 'residual_sugar'\n",
       "5. 'chlorides'\n",
       "6. 'free_sulfur_dioxide'\n",
       "7. 'total_sulfur_dioxide'\n",
       "8. 'density'\n",
       "9. 'pH'\n",
       "10. 'sulphates'\n",
       "11. 'alcohol'\n",
       "12. 'is_red'\n",
       "\n",
       "\n"
      ],
      "text/plain": [
       " [1] \"fixed_acidity\"        \"volatile_acidity\"     \"citric_acid\"         \n",
       " [4] \"residual_sugar\"       \"chlorides\"            \"free_sulfur_dioxide\" \n",
       " [7] \"total_sulfur_dioxide\" \"density\"              \"pH\"                  \n",
       "[10] \"sulphates\"            \"alcohol\"              \"is_red\"              "
      ]
     },
     "metadata": {},
     "output_type": "display_data"
    }
   ],
   "source": [
    "# -------------------- #\n",
    "# Przygotowanie danych #\n",
    "# -------------------- #\n",
    "\n",
    "# Usuniecie obiektow dla czystego startu modelu\n",
    "rm(list = setdiff(ls(), \"wine_backup\"))\n",
    "\n",
    "# Przywrocenie zbioru z kopii\n",
    "wine <- wine_backup\n",
    "\n",
    "### Normalizacja zmiennych numerycznych\n",
    "\n",
    "# Funkcja normalizujaca metoda min - max\n",
    "normalize <- function(x) {\n",
    "  return((x - min(x)) / (max(x) - min(x)))\n",
    "}\n",
    "\n",
    "\n",
    "# Zastosowanie funkcji normalizujacej dla kazdej zmiennej numerycznej\n",
    "wine <- wine %>%\n",
    "  mutate(across(where(is.numeric), normalize))\n",
    "\n",
    "### Kodowanie zero jedynkowe zmiennych typu factor\n",
    "\n",
    "# Zmiana obiektu z tibble na data.frame\n",
    "wine <- data.frame(wine)\n",
    "\n",
    "# Wydzielenie ze zbioru zmiennej objasnianej\n",
    "wine_labels <- wine %>% select(quality)\n",
    "wine <- wine %>% select(-quality)\n",
    "\n",
    "# Podglad etykiet zmiennych\n",
    "colnames(wine)\n",
    "\n",
    "# Utworzenie ramki danych\n",
    "wine <- as.data.frame(wine)\n",
    "\n",
    "# Utworzenie zmiennych sztucznych dla zmiennych czynnikowych\n",
    "factor_columns <- names(wine)[sapply(wine, is.factor)]\n",
    "wine <- dummy.data.frame(data = wine, factor_columns, sep = \"_\")\n",
    "\n",
    "###  Podzial zbioru na treningowy i testowy w proporcjach 75% do 25%\n",
    "\n",
    "set.seed(1234)\n",
    "sample_index <-\n",
    "  sample(nrow(wine), round(nrow(wine) * .75), replace = FALSE)\n",
    "wine_train <- wine[sample_index,]\n",
    "wine_test <- wine[-sample_index,]\n",
    "\n",
    "# Powtorzenie operacji dla zmiennej objasnianej heartDisease\n",
    "wine_train_labels <- as.factor(wine_labels[sample_index,])\n",
    "wine_test_labels <- as.factor(wine_labels[-sample_index,])"
   ]
  },
  {
   "cell_type": "code",
   "execution_count": 41,
   "id": "5ff18658-b64f-4f16-a92b-a0002a412303",
   "metadata": {},
   "outputs": [
    {
     "data": {
      "text/html": [
       "<style>\n",
       ".list-inline {list-style: none; margin:0; padding: 0}\n",
       ".list-inline>li {display: inline-block}\n",
       ".list-inline>li:not(:last-child)::after {content: \"\\00b7\"; padding: 0 .5ex}\n",
       "</style>\n",
       "<ol class=list-inline><li>bad</li><li>bad</li><li>bad</li><li>bad</li><li>bad</li><li>bad</li></ol>\n",
       "\n",
       "<details>\n",
       "\t<summary style=display:list-item;cursor:pointer>\n",
       "\t\t<strong>Levels</strong>:\n",
       "\t</summary>\n",
       "\t<style>\n",
       "\t.list-inline {list-style: none; margin:0; padding: 0}\n",
       "\t.list-inline>li {display: inline-block}\n",
       "\t.list-inline>li:not(:last-child)::after {content: \"\\00b7\"; padding: 0 .5ex}\n",
       "\t</style>\n",
       "\t<ol class=list-inline><li>'bad'</li><li>'good'</li></ol>\n",
       "</details>"
      ],
      "text/latex": [
       "\\begin{enumerate*}\n",
       "\\item bad\n",
       "\\item bad\n",
       "\\item bad\n",
       "\\item bad\n",
       "\\item bad\n",
       "\\item bad\n",
       "\\end{enumerate*}\n",
       "\n",
       "\\emph{Levels}: \\begin{enumerate*}\n",
       "\\item 'bad'\n",
       "\\item 'good'\n",
       "\\end{enumerate*}\n"
      ],
      "text/markdown": [
       "1. bad\n",
       "2. bad\n",
       "3. bad\n",
       "4. bad\n",
       "5. bad\n",
       "6. bad\n",
       "\n",
       "\n",
       "\n",
       "**Levels**: 1. 'bad'\n",
       "2. 'good'\n",
       "\n",
       "\n"
      ],
      "text/plain": [
       "[1] bad bad bad bad bad bad\n",
       "Levels: bad good"
      ]
     },
     "metadata": {},
     "output_type": "display_data"
    }
   ],
   "source": [
    "# ---------------- #\n",
    "# Tworzenie modelu #\n",
    "# ---------------- #\n",
    "\n",
    "# Deklaracja wartosci k\n",
    "k <- 15\n",
    "\n",
    "### Budowa modelu KNN za pomoca funkcji knn() z pakietu class\n",
    "wine_pred <-\n",
    "  knn(\n",
    "    train = wine_train,\n",
    "    test = wine_test,\n",
    "    cl = wine_train_labels,\n",
    "    k = k\n",
    "  )\n",
    "\n",
    "# Podejrzenie pierwszych 6 elementów modelu\n",
    "head(wine_pred)"
   ]
  },
  {
   "cell_type": "code",
   "execution_count": 42,
   "id": "a056d84d-849d-47f1-94d4-c46f7a37f7f4",
   "metadata": {},
   "outputs": [
    {
     "data": {
      "text/plain": [
       "Confusion Matrix and Statistics\n",
       "\n",
       "          Reference\n",
       "Prediction bad good\n",
       "      bad  341  127\n",
       "      good 282  874\n",
       "                                          \n",
       "               Accuracy : 0.7482          \n",
       "                 95% CI : (0.7263, 0.7691)\n",
       "    No Information Rate : 0.6164          \n",
       "    P-Value [Acc > NIR] : < 2.2e-16       \n",
       "                                          \n",
       "                  Kappa : 0.4412          \n",
       "                                          \n",
       " Mcnemar's Test P-Value : 2.641e-14       \n",
       "                                          \n",
       "            Sensitivity : 0.5474          \n",
       "            Specificity : 0.8731          \n",
       "         Pos Pred Value : 0.7286          \n",
       "         Neg Pred Value : 0.7561          \n",
       "             Prevalence : 0.3836          \n",
       "         Detection Rate : 0.2100          \n",
       "   Detection Prevalence : 0.2882          \n",
       "      Balanced Accuracy : 0.7102          \n",
       "                                          \n",
       "       'Positive' Class : bad             \n",
       "                                          "
      ]
     },
     "metadata": {},
     "output_type": "display_data"
    },
    {
     "data": {
      "text/html": [
       "0.818241148899255"
      ],
      "text/latex": [
       "0.818241148899255"
      ],
      "text/markdown": [
       "0.818241148899255"
      ],
      "text/plain": [
       "[1] 0.8182411"
      ]
     },
     "metadata": {},
     "output_type": "display_data"
    },
    {
     "data": {
      "image/png": "[encoded data removed]",
      "text/plain": [
       "Plot with title \"ROC Curve\""
      ]
     },
     "metadata": {
      "image/png": {
       "height": 420,
       "width": 420
      }
     },
     "output_type": "display_data"
    }
   ],
   "source": [
    "# ---------------- #\n",
    "# Ewaluacja modelu #\n",
    "# ---------------- #\n",
    "\n",
    "### 1. Ewaluacja z wykorzystaniem macierzy pomylek\n",
    "confusionMatrix(wine_pred, wine_test_labels)\n",
    "\n",
    "### 2. Ewaluacja z wykorzystaniem krzywej ROC\n",
    "\n",
    "# Trening modelu KNN\n",
    "knn_model <- train(\n",
    "  x = wine_train, \n",
    "  y = wine_train_labels, \n",
    "  method = \"knn\", \n",
    "  trControl = trainControl(method = \"cv\", number = 10),\n",
    "  tuneGrid = expand.grid(k = k)  # Określenie wartości k\n",
    ")\n",
    "\n",
    "wine_pred_p <- predict(knn_model, wine_test, type = \"prob\")\n",
    "\n",
    "roc_pred <-\n",
    "  prediction(\n",
    "    predictions = wine_pred_p[, 2],\n",
    "    labels = wine_test_labels\n",
    "  )\n",
    "\n",
    "roc_perf <- performance(roc_pred, measure = \"tpr\", x.measure = \"fpr\")\n",
    "\n",
    "plot(roc_perf, main = \"ROC Curve\", col = \"red\", lwd = 3)\n",
    "abline(a = 0, b = 1, lwd = 3, lty = 2, col = 1)\n",
    "\n",
    "### 3. Ewaluacja z wykorzystaniem wspolczynnika AUC\n",
    "\n",
    "# Obliczanie pola pod krzywa ROC\n",
    "\n",
    "# Wygenerowanie obiektu wydajnosci z parametrem measure = \"auc\"\n",
    "auc_perf <- performance(roc_pred, measure = \"auc\")\n",
    "\n",
    "# Wydobycie wartosci y.values ze slotu z obiektu auc_perf\n",
    "wine_auc <- unlist(slot(auc_perf,\"y.values\"))\n",
    "wine_auc"
   ]
  },
  {
   "cell_type": "code",
   "execution_count": 43,
   "id": "24ab1e27-e2c2-4664-b77e-a9cc76ef1ab7",
   "metadata": {},
   "outputs": [
    {
     "name": "stdout",
     "output_type": "stream",
     "text": [
      "k-Nearest Neighbors \n",
      "\n",
      "4873 samples\n",
      "  12 predictor\n",
      "   2 classes: 'bad', 'good' \n",
      "\n",
      "No pre-processing\n",
      "Resampling: Cross-Validated (10 fold) \n",
      "Summary of sample sizes: 4385, 4386, 4385, 4385, 4386, 4386, ... \n",
      "Resampling results across tuning parameters:\n",
      "\n",
      "  k  Accuracy   Kappa    \n",
      "  5  0.7570249  0.4614062\n",
      "  7  0.7560003  0.4566176\n",
      "  9  0.7551852  0.4511348\n",
      "\n",
      "Accuracy was used to select the optimal model using the largest value.\n",
      "The final value used for the model was k = 5.\n",
      "k-Nearest Neighbors \n",
      "\n",
      "4873 samples\n",
      "  12 predictor\n",
      "   2 classes: 'bad', 'good' \n",
      "\n",
      "No pre-processing\n",
      "Resampling: Bootstrapped (100 reps) \n",
      "Summary of sample sizes: 4873, 4873, 4873, 4873, 4873, 4873, ... \n",
      "Resampling results across tuning parameters:\n",
      "\n",
      "  k  Accuracy   Kappa    \n",
      "  5  0.7283596  0.4012875\n",
      "  7  0.7328576  0.4076421\n",
      "  9  0.7363688  0.4133610\n",
      "\n",
      "Accuracy was used to select the optimal model using the largest value.\n",
      "The final value used for the model was k = 9.\n"
     ]
    }
   ],
   "source": [
    "# ---------------- #\n",
    "# Walidacja modelu #\n",
    "# ---------------- #\n",
    "\n",
    "### Walidacja krzyzowa k-krotna\n",
    "knn_cv <- train(\n",
    "  x = wine_train, \n",
    "  y = wine_train_labels, \n",
    "  method = \"knn\", \n",
    "  trControl = trainControl(method = \"cv\", number = 10)\n",
    ")\n",
    "print(knn_cv)\n",
    "\n",
    "### Walidacja krzyzowa losowa\n",
    "knn_boot <- train(\n",
    "  x = wine_train, \n",
    "  y = wine_train_labels, \n",
    "  method = \"knn\", \n",
    "  trControl = trainControl(method = \"boot\", number = 100)\n",
    ")\n",
    "print(knn_boot)"
   ]
  },
  {
   "cell_type": "code",
   "execution_count": 44,
   "id": "80b8a582-3e36-403f-b12e-6e119da82319",
   "metadata": {},
   "outputs": [],
   "source": [
    "##################################\n",
    "# 2. Naiwny klasyfikator Bayesa  #\n",
    "##################################"
   ]
  },
  {
   "cell_type": "code",
   "execution_count": 45,
   "id": "09f6036e-a0d1-44ff-a96e-8a30303ba48b",
   "metadata": {},
   "outputs": [
    {
     "data": {
      "text/plain": [
       "quality\n",
       " bad good \n",
       "0.37 0.63 "
      ]
     },
     "metadata": {},
     "output_type": "display_data"
    },
    {
     "data": {
      "text/plain": [
       "quality\n",
       " bad good \n",
       "0.36 0.64 "
      ]
     },
     "metadata": {},
     "output_type": "display_data"
    },
    {
     "data": {
      "text/plain": [
       "quality\n",
       " bad good \n",
       "0.38 0.62 "
      ]
     },
     "metadata": {},
     "output_type": "display_data"
    }
   ],
   "source": [
    "# -------------------- #\n",
    "# Przygotowanie danych #\n",
    "# -------------------- #\n",
    "\n",
    "# Usuniecie obiektow dla czystego startu modelu\n",
    "rm(list = setdiff(ls(), \"wine_backup\"))\n",
    "\n",
    "# Przywrocenie zbioru z kopii\n",
    "wine <- wine_backup\n",
    "\n",
    "###  Podzial zbioru na treningowy i testowy w proporcjach 75% do 25%\n",
    "\n",
    "set.seed(1234)\n",
    "sample_index <-\n",
    "  sample(nrow(wine), round(nrow(wine) * .75), replace = FALSE)\n",
    "wine_train <- wine[sample_index,]\n",
    "wine_test <- wine[-sample_index,]\n",
    "\n",
    "# Sprawdzenie proporcji klas dla wszystkich trzech zbiorow\n",
    "round(prop.table(table(select(wine, quality))),2)\n",
    "round(prop.table(table(select(wine_train, quality))),2)\n",
    "round(prop.table(table(select(wine_test, quality))),2)"
   ]
  },
  {
   "cell_type": "code",
   "execution_count": 46,
   "id": "4198589a-a98e-4bb0-8e0a-71142d01b2cc",
   "metadata": {},
   "outputs": [
    {
     "data": {
      "text/plain": [
       "\n",
       "Naive Bayes Classifier for Discrete Predictors\n",
       "\n",
       "Call:\n",
       "naiveBayes.default(x = X, y = Y, laplace = laplace)\n",
       "\n",
       "A-priori probabilities:\n",
       "Y\n",
       "     bad     good \n",
       "0.361379 0.638621 \n",
       "\n",
       "Conditional probabilities:\n",
       "      fixed_acidity\n",
       "Y          [,1]     [,2]\n",
       "  bad  7.321692 1.275295\n",
       "  good 7.168445 1.319152\n",
       "\n",
       "      volatile_acidity\n",
       "Y           [,1]      [,2]\n",
       "  bad  0.4009994 0.1896505\n",
       "  good 0.3072108 0.1394307\n",
       "\n",
       "      citric_acid\n",
       "Y           [,1]      [,2]\n",
       "  bad  0.3025383 0.1623817\n",
       "  good 0.3269794 0.1326866\n",
       "\n",
       "      residual_sugar\n",
       "Y          [,1]     [,2]\n",
       "  bad  5.621437 4.942188\n",
       "  good 5.298731 4.681868\n",
       "\n",
       "      chlorides\n",
       "Y            [,1]       [,2]\n",
       "  bad  0.06499546 0.04566480\n",
       "  good 0.05141902 0.02896202\n",
       "\n",
       "      free_sulfur_dioxide\n",
       "Y          [,1]     [,2]\n",
       "  bad  29.41539 20.05540\n",
       "  good 31.11648 16.59917\n",
       "\n",
       "      total_sulfur_dioxide\n",
       "Y          [,1]     [,2]\n",
       "  bad  119.4458 62.07369\n",
       "  good 113.5603 53.58068\n",
       "\n",
       "      density\n",
       "Y           [,1]        [,2]\n",
       "  bad  0.9957275 0.002482757\n",
       "  good 0.9941290 0.003126220\n",
       "\n",
       "      pH\n",
       "Y          [,1]      [,2]\n",
       "  bad  3.215537 0.1609071\n",
       "  good 3.221497 0.1604574\n",
       "\n",
       "      sulphates\n",
       "Y           [,1]      [,2]\n",
       "  bad  0.5219421 0.1408323\n",
       "  good 0.5367674 0.1517889\n",
       "\n",
       "      alcohol\n",
       "Y           [,1]      [,2]\n",
       "  bad   9.877378 0.8565403\n",
       "  good 10.830946 1.2013275\n",
       "\n",
       "      is_red\n",
       "Y           [,1]      [,2]\n",
       "  bad  0.3100511 0.4626456\n",
       "  good 0.2120823 0.4088485\n"
      ]
     },
     "metadata": {},
     "output_type": "display_data"
    },
    {
     "data": {
      "text/html": [
       "<style>\n",
       ".list-inline {list-style: none; margin:0; padding: 0}\n",
       ".list-inline>li {display: inline-block}\n",
       ".list-inline>li:not(:last-child)::after {content: \"\\00b7\"; padding: 0 .5ex}\n",
       "</style>\n",
       "<ol class=list-inline><li>bad</li><li>bad</li><li>bad</li><li>bad</li><li>bad</li><li>bad</li></ol>\n",
       "\n",
       "<details>\n",
       "\t<summary style=display:list-item;cursor:pointer>\n",
       "\t\t<strong>Levels</strong>:\n",
       "\t</summary>\n",
       "\t<style>\n",
       "\t.list-inline {list-style: none; margin:0; padding: 0}\n",
       "\t.list-inline>li {display: inline-block}\n",
       "\t.list-inline>li:not(:last-child)::after {content: \"\\00b7\"; padding: 0 .5ex}\n",
       "\t</style>\n",
       "\t<ol class=list-inline><li>'bad'</li><li>'good'</li></ol>\n",
       "</details>"
      ],
      "text/latex": [
       "\\begin{enumerate*}\n",
       "\\item bad\n",
       "\\item bad\n",
       "\\item bad\n",
       "\\item bad\n",
       "\\item bad\n",
       "\\item bad\n",
       "\\end{enumerate*}\n",
       "\n",
       "\\emph{Levels}: \\begin{enumerate*}\n",
       "\\item 'bad'\n",
       "\\item 'good'\n",
       "\\end{enumerate*}\n"
      ],
      "text/markdown": [
       "1. bad\n",
       "2. bad\n",
       "3. bad\n",
       "4. bad\n",
       "5. bad\n",
       "6. bad\n",
       "\n",
       "\n",
       "\n",
       "**Levels**: 1. 'bad'\n",
       "2. 'good'\n",
       "\n",
       "\n"
      ],
      "text/plain": [
       "[1] bad bad bad bad bad bad\n",
       "Levels: bad good"
      ]
     },
     "metadata": {},
     "output_type": "display_data"
    }
   ],
   "source": [
    "# ---------------- #\n",
    "# Tworzenie modelu #\n",
    "# ---------------- #\n",
    "\n",
    "### Budowa modelu za pomoca funkcji naiveBayes() z pakietu e1071\n",
    "wine_mod <- naiveBayes(quality ~ ., data = wine_train, laplace = 1)\n",
    "wine_mod\n",
    "\n",
    "# Podstawienie danych testowych do modelu\n",
    "\n",
    "wine_pred <- predict(wine_mod, wine_test, type = \"class\")\n",
    "head(wine_pred)"
   ]
  },
  {
   "cell_type": "code",
   "execution_count": 47,
   "id": "b3ca6f3d-9d5f-4fce-bfb6-f67b8dfa46fd",
   "metadata": {},
   "outputs": [
    {
     "data": {
      "text/plain": [
       "Confusion Matrix and Statistics\n",
       "\n",
       "          Reference\n",
       "Prediction bad good\n",
       "      bad  299  189\n",
       "      good 324  812\n",
       "                                          \n",
       "               Accuracy : 0.6841          \n",
       "                 95% CI : (0.6609, 0.7067)\n",
       "    No Information Rate : 0.6164          \n",
       "    P-Value [Acc > NIR] : 7.620e-09       \n",
       "                                          \n",
       "                  Kappa : 0.3035          \n",
       "                                          \n",
       " Mcnemar's Test P-Value : 3.294e-09       \n",
       "                                          \n",
       "            Sensitivity : 0.4799          \n",
       "            Specificity : 0.8112          \n",
       "         Pos Pred Value : 0.6127          \n",
       "         Neg Pred Value : 0.7148          \n",
       "             Prevalence : 0.3836          \n",
       "         Detection Rate : 0.1841          \n",
       "   Detection Prevalence : 0.3005          \n",
       "      Balanced Accuracy : 0.6456          \n",
       "                                          \n",
       "       'Positive' Class : bad             \n",
       "                                          "
      ]
     },
     "metadata": {},
     "output_type": "display_data"
    },
    {
     "data": {
      "text/html": [
       "0.753816007427564"
      ],
      "text/latex": [
       "0.753816007427564"
      ],
      "text/markdown": [
       "0.753816007427564"
      ],
      "text/plain": [
       "[1] 0.753816"
      ]
     },
     "metadata": {},
     "output_type": "display_data"
    },
    {
     "data": {
      "image/png": "[encoded data removed]",
      "text/plain": [
       "Plot with title \"ROC Curve\""
      ]
     },
     "metadata": {
      "image/png": {
       "height": 420,
       "width": 420
      }
     },
     "output_type": "display_data"
    }
   ],
   "source": [
    "# ---------------- #\n",
    "# Ewaluacja modelu #\n",
    "# ---------------- #\n",
    "\n",
    "### 1. Ewaluacja z wykorzystaniem macierzy pomylek\n",
    "confusionMatrix(wine_pred, wine_test$quality)\n",
    "\n",
    "### 2. Ewaluacja z wykorzystaniem krzywej ROC\n",
    "\n",
    "wine_pred_p <- predict(wine_mod, wine_test, type = \"raw\")\n",
    "\n",
    "roc_pred <-\n",
    "  prediction(\n",
    "    predictions = wine_pred_p[, \"good\"],\n",
    "    labels = wine_test$quality\n",
    "  )\n",
    "\n",
    "roc_perf <- performance(roc_pred, measure = \"tpr\", x.measure = \"fpr\")\n",
    "\n",
    "plot(roc_perf, main = \"ROC Curve\", col = \"red\", lwd = 3)\n",
    "abline(a = 0, b = 1, lwd = 3, lty = 2, col = 1)\n",
    "\n",
    "### 3. Ewaluacja z wykorzystaniem wspolczynnika AUC\n",
    "\n",
    "# Wygenerowanie obiektu wydajnosci z parametrem measure = \"auc\"\n",
    "auc_perf <- performance(roc_pred, measure = \"auc\")\n",
    "\n",
    "# Wydobycie wartosci y.values ze slotu z obiektu auc_perf\n",
    "wine_auc <- unlist(slot(auc_perf,\"y.values\"))\n",
    "wine_auc"
   ]
  },
  {
   "cell_type": "code",
   "execution_count": 48,
   "id": "19c69fa1-c083-46e4-b3dd-729e2a5d5eef",
   "metadata": {},
   "outputs": [
    {
     "name": "stdout",
     "output_type": "stream",
     "text": [
      "Naive Bayes \n",
      "\n",
      "6497 samples\n",
      "  12 predictor\n",
      "   2 classes: 'bad', 'good' \n",
      "\n",
      "No pre-processing\n",
      "Resampling: Cross-Validated (10 fold) \n",
      "Summary of sample sizes: 5847, 5847, 5848, 5847, 5847, 5848, ... \n",
      "Resampling results across tuning parameters:\n",
      "\n",
      "  usekernel  Accuracy   Kappa    \n",
      "  FALSE      0.6777085  0.2908863\n",
      "   TRUE      0.7044896  0.3696816\n",
      "\n",
      "Tuning parameter 'laplace' was held constant at a value of 0\n",
      "Tuning\n",
      " parameter 'adjust' was held constant at a value of 1\n",
      "Accuracy was used to select the optimal model using the largest value.\n",
      "The final values used for the model were laplace = 0, usekernel = TRUE\n",
      " and adjust = 1.\n",
      "[1] 0.6732759\n"
     ]
    }
   ],
   "source": [
    "# ---------------- #\n",
    "# Walidacja modelu #\n",
    "# ---------------- #\n",
    "\n",
    "### Walidacja krzyzowa k-krotna\n",
    "train_control <- trainControl(method = \"cv\", number = 10)\n",
    "wine_cv <- train(factor(quality) ~ ., data = wine, method = \"naive_bayes\", trControl = train_control)\n",
    "print(wine_cv)\n",
    "\n",
    "### Walidacja krzyzowa losowa\n",
    "n_iterations <- 10\n",
    "results <- vector(\"list\", n_iterations)\n",
    "\n",
    "for (i in 1:n_iterations) {\n",
    "  # Losowy podział danych na zbiór treningowy i testowy\n",
    "  train_index <- createDataPartition(wine$quality, p = 0.75, list = FALSE)\n",
    "  wine_train <- wine[train_index,]\n",
    "  wine_test <- wine[-train_index,]\n",
    "  \n",
    "  # Budowa modelu\n",
    "  wine_mod <- naiveBayes(quality ~ ., data = wine_train, laplace = 1)\n",
    "  \n",
    "  # Predykcja\n",
    "  wine_pred <- predict(wine_mod, wine_test, type = \"class\")\n",
    "  \n",
    "  # Obliczenie macierzy pomyłek\n",
    "  cm <- confusionMatrix(wine_pred, wine_test$quality)\n",
    "  results[[i]] <- cm$overall[\"Accuracy\"]\n",
    "}\n",
    "\n",
    "# Średnia dokładność po 10 iteracjach\n",
    "mean_accuracy <- mean(unlist(results))\n",
    "print(mean_accuracy)"
   ]
  },
  {
   "cell_type": "code",
   "execution_count": 49,
   "id": "8e4ecfbf-9b15-4c35-8878-15333867a119",
   "metadata": {},
   "outputs": [],
   "source": [
    "##################################\n",
    "# 3. Drzewa klasyfikacyjne       #\n",
    "##################################"
   ]
  },
  {
   "cell_type": "code",
   "execution_count": 50,
   "id": "eb13cb0a-030e-43d6-b3ef-22ef4805ba5f",
   "metadata": {},
   "outputs": [
    {
     "data": {
      "text/plain": [
       "quality\n",
       " bad good \n",
       "0.37 0.63 "
      ]
     },
     "metadata": {},
     "output_type": "display_data"
    },
    {
     "data": {
      "text/plain": [
       "quality\n",
       " bad good \n",
       "0.36 0.64 "
      ]
     },
     "metadata": {},
     "output_type": "display_data"
    },
    {
     "data": {
      "text/plain": [
       "quality\n",
       " bad good \n",
       "0.38 0.62 "
      ]
     },
     "metadata": {},
     "output_type": "display_data"
    }
   ],
   "source": [
    "# -------------------- #\n",
    "# Przygotowanie danych #\n",
    "# -------------------- #\n",
    "\n",
    "# Usuniecie obiektow dla czystego startu nastepnego modelu\n",
    "rm(list = setdiff(ls(), \"wine_backup\"))\n",
    "\n",
    "# Przywrocenie zbioru z kopii\n",
    "wine <- wine_backup\n",
    "\n",
    "###  Podzial zbioru na treningowy i testowy w proporcjach 75% do 25%\n",
    "\n",
    "set.seed(1234)\n",
    "sample_index <-\n",
    "  sample(nrow(wine), round(nrow(wine) * .75), replace = FALSE)\n",
    "wine_train <- wine[sample_index,]\n",
    "wine_test <- wine[-sample_index,]\n",
    "\n",
    "# Sprawdzenie proporcji klas dla wszystkich trzech zbiorow\n",
    "round(prop.table(table(select(wine, quality))),2)\n",
    "round(prop.table(table(select(wine_train, quality))),2)\n",
    "round(prop.table(table(select(wine_test, quality))),2)"
   ]
  },
  {
   "cell_type": "code",
   "execution_count": 51,
   "id": "b06156ca-3bdd-478e-8f51-7e04f02c8ff7",
   "metadata": {},
   "outputs": [
    {
     "data": {
      "image/png": "[encoded data removed]",
      "text/plain": [
       "plot without title"
      ]
     },
     "metadata": {
      "image/png": {
       "height": 420,
       "width": 420
      }
     },
     "output_type": "display_data"
    },
    {
     "data": {
      "image/png": "[encoded data removed]",
      "text/plain": [
       "plot without title"
      ]
     },
     "metadata": {
      "image/png": {
       "height": 420,
       "width": 420
      }
     },
     "output_type": "display_data"
    }
   ],
   "source": [
    "# ---------------- #\n",
    "# Tworzenie modelu #\n",
    "# ---------------- #\n",
    "\n",
    "# Budowa modelu za pomoca funkcji rpart() z pakietu rpart ze wspolczynnikiem cp=0.02\n",
    "wine_mod <-\n",
    "  rpart(\n",
    "    quality ~ .,\n",
    "    method = \"class\",\n",
    "    data = wine_train,\n",
    "    cp = 0.02\n",
    "  )\n",
    "\n",
    "# Wygenerowanie wykresu drzewa\n",
    "rpart.plot(wine_mod)\n",
    "\n",
    "# Wygenerowanie wykresu bledu w zaleznosci od wspolczynnika cp\n",
    "plotcp(wine_mod)\n",
    "\n",
    "# Podstawienie do modelu wartosci ze zbioru testowego\n",
    "wine_pred <- predict(wine_mod, wine_test, type = \"class\")"
   ]
  },
  {
   "cell_type": "code",
   "execution_count": 52,
   "id": "6580d4df-722f-424d-9add-b23876784c48",
   "metadata": {},
   "outputs": [
    {
     "data": {
      "text/plain": [
       "Confusion Matrix and Statistics\n",
       "\n",
       "          Reference\n",
       "Prediction bad good\n",
       "      bad  403  197\n",
       "      good 220  804\n",
       "                                          \n",
       "               Accuracy : 0.7432          \n",
       "                 95% CI : (0.7212, 0.7643)\n",
       "    No Information Rate : 0.6164          \n",
       "    P-Value [Acc > NIR] : <2e-16          \n",
       "                                          \n",
       "                  Kappa : 0.4532          \n",
       "                                          \n",
       " Mcnemar's Test P-Value : 0.2813          \n",
       "                                          \n",
       "            Sensitivity : 0.6469          \n",
       "            Specificity : 0.8032          \n",
       "         Pos Pred Value : 0.6717          \n",
       "         Neg Pred Value : 0.7852          \n",
       "             Prevalence : 0.3836          \n",
       "         Detection Rate : 0.2482          \n",
       "   Detection Prevalence : 0.3695          \n",
       "      Balanced Accuracy : 0.7250          \n",
       "                                          \n",
       "       'Positive' Class : bad             \n",
       "                                          "
      ]
     },
     "metadata": {},
     "output_type": "display_data"
    },
    {
     "data": {
      "text/html": [
       "<table class=\"dataframe\">\n",
       "<caption>A matrix: 6 × 2 of type dbl</caption>\n",
       "<thead>\n",
       "\t<tr><th></th><th scope=col>bad</th><th scope=col>good</th></tr>\n",
       "</thead>\n",
       "<tbody>\n",
       "\t<tr><th scope=row>1</th><td>0.6251366</td><td>0.3748634</td></tr>\n",
       "\t<tr><th scope=row>2</th><td>0.6251366</td><td>0.3748634</td></tr>\n",
       "\t<tr><th scope=row>3</th><td>0.6251366</td><td>0.3748634</td></tr>\n",
       "\t<tr><th scope=row>4</th><td>0.1832851</td><td>0.8167149</td></tr>\n",
       "\t<tr><th scope=row>5</th><td>0.6251366</td><td>0.3748634</td></tr>\n",
       "\t<tr><th scope=row>6</th><td>0.6251366</td><td>0.3748634</td></tr>\n",
       "</tbody>\n",
       "</table>\n"
      ],
      "text/latex": [
       "A matrix: 6 × 2 of type dbl\n",
       "\\begin{tabular}{r|ll}\n",
       "  & bad & good\\\\\n",
       "\\hline\n",
       "\t1 & 0.6251366 & 0.3748634\\\\\n",
       "\t2 & 0.6251366 & 0.3748634\\\\\n",
       "\t3 & 0.6251366 & 0.3748634\\\\\n",
       "\t4 & 0.1832851 & 0.8167149\\\\\n",
       "\t5 & 0.6251366 & 0.3748634\\\\\n",
       "\t6 & 0.6251366 & 0.3748634\\\\\n",
       "\\end{tabular}\n"
      ],
      "text/markdown": [
       "\n",
       "A matrix: 6 × 2 of type dbl\n",
       "\n",
       "| <!--/--> | bad | good |\n",
       "|---|---|---|\n",
       "| 1 | 0.6251366 | 0.3748634 |\n",
       "| 2 | 0.6251366 | 0.3748634 |\n",
       "| 3 | 0.6251366 | 0.3748634 |\n",
       "| 4 | 0.1832851 | 0.8167149 |\n",
       "| 5 | 0.6251366 | 0.3748634 |\n",
       "| 6 | 0.6251366 | 0.3748634 |\n",
       "\n"
      ],
      "text/plain": [
       "  bad       good     \n",
       "1 0.6251366 0.3748634\n",
       "2 0.6251366 0.3748634\n",
       "3 0.6251366 0.3748634\n",
       "4 0.1832851 0.8167149\n",
       "5 0.6251366 0.3748634\n",
       "6 0.6251366 0.3748634"
      ]
     },
     "metadata": {},
     "output_type": "display_data"
    },
    {
     "data": {
      "text/html": [
       "0.733779062029463"
      ],
      "text/latex": [
       "0.733779062029463"
      ],
      "text/markdown": [
       "0.733779062029463"
      ],
      "text/plain": [
       "[1] 0.7337791"
      ]
     },
     "metadata": {},
     "output_type": "display_data"
    },
    {
     "data": {
      "image/png": "[encoded data removed]",
      "text/plain": [
       "Plot with title \"ROC Curve\""
      ]
     },
     "metadata": {
      "image/png": {
       "height": 420,
       "width": 420
      }
     },
     "output_type": "display_data"
    }
   ],
   "source": [
    "# ---------------- #\n",
    "# Ewaluacja modelu #\n",
    "# ---------------- #\n",
    "\n",
    "### 1. Ewaluacja z wykorzystaniem macierzy pomylek\n",
    "confusionMatrix(wine_pred, wine_test$quality)\n",
    "\n",
    "### 2. Ewaluacja z wykorzystaniem krzywej ROC\n",
    "\n",
    "# Predykcja wartosci prawdopodobienstw\n",
    "wine_pred_p <- predict(wine_mod, wine_test, type = \"prob\")\n",
    "head(wine_pred_p)\n",
    "\n",
    "roc_pred <-\n",
    "  prediction(\n",
    "    predictions = wine_pred_p[, \"good\"],\n",
    "    labels = wine_test$quality\n",
    "  )\n",
    "\n",
    "roc_perf <- performance(roc_pred, measure = \"tpr\", x.measure = \"fpr\")\n",
    "\n",
    "plot(roc_perf, main = \"ROC Curve\", col = \"red\", lwd = 3)\n",
    "abline(a = 0, b = 1, lwd = 3, lty = 2, col = 1)\n",
    "\n",
    "### 3. Ewaluacja z wykorzystaniem wspolczynnika AUC\n",
    "\n",
    "# Wygenerowanie obiektu wydajnosci z parametrem measure = \"auc\"\n",
    "auc_perf <- performance(roc_pred, measure = \"auc\")\n",
    "\n",
    "# Wydobycie wartosci y.values ze slotu z obiektu auc_perf\n",
    "wine_auc <- unlist(slot(auc_perf,\"y.values\"))\n",
    "wine_auc"
   ]
  },
  {
   "cell_type": "code",
   "execution_count": 53,
   "id": "9a6fe607-fa84-4546-8f91-62cb2fe103b4",
   "metadata": {},
   "outputs": [
    {
     "name": "stdout",
     "output_type": "stream",
     "text": [
      "Random Forest \n",
      "\n",
      "6497 samples\n",
      "  12 predictor\n",
      "   2 classes: 'bad', 'good' \n",
      "\n",
      "No pre-processing\n",
      "Resampling: Cross-Validated (5 fold) \n",
      "Summary of sample sizes: 5197, 5197, 5198, 5199, 5197 \n",
      "Resampling results across tuning parameters:\n",
      "\n",
      "  mtry  Accuracy   Kappa    \n",
      "   2    0.8391547  0.6465677\n",
      "   7    0.8346898  0.6379090\n",
      "  12    0.8333031  0.6354362\n",
      "\n",
      "Accuracy was used to select the optimal model using the largest value.\n",
      "The final value used for the model was mtry = 2.\n",
      "Random Forest \n",
      "\n",
      "6497 samples\n",
      "  12 predictor\n",
      "   2 classes: 'bad', 'good' \n",
      "\n",
      "No pre-processing\n",
      "Resampling: Bootstrapped (50 reps) \n",
      "Summary of sample sizes: 6497, 6497, 6497, 6497, 6497, 6497, ... \n",
      "Resampling results across tuning parameters:\n",
      "\n",
      "  mtry  Accuracy   Kappa    \n",
      "   2    0.8217759  0.6070525\n",
      "   7    0.8178602  0.6006983\n",
      "  12    0.8137097  0.5923091\n",
      "\n",
      "Accuracy was used to select the optimal model using the largest value.\n",
      "The final value used for the model was mtry = 2.\n"
     ]
    }
   ],
   "source": [
    "# ---------------- #\n",
    "# Walidacja modelu #\n",
    "# ---------------- #\n",
    "\n",
    "### Walidacja krzyzowa k-krotna\n",
    "train_control <- trainControl(method = \"cv\", number = 5)\n",
    "wine_cv <- train(quality ~ ., data = wine, method = \"rf\", trControl = train_control)\n",
    "print(wine_cv)\n",
    "\n",
    "\n",
    "### Walidacja krzyzowa losowa\n",
    "train_control_random <- trainControl(method = \"boot\", number = 50)\n",
    "wine_random_cv <- train(quality ~ ., data = wine, method = \"rf\", trControl = train_control_random)\n",
    "print(wine_random_cv)"
   ]
  },
  {
   "cell_type": "code",
   "execution_count": 54,
   "id": "f95856d0-d50c-48e8-9661-f8be902890dd",
   "metadata": {},
   "outputs": [],
   "source": [
    "##################################\n",
    "# 4. Lasy Losowe (Random Forest) #\n",
    "##################################"
   ]
  },
  {
   "cell_type": "code",
   "execution_count": 55,
   "id": "af590c05-4187-4e77-9b93-74b934a04571",
   "metadata": {},
   "outputs": [
    {
     "data": {
      "text/plain": [
       "quality\n",
       " bad good \n",
       "0.37 0.63 "
      ]
     },
     "metadata": {},
     "output_type": "display_data"
    },
    {
     "data": {
      "text/plain": [
       "quality\n",
       " bad good \n",
       "0.36 0.64 "
      ]
     },
     "metadata": {},
     "output_type": "display_data"
    },
    {
     "data": {
      "text/plain": [
       "quality\n",
       " bad good \n",
       "0.38 0.62 "
      ]
     },
     "metadata": {},
     "output_type": "display_data"
    }
   ],
   "source": [
    "# -------------------- #\n",
    "# Przygotowanie danych #\n",
    "# -------------------- #\n",
    "\n",
    "# Usuniecie obiektow dla czystego startu nastepnego modelu\n",
    "rm(list = setdiff(ls(), \"wine_backup\"))\n",
    "\n",
    "# Przywrocenie zbioru z kopii\n",
    "wine <- wine_backup\n",
    "\n",
    "###  Podzial zbioru na treningowy i testowy w proporcjach 75% do 25%\n",
    "\n",
    "set.seed(1234)\n",
    "sample_index <-\n",
    "  sample(nrow(wine), round(nrow(wine) * .75), replace = FALSE)\n",
    "wine_train <- wine[sample_index,]\n",
    "wine_test <- wine[-sample_index,]\n",
    "\n",
    "# Sprawdzenie proporcji klas dla wszystkich trzech zbiorow\n",
    "round(prop.table(table(select(wine, quality))),2)\n",
    "round(prop.table(table(select(wine_train, quality))),2)\n",
    "round(prop.table(table(select(wine_test, quality))),2)"
   ]
  },
  {
   "cell_type": "code",
   "execution_count": 56,
   "id": "32bfdae9-006b-46bd-b842-b0bb84d1e169",
   "metadata": {},
   "outputs": [],
   "source": [
    "# ---------------- #\n",
    "# Tworzenie modelu #\n",
    "# ---------------- #\n",
    "\n",
    "# Budowa modelu za pomoca funkcji randomForest() z pakietu randomForest\n",
    "wine_mod <- randomForest(quality ~ ., data = wine_train, ntrees=100)\n",
    "\n",
    "wine_pred <- predict(wine_mod, wine_test, type = \"class\")"
   ]
  },
  {
   "cell_type": "code",
   "execution_count": 57,
   "id": "436476f9-63ca-4f31-9381-84df325ee26a",
   "metadata": {},
   "outputs": [
    {
     "data": {
      "text/plain": [
       "Confusion Matrix and Statistics\n",
       "\n",
       "          Reference\n",
       "Prediction bad good\n",
       "      bad  431   85\n",
       "      good 192  916\n",
       "                                          \n",
       "               Accuracy : 0.8294          \n",
       "                 95% CI : (0.8102, 0.8474)\n",
       "    No Information Rate : 0.6164          \n",
       "    P-Value [Acc > NIR] : < 2.2e-16       \n",
       "                                          \n",
       "                  Kappa : 0.6272          \n",
       "                                          \n",
       " Mcnemar's Test P-Value : 1.904e-10       \n",
       "                                          \n",
       "            Sensitivity : 0.6918          \n",
       "            Specificity : 0.9151          \n",
       "         Pos Pred Value : 0.8353          \n",
       "         Neg Pred Value : 0.8267          \n",
       "             Prevalence : 0.3836          \n",
       "         Detection Rate : 0.2654          \n",
       "   Detection Prevalence : 0.3177          \n",
       "      Balanced Accuracy : 0.8034          \n",
       "                                          \n",
       "       'Positive' Class : bad             \n",
       "                                          "
      ]
     },
     "metadata": {},
     "output_type": "display_data"
    },
    {
     "data": {
      "text/html": [
       "<table class=\"dataframe\">\n",
       "<caption>A matrix: 6 × 2 of type dbl</caption>\n",
       "<thead>\n",
       "\t<tr><th></th><th scope=col>bad</th><th scope=col>good</th></tr>\n",
       "</thead>\n",
       "<tbody>\n",
       "\t<tr><th scope=row>1</th><td>0.780</td><td>0.220</td></tr>\n",
       "\t<tr><th scope=row>2</th><td>0.812</td><td>0.188</td></tr>\n",
       "\t<tr><th scope=row>3</th><td>0.784</td><td>0.216</td></tr>\n",
       "\t<tr><th scope=row>4</th><td>0.904</td><td>0.096</td></tr>\n",
       "\t<tr><th scope=row>5</th><td>0.802</td><td>0.198</td></tr>\n",
       "\t<tr><th scope=row>6</th><td>0.706</td><td>0.294</td></tr>\n",
       "</tbody>\n",
       "</table>\n"
      ],
      "text/latex": [
       "A matrix: 6 × 2 of type dbl\n",
       "\\begin{tabular}{r|ll}\n",
       "  & bad & good\\\\\n",
       "\\hline\n",
       "\t1 & 0.780 & 0.220\\\\\n",
       "\t2 & 0.812 & 0.188\\\\\n",
       "\t3 & 0.784 & 0.216\\\\\n",
       "\t4 & 0.904 & 0.096\\\\\n",
       "\t5 & 0.802 & 0.198\\\\\n",
       "\t6 & 0.706 & 0.294\\\\\n",
       "\\end{tabular}\n"
      ],
      "text/markdown": [
       "\n",
       "A matrix: 6 × 2 of type dbl\n",
       "\n",
       "| <!--/--> | bad | good |\n",
       "|---|---|---|\n",
       "| 1 | 0.780 | 0.220 |\n",
       "| 2 | 0.812 | 0.188 |\n",
       "| 3 | 0.784 | 0.216 |\n",
       "| 4 | 0.904 | 0.096 |\n",
       "| 5 | 0.802 | 0.198 |\n",
       "| 6 | 0.706 | 0.294 |\n",
       "\n"
      ],
      "text/plain": [
       "  bad   good \n",
       "1 0.780 0.220\n",
       "2 0.812 0.188\n",
       "3 0.784 0.216\n",
       "4 0.904 0.096\n",
       "5 0.802 0.198\n",
       "6 0.706 0.294"
      ]
     },
     "metadata": {},
     "output_type": "display_data"
    },
    {
     "data": {
      "text/html": [
       "0.903196322136932"
      ],
      "text/latex": [
       "0.903196322136932"
      ],
      "text/markdown": [
       "0.903196322136932"
      ],
      "text/plain": [
       "[1] 0.9031963"
      ]
     },
     "metadata": {},
     "output_type": "display_data"
    },
    {
     "data": {
      "image/png": "[encoded data removed]",
      "text/plain": [
       "Plot with title \"ROC Curve\""
      ]
     },
     "metadata": {
      "image/png": {
       "height": 420,
       "width": 420
      }
     },
     "output_type": "display_data"
    }
   ],
   "source": [
    "# ---------------- #\n",
    "# Ewaluacja modelu #\n",
    "# ---------------- #\n",
    "\n",
    "### 1. Ewaluacja z wykorzystaniem macierzy pomylek\n",
    "confusionMatrix(wine_pred, wine_test$quality)\n",
    "\n",
    "### 2. Ewaluacja z wykorzystaniem krzywej ROC\n",
    "\n",
    "# Predykcja wartosci prawdopodobienstw\n",
    "wine_pred_p <- predict(wine_mod, wine_test, type = \"prob\")\n",
    "head(wine_pred_p)\n",
    "\n",
    "roc_pred <-\n",
    "  prediction(\n",
    "    predictions = wine_pred_p[, \"good\"],\n",
    "    labels = wine_test$quality\n",
    "  )\n",
    "\n",
    "roc_perf <- performance(roc_pred, measure = \"tpr\", x.measure = \"fpr\")\n",
    "\n",
    "plot(roc_perf, main = \"ROC Curve\", col = \"red\", lwd = 3)\n",
    "abline(a = 0, b = 1, lwd = 3, lty = 2, col = 1)\n",
    "\n",
    "### 3. Ewaluacja z wykorzystaniem wspolczynnika AUC\n",
    "\n",
    "# Wygenerowanie obiektu wydajnosci z parametrem measure = \"auc\"\n",
    "auc_perf <- performance(roc_pred, measure = \"auc\")\n",
    "\n",
    "# Wydobycie wartosci y.values ze slotu z obiektu auc_perf\n",
    "wine_auc <- unlist(slot(auc_perf, \"y.values\"))\n",
    "wine_auc"
   ]
  },
  {
   "cell_type": "code",
   "execution_count": null,
   "id": "10a554f9-2ed1-4a39-abd5-13f2b95698d3",
   "metadata": {},
   "outputs": [
    {
     "name": "stdout",
     "output_type": "stream",
     "text": [
      "Random Forest \n",
      "\n",
      "6497 samples\n",
      "  12 predictor\n",
      "   2 classes: 'bad', 'good' \n",
      "\n",
      "No pre-processing\n",
      "Resampling: Cross-Validated (5 fold) \n",
      "Summary of sample sizes: 5197, 5198, 5197, 5198, 5198 \n",
      "Resampling results across tuning parameters:\n",
      "\n",
      "  mtry  Accuracy   Kappa    \n",
      "   2    0.8345411  0.6367434\n",
      "   7    0.8343881  0.6382398\n",
      "  12    0.8291536  0.6265583\n",
      "\n",
      "Accuracy was used to select the optimal model using the largest value.\n",
      "The final value used for the model was mtry = 2.\n"
     ]
    }
   ],
   "source": [
    "# ---------------- #\n",
    "# Walidacja modelu #\n",
    "# ---------------- #\n",
    "\n",
    "### Walidacja krzyzowa k-krotna\n",
    "train_control <- trainControl(method = \"cv\", number = 5)\n",
    "wine_cv <- train(quality ~ ., data = wine, method = \"rf\", trControl = train_control)\n",
    "print(wine_cv)\n",
    "\n",
    "\n",
    "### Walidacja krzyzowa losowa\n",
    "train_control_random <- trainControl(method = \"boot\", number = 50)\n",
    "wine_random_cv <- train(quality ~ ., data = wine, method = \"rf\", trControl = train_control_random)\n",
    "print(wine_random_cv)"
   ]
  },
  {
   "cell_type": "code",
   "execution_count": null,
   "id": "4cf2999b-4b90-4de7-b6b2-4882c1863bd1",
   "metadata": {},
   "outputs": [],
   "source": [
    "##################################\n",
    "# 5. Algorytm XGBoost            #\n",
    "##################################"
   ]
  },
  {
   "cell_type": "code",
   "execution_count": null,
   "id": "a4590110-835e-4b14-b22d-fddccd088071",
   "metadata": {},
   "outputs": [],
   "source": [
    "# -------------------- #\n",
    "# Przygotowanie danych #\n",
    "# -------------------- #\n",
    "\n",
    "# Usuniecie obiektow dla czystego startu nastepnego modelu\n",
    "rm(list = setdiff(ls(), \"wine_backup\"))\n",
    "\n",
    "# Przywrocenie zbioru z kopii\n",
    "wine <- wine_backup\n",
    "\n",
    "###  Podzial zbioru na treningowy i testowy w proporcjach 75% do 25%\n",
    "\n",
    "set.seed(1234)\n",
    "sample_index <-\n",
    "  sample(nrow(wine), round(nrow(wine) * .75), replace = FALSE)\n",
    "wine_train <- wine[sample_index,]\n",
    "wine_test <- wine[-sample_index,]\n",
    "\n",
    "# Sprawdzenie proporcji klas dla wszystkich trzech zbiorow\n",
    "round(prop.table(table(select(wine, quality))),2)\n",
    "round(prop.table(table(select(wine_train, quality))),2)\n",
    "round(prop.table(table(select(wine_test, quality))),2)"
   ]
  },
  {
   "cell_type": "code",
   "execution_count": null,
   "id": "64298c67-2a59-46d5-8774-0f316177aea4",
   "metadata": {},
   "outputs": [],
   "source": [
    "# ---------------- #\n",
    "# Tworzenie modelu #\n",
    "# ---------------- #\n",
    "\n",
    "# Budowa modelu za pomoca funkcji randomForest() z pakietu randomForest\n",
    "\n",
    "modelLookup(\"xgbTree\")\n",
    "\n",
    "wine_mod <- train(\n",
    "  quality ~ .,\n",
    "  data = wine_train,\n",
    "  metric = \"Accuracy\",\n",
    "  method = \"xgbTree\",\n",
    "  trControl = trainControl(method = \"none\"),\n",
    "  tuneGrid = expand.grid(\n",
    "    nrounds = 100,\n",
    "    max_depth = 6,\n",
    "    eta = 0.3,\n",
    "    gamma = 0.01,\n",
    "    colsample_bytree = 1,\n",
    "    min_child_weight = 1,\n",
    "    subsample = 1\n",
    "  )\n",
    ")\n",
    "\n",
    "wine_pred <- predict(wine_mod, wine_test, type = \"raw\")"
   ]
  },
  {
   "cell_type": "code",
   "execution_count": null,
   "id": "2ebde9b6-e8c5-4e0c-8114-451280d36368",
   "metadata": {},
   "outputs": [],
   "source": [
    "# ---------------- #\n",
    "# Ewaluacja modelu #\n",
    "# ---------------- #\n",
    "\n",
    "### 1. Ewaluacja z wykorzystaniem macierzy pomylek\n",
    "confusionMatrix(wine_pred, wine_test$quality)\n",
    "\n",
    "### 2. Ewaluacja z wykorzystaniem krzywej ROC\n",
    "\n",
    "# Predykcja wartosci prawdopodobienstw\n",
    "wine_pred_p <- predict(wine_mod, wine_test, type = \"prob\")\n",
    "head(wine_pred_p)\n",
    "\n",
    "roc_pred <-\n",
    "  prediction(\n",
    "    predictions = wine_pred_p[, \"good\"],\n",
    "    labels = wine_test$quality\n",
    "  )\n",
    "\n",
    "roc_perf <- performance(roc_pred, measure = \"tpr\", x.measure = \"fpr\")\n",
    "\n",
    "plot(roc_perf, main = \"ROC Curve\", col = \"red\", lwd = 3)\n",
    "abline(a = 0, b = 1, lwd = 3, lty = 2, col = 1)\n",
    "\n",
    "### 3. Ewaluacja z wykorzystaniem wspolczynnika AUC\n",
    "\n",
    "# Wygenerowanie obiektu wydajnosci z parametrem measure = \"auc\"\n",
    "auc_perf <- performance(roc_pred, measure = \"auc\")\n",
    "\n",
    "# Wydobycie wartosci y.values ze slotu z obiektu auc_perf\n",
    "wine_auc <- unlist(slot(auc_perf,\"y.values\"))\n",
    "wine_auc"
   ]
  },
  {
   "cell_type": "code",
   "execution_count": null,
   "id": "1e14d8ca-5058-49c5-88ea-fc8e9de9f4da",
   "metadata": {},
   "outputs": [],
   "source": [
    "# ---------------- #\n",
    "# Walidacja modelu #\n",
    "# ---------------- #\n",
    "\n",
    "### Walidacja krzyzowa k-krotna\n",
    "cv_control <- trainControl(method = \"cv\", number = 10)\n",
    "wine_mod_cv <- train(\n",
    "  quality ~ .,\n",
    "  data = wine_train,\n",
    "  method = \"xgbTree\",\n",
    "  metric = \"Accuracy\",\n",
    "  trControl = cv_control,\n",
    "  tuneGrid = expand.grid(\n",
    "    nrounds = 100,\n",
    "    max_depth = 6,\n",
    "    eta = 0.3,\n",
    "    gamma = 0.01,\n",
    "    colsample_bytree = 1,\n",
    "    min_child_weight = 1,\n",
    "    subsample = 1\n",
    "  )\n",
    ")\n",
    "print(wine_mod_cv)\n",
    "\n",
    "### Walidacja krzyzowa losowa\n",
    "random_control <- trainControl(method = \"repeatedcv\", number = 10, repeats = 3)\n",
    "wine_mod_random <- train(\n",
    "  quality ~ .,\n",
    "  data = wine_train,\n",
    "  method = \"xgbTree\",\n",
    "  metric = \"Accuracy\",\n",
    "  trControl = random_control,\n",
    "  tuneGrid = expand.grid(\n",
    "    nrounds = 100,\n",
    "    max_depth = 6,\n",
    "    eta = 0.3,\n",
    "    gamma = 0.01,\n",
    "    colsample_bytree = 1,\n",
    "    min_child_weight = 1,\n",
    "    subsample = 1\n",
    "  )\n",
    ")\n",
    "print(wine_mod_random)"
   ]
  },
  {
   "cell_type": "code",
   "execution_count": null,
   "id": "0e6dc4b3-aa66-4f8b-a26d-38c998b7ae06",
   "metadata": {},
   "outputs": [],
   "source": [
    "##################################\n",
    "# 6. Metoda SVM                  #\n",
    "##################################"
   ]
  },
  {
   "cell_type": "code",
   "execution_count": null,
   "id": "14307a2e-c6ab-43c9-9d0b-638dc9a46201",
   "metadata": {},
   "outputs": [],
   "source": [
    "# -------------------- #\n",
    "# Przygotowanie danych #\n",
    "# -------------------- #\n",
    "\n",
    "# Usuniecie obiektow dla czystego startu nastepnego modelu\n",
    "rm(list = setdiff(ls(), \"wine_backup\"))\n",
    "\n",
    "# Przywrocenie zbioru z kopii\n",
    "wine <- wine_backup\n",
    "\n",
    "###  Podzial zbioru na treningowy i testowy w proporcjach 75% do 25%\n",
    "\n",
    "set.seed(1234)\n",
    "sample_index <-\n",
    "  sample(nrow(wine), round(nrow(wine) * .75), replace = FALSE)\n",
    "wine_train <- wine[sample_index,]\n",
    "wine_test <- wine[-sample_index,]\n",
    "\n",
    "# Sprawdzenie proporcji klas dla wszystkich trzech zbiorow\n",
    "round(prop.table(table(select(wine, quality))),2)\n",
    "round(prop.table(table(select(wine_train, quality))),2)\n",
    "round(prop.table(table(select(wine_test, quality))),2)"
   ]
  },
  {
   "cell_type": "code",
   "execution_count": null,
   "id": "aec83377-42b8-469d-8f5b-419397f30b00",
   "metadata": {},
   "outputs": [],
   "source": [
    "# ---------------- #\n",
    "# Tworzenie modelu #\n",
    "# ---------------- #\n",
    "\n",
    "# Budowa modelu za pomoca funkcji randomForest() z pakietu randomForest\n",
    "wine_mod <- svm(quality ~ ., data = wine_train, probability=TRUE)\n",
    "print(wine_mod)\n",
    "\n",
    "wine_pred <- predict(wine_mod, wine_test, type = \"class\")"
   ]
  },
  {
   "cell_type": "code",
   "execution_count": null,
   "id": "40ed68de-39c8-426b-bdd0-346bd6cbfa67",
   "metadata": {},
   "outputs": [],
   "source": [
    "# ---------------- #\n",
    "# Ewaluacja modelu #\n",
    "# ---------------- #\n",
    "\n",
    "### 1. Ewaluacja z wykorzystaniem macierzy pomylek\n",
    "confusionMatrix(wine_pred, wine_test$quality)\n",
    "\n",
    "### 2. Ewaluacja z wykorzystaniem krzywej ROC\n",
    "\n",
    "# Predykcja wartosci , wazne aby ustawic parametry : \n",
    "# decision.values = TRUE, probability = TRUE\n",
    "wine_pred <- predict(wine_mod, wine_test, decision.values = TRUE, probability = TRUE)\n",
    "\n",
    "# Wyodrebnianie prawdopodobienstw\n",
    "attr(wine_pred, \"probabilities\")[1:4,]\n",
    "\n",
    "wine_pred_p <- attr(wine_pred, \"probabilities\")\n",
    "\n",
    "roc_pred <-\n",
    "  prediction(\n",
    "    predictions = wine_pred_p[, \"good\"],\n",
    "    labels = wine_test$quality\n",
    "  )\n",
    "\n",
    "roc_perf <- performance(roc_pred, measure = \"tpr\", x.measure = \"fpr\")\n",
    "\n",
    "plot(roc_perf, main = \"ROC Curve\", col = \"red\", lwd = 3)\n",
    "abline(a = 0, b = 1, lwd = 3, lty = 2, col = 1)\n",
    "\n",
    "### 3. Ewaluacja z wykorzystaniem wspolczynnika AUC\n",
    "\n",
    "# Wygenerowanie obiektu wydajnosci z parametrem measure = \"auc\"\n",
    "auc_perf <- performance(roc_pred, measure = \"auc\")\n",
    "\n",
    "# Wydobycie wartosci y.values ze slotu z obiektu auc_perf\n",
    "wine_auc <- unlist(slot(auc_perf,\"y.values\"))\n",
    "wine_auc"
   ]
  },
  {
   "cell_type": "code",
   "execution_count": null,
   "id": "7466896f-08de-40c3-8423-16c4a545c6a0",
   "metadata": {},
   "outputs": [],
   "source": [
    "# ---------------- #\n",
    "# Walidacja modelu #\n",
    "# ---------------- #\n",
    "\n",
    "### Walidacja krzyzowa k-krotna\n",
    "ctrl <- trainControl(method = \"cv\", number = 10)\n",
    "wine_cv_mod <- train(quality ~ ., data = wine_train, method = \"svmRadial\", trControl = ctrl, probability = TRUE)\n",
    "print(wine_cv_mod)\n",
    "\n",
    "### Walidacja krzyzowa losowa\n",
    "ctrl_random <- trainControl(method = \"LGOCV\", number = 10)\n",
    "wine_random_mod <- train(quality ~ ., data = wine_train, method = \"svmRadial\", trControl = ctrl_random, probability = TRUE)\n",
    "print(wine_random_mod)"
   ]
  },
  {
   "cell_type": "code",
   "execution_count": 16,
   "id": "ae1d455c-de95-4744-89c1-cc7cbcbec823",
   "metadata": {},
   "outputs": [],
   "source": [
    "############################################################################\n",
    "############################################################################\n",
    "# Realizacja analizy modeli z wykluczaniem zmiennych dla algorytmu XGBoost #\n",
    "############################################################################\n",
    "############################################################################"
   ]
  },
  {
   "cell_type": "code",
   "execution_count": 18,
   "id": "53bd00a3-3a12-4f4b-afba-5beedf3cacda",
   "metadata": {},
   "outputs": [],
   "source": [
    "# Definicja funkcji do realizacji modelu XGBoost\n",
    "run_xgboost <- function(excluded_column) {\n",
    "\n",
    "##################################\n",
    "# 5. Algorytm XGBoost            #\n",
    "##################################\n",
    "\n",
    "# -------------------- #\n",
    "# Przygotowanie danych #\n",
    "# -------------------- #\n",
    "\n",
    "# Usuniecie obiektow dla czystego startu nastepnego modelu\n",
    "rm(list = setdiff(ls(), \"wine_backup\"))\n",
    "\n",
    "# Przywrocenie zbioru z kopii\n",
    "wine <- wine_backup\n",
    "\n",
    "### Usunięcie ze bioru wybranej kolumny\n",
    "wine <- wine[, !(names(wine) %in% excluded_column)]\n",
    "\n",
    "### Normalizacja zmiennych numerycznych\n",
    "\n",
    "# Funkcja normalizujaca metoda min - max\n",
    "normalize <- function(x) {\n",
    "  return((x - min(x)) / (max(x) - min(x)))\n",
    "}\n",
    "\n",
    "# Zastosowanie funkcji normalizujacej dla kazdej zmiennej numerycznej\n",
    "wine <- wine %>%\n",
    "  mutate(across(where(is.numeric), normalize))\n",
    "\n",
    "###  Podzial zbioru na treningowy i testowy w proporcjach 75% do 25%\n",
    "\n",
    "set.seed(1234)\n",
    "sample_index <-\n",
    "  sample(nrow(wine), round(nrow(wine) * .75), replace = FALSE)\n",
    "wine_train <- wine[sample_index,]\n",
    "wine_test <- wine[-sample_index,]\n",
    "\n",
    "# Sprawdzenie proporcji klas dla wszystkich trzech zbiorow\n",
    "round(prop.table(table(select(wine, quality))),2)\n",
    "round(prop.table(table(select(wine_train, quality))),2)\n",
    "round(prop.table(table(select(wine_test, quality))),2)\n",
    "\n",
    "# ---------------- #\n",
    "# Tworzenie modelu #\n",
    "# ---------------- #\n",
    "\n",
    "# Budowa modelu za pomoca funkcji randomForest() z pakietu randomForest\n",
    "\n",
    "modelLookup(\"xgbTree\")\n",
    "\n",
    "wine_mod <- train(\n",
    "  quality ~ .,\n",
    "  data = wine_train,\n",
    "  metric = \"Accuracy\",\n",
    "  method = \"xgbTree\",\n",
    "  trControl = trainControl(method = \"none\"),\n",
    "  tuneGrid = expand.grid(\n",
    "    nrounds = 100,\n",
    "    max_depth = 6,\n",
    "    eta = 0.3,\n",
    "    gamma = 0.01,\n",
    "    colsample_bytree = 1,\n",
    "    min_child_weight = 1,\n",
    "    subsample = 1\n",
    "  )\n",
    ")\n",
    "\n",
    "wine_pred <- predict(wine_mod, wine_test, type = \"raw\")\n",
    "\n",
    "# ---------------- #\n",
    "# Ewaluacja modelu #\n",
    "# ---------------- #\n",
    "\n",
    "### 1. Ewaluacja z wykorzystaniem macierzy pomylek\n",
    "confusionMatrix(wine_pred, wine_test$quality)\n",
    "\n",
    "### 2. Ewaluacja z wykorzystaniem krzywej ROC\n",
    "\n",
    "# Predykcja wartosci prawdopodobienstw\n",
    "wine_pred_p <- predict(wine_mod, wine_test, type = \"prob\")\n",
    "head(wine_pred_p)\n",
    "\n",
    "roc_pred <-\n",
    "  prediction(\n",
    "    predictions = wine_pred_p[, \"good\"],\n",
    "    labels = wine_test$quality\n",
    "  )\n",
    "\n",
    "roc_perf <- performance(roc_pred, measure = \"tpr\", x.measure = \"fpr\")\n",
    "\n",
    "plot(roc_perf, main = paste(\"ROC Curve for excluded\", excluded_column), col = \"red\", lwd = 3)\n",
    "abline(a = 0, b = 1, lwd = 3, lty = 2, col = 1)\n",
    "\n",
    "### 3. Ewaluacja z wykorzystaniem wspolczynnika AUC\n",
    "\n",
    "# Wygenerowanie obiektu wydajnosci z parametrem measure = \"auc\"\n",
    "auc_perf <- performance(roc_pred, measure = \"auc\")\n",
    "\n",
    "# Wydobycie wartosci y.values ze slotu z obiektu auc_perf\n",
    "wine_auc <- unlist(slot(auc_perf,\"y.values\"))\n",
    "wine_auc\n",
    "\n",
    "# ---------------- #\n",
    "# Walidacja modelu #\n",
    "# ---------------- #\n",
    "\n",
    "### Walidacja krzyzowa losowa\n",
    "random_control <- trainControl(method = \"repeatedcv\", number = 10, repeats = 3)\n",
    "wine_mod_random <- train(\n",
    "  quality ~ .,\n",
    "  data = wine_train,\n",
    "  method = \"xgbTree\",\n",
    "  metric = \"Accuracy\",\n",
    "  trControl = random_control,\n",
    "  tuneGrid = expand.grid(\n",
    "    nrounds = 100,\n",
    "    max_depth = 6,\n",
    "    eta = 0.3,\n",
    "    gamma = 0.01,\n",
    "    colsample_bytree = 1,\n",
    "    min_child_weight = 1,\n",
    "    subsample = 1\n",
    "  )\n",
    ")\n",
    "print(wine_mod_random)\n",
    "\n",
    "}"
   ]
  },
  {
   "cell_type": "code",
   "execution_count": 20,
   "id": "b3f81a47-5919-4a81-89b9-25d5f6352bb3",
   "metadata": {},
   "outputs": [],
   "source": [
    "# Pętla do uruchomienia modelu dla wszystkich cech\n",
    "# for (excluded_column in setdiff(names(wine), \"quality\")) {\n",
    "#   print(\"#####################################\")\n",
    "#   print(paste(\"run_xgboost for column:\", excluded_column))\n",
    "#   print(\"#####################################\")\n",
    "#   run_xgboost(excluded_column)\n",
    "# }"
   ]
  },
  {
   "cell_type": "code",
   "execution_count": 22,
   "id": "6a07ba2d-0917-4d02-b332-d58361e4744b",
   "metadata": {},
   "outputs": [],
   "source": [
    "# Uruchomienia pojedynczo dla każdej cechy"
   ]
  },
  {
   "cell_type": "code",
   "execution_count": 24,
   "id": "0ee1bce3-425f-414e-b345-ff9b3b9a7366",
   "metadata": {},
   "outputs": [
    {
     "name": "stdout",
     "output_type": "stream",
     "text": [
      "eXtreme Gradient Boosting \n",
      "\n",
      "4873 samples\n",
      "  11 predictor\n",
      "   2 classes: 'bad', 'good' \n",
      "\n",
      "No pre-processing\n",
      "Resampling: Cross-Validated (10 fold, repeated 3 times) \n",
      "Summary of sample sizes: 4386, 4386, 4386, 4386, 4385, 4386, ... \n",
      "Resampling results:\n",
      "\n",
      "  Accuracy  Kappa    \n",
      "  0.812989  0.5882496\n",
      "\n",
      "Tuning parameter 'nrounds' was held constant at a value of 100\n",
      "Tuning\n",
      " held constant at a value of 1\n",
      "Tuning parameter 'subsample' was held\n",
      " constant at a value of 1\n"
     ]
    },
    {
     "data": {
      "image/png": "[encoded data removed]",
      "text/plain": [
       "Plot with title \"ROC Curve for excluded fixed_acidity\""
      ]
     },
     "metadata": {
      "image/png": {
       "height": 420,
       "width": 420
      }
     },
     "output_type": "display_data"
    }
   ],
   "source": [
    "excluded_column <- \"fixed_acidity\"\n",
    "run_xgboost(excluded_column)"
   ]
  },
  {
   "cell_type": "code",
   "execution_count": 25,
   "id": "dff9e2a9-aaf9-48e0-8b45-3a0b8cfa13fa",
   "metadata": {},
   "outputs": [
    {
     "name": "stdout",
     "output_type": "stream",
     "text": [
      "eXtreme Gradient Boosting \n",
      "\n",
      "4873 samples\n",
      "  11 predictor\n",
      "   2 classes: 'bad', 'good' \n",
      "\n",
      "No pre-processing\n",
      "Resampling: Cross-Validated (10 fold, repeated 3 times) \n",
      "Summary of sample sizes: 4386, 4386, 4386, 4386, 4385, 4386, ... \n",
      "Resampling results:\n",
      "\n",
      "  Accuracy   Kappa    \n",
      "  0.8038224  0.5688789\n",
      "\n",
      "Tuning parameter 'nrounds' was held constant at a value of 100\n",
      "Tuning\n",
      " held constant at a value of 1\n",
      "Tuning parameter 'subsample' was held\n",
      " constant at a value of 1\n"
     ]
    },
    {
     "data": {
      "image/png": "[encoded data removed]",
      "text/plain": [
       "Plot with title \"ROC Curve for excluded volatile_acidity\""
      ]
     },
     "metadata": {
      "image/png": {
       "height": 420,
       "width": 420
      }
     },
     "output_type": "display_data"
    }
   ],
   "source": [
    "excluded_column <- \"volatile_acidity\"\n",
    "run_xgboost(excluded_column)"
   ]
  },
  {
   "cell_type": "code",
   "execution_count": 26,
   "id": "47745c49-3e0d-46b5-949f-8897735db5a8",
   "metadata": {},
   "outputs": [
    {
     "name": "stdout",
     "output_type": "stream",
     "text": [
      "eXtreme Gradient Boosting \n",
      "\n",
      "4873 samples\n",
      "  11 predictor\n",
      "   2 classes: 'bad', 'good' \n",
      "\n",
      "No pre-processing\n",
      "Resampling: Cross-Validated (10 fold, repeated 3 times) \n",
      "Summary of sample sizes: 4386, 4386, 4386, 4386, 4385, 4386, ... \n",
      "Resampling results:\n",
      "\n",
      "  Accuracy   Kappa    \n",
      "  0.8135342  0.5911302\n",
      "\n",
      "Tuning parameter 'nrounds' was held constant at a value of 100\n",
      "Tuning\n",
      " held constant at a value of 1\n",
      "Tuning parameter 'subsample' was held\n",
      " constant at a value of 1\n"
     ]
    },
    {
     "data": {
      "image/png": "[encoded data removed]",
      "text/plain": [
       "Plot with title \"ROC Curve for excluded citric_acid\""
      ]
     },
     "metadata": {
      "image/png": {
       "height": 420,
       "width": 420
      }
     },
     "output_type": "display_data"
    }
   ],
   "source": [
    "excluded_column <- \"citric_acid\"\n",
    "run_xgboost(excluded_column)"
   ]
  },
  {
   "cell_type": "code",
   "execution_count": 27,
   "id": "9b455be8-98bd-4b03-84f9-44ddf683de1b",
   "metadata": {},
   "outputs": [
    {
     "name": "stdout",
     "output_type": "stream",
     "text": [
      "eXtreme Gradient Boosting \n",
      "\n",
      "4873 samples\n",
      "  11 predictor\n",
      "   2 classes: 'bad', 'good' \n",
      "\n",
      "No pre-processing\n",
      "Resampling: Cross-Validated (10 fold, repeated 3 times) \n",
      "Summary of sample sizes: 4386, 4386, 4386, 4386, 4385, 4386, ... \n",
      "Resampling results:\n",
      "\n",
      "  Accuracy  Kappa    \n",
      "  0.813121  0.5884298\n",
      "\n",
      "Tuning parameter 'nrounds' was held constant at a value of 100\n",
      "Tuning\n",
      " held constant at a value of 1\n",
      "Tuning parameter 'subsample' was held\n",
      " constant at a value of 1\n"
     ]
    },
    {
     "data": {
      "image/png": "[encoded data removed]",
      "text/plain": [
       "Plot with title \"ROC Curve for excluded residual_sugar\""
      ]
     },
     "metadata": {
      "image/png": {
       "height": 420,
       "width": 420
      }
     },
     "output_type": "display_data"
    }
   ],
   "source": [
    "excluded_column <- \"residual_sugar\"\n",
    "run_xgboost(excluded_column)"
   ]
  },
  {
   "cell_type": "code",
   "execution_count": 28,
   "id": "f8549639-15cf-4ec8-ac18-2ba4885f20cb",
   "metadata": {},
   "outputs": [
    {
     "name": "stdout",
     "output_type": "stream",
     "text": [
      "eXtreme Gradient Boosting \n",
      "\n",
      "4873 samples\n",
      "  11 predictor\n",
      "   2 classes: 'bad', 'good' \n",
      "\n",
      "No pre-processing\n",
      "Resampling: Cross-Validated (10 fold, repeated 3 times) \n",
      "Summary of sample sizes: 4386, 4386, 4386, 4386, 4385, 4386, ... \n",
      "Resampling results:\n",
      "\n",
      "  Accuracy   Kappa    \n",
      "  0.8097715  0.5809504\n",
      "\n",
      "Tuning parameter 'nrounds' was held constant at a value of 100\n",
      "Tuning\n",
      " held constant at a value of 1\n",
      "Tuning parameter 'subsample' was held\n",
      " constant at a value of 1\n"
     ]
    },
    {
     "data": {
      "image/png": "[encoded data removed]",
      "text/plain": [
       "Plot with title \"ROC Curve for excluded chlorides\""
      ]
     },
     "metadata": {
      "image/png": {
       "height": 420,
       "width": 420
      }
     },
     "output_type": "display_data"
    }
   ],
   "source": [
    "excluded_column <- \"chlorides\"\n",
    "run_xgboost(excluded_column)"
   ]
  },
  {
   "cell_type": "code",
   "execution_count": 29,
   "id": "4851b947-dbf9-46f2-9184-94d7474dd679",
   "metadata": {},
   "outputs": [
    {
     "name": "stdout",
     "output_type": "stream",
     "text": [
      "eXtreme Gradient Boosting \n",
      "\n",
      "4873 samples\n",
      "  11 predictor\n",
      "   2 classes: 'bad', 'good' \n",
      "\n",
      "No pre-processing\n",
      "Resampling: Cross-Validated (10 fold, repeated 3 times) \n",
      "Summary of sample sizes: 4386, 4386, 4386, 4386, 4385, 4386, ... \n",
      "Resampling results:\n",
      "\n",
      "  Accuracy   Kappa    \n",
      "  0.8068976  0.5737081\n",
      "\n",
      "Tuning parameter 'nrounds' was held constant at a value of 100\n",
      "Tuning\n",
      " held constant at a value of 1\n",
      "Tuning parameter 'subsample' was held\n",
      " constant at a value of 1\n"
     ]
    },
    {
     "data": {
      "image/png": "[encoded data removed]",
      "text/plain": [
       "Plot with title \"ROC Curve for excluded free_sulfur_dioxide\""
      ]
     },
     "metadata": {
      "image/png": {
       "height": 420,
       "width": 420
      }
     },
     "output_type": "display_data"
    }
   ],
   "source": [
    "excluded_column <- \"free_sulfur_dioxide\"\n",
    "run_xgboost(excluded_column)"
   ]
  },
  {
   "cell_type": "code",
   "execution_count": 30,
   "id": "3e956d84-b82f-466d-bd38-1d35eebb7ea1",
   "metadata": {},
   "outputs": [
    {
     "name": "stdout",
     "output_type": "stream",
     "text": [
      "eXtreme Gradient Boosting \n",
      "\n",
      "4873 samples\n",
      "  11 predictor\n",
      "   2 classes: 'bad', 'good' \n",
      "\n",
      "No pre-processing\n",
      "Resampling: Cross-Validated (10 fold, repeated 3 times) \n",
      "Summary of sample sizes: 4386, 4386, 4386, 4386, 4385, 4386, ... \n",
      "Resampling results:\n",
      "\n",
      "  Accuracy  Kappa   \n",
      "  0.803612  0.568218\n",
      "\n",
      "Tuning parameter 'nrounds' was held constant at a value of 100\n",
      "Tuning\n",
      " held constant at a value of 1\n",
      "Tuning parameter 'subsample' was held\n",
      " constant at a value of 1\n"
     ]
    },
    {
     "data": {
      "image/png": "[encoded data removed]",
      "text/plain": [
       "Plot with title \"ROC Curve for excluded total_sulfur_dioxide\""
      ]
     },
     "metadata": {
      "image/png": {
       "height": 420,
       "width": 420
      }
     },
     "output_type": "display_data"
    }
   ],
   "source": [
    "excluded_column <- \"total_sulfur_dioxide\"\n",
    "run_xgboost(excluded_column)"
   ]
  },
  {
   "cell_type": "code",
   "execution_count": 31,
   "id": "992d6626-74b7-492d-9e3f-55d7544cb899",
   "metadata": {},
   "outputs": [
    {
     "name": "stdout",
     "output_type": "stream",
     "text": [
      "eXtreme Gradient Boosting \n",
      "\n",
      "4873 samples\n",
      "  11 predictor\n",
      "   2 classes: 'bad', 'good' \n",
      "\n",
      "No pre-processing\n",
      "Resampling: Cross-Validated (10 fold, repeated 3 times) \n",
      "Summary of sample sizes: 4386, 4386, 4386, 4386, 4385, 4386, ... \n",
      "Resampling results:\n",
      "\n",
      "  Accuracy   Kappa    \n",
      "  0.8159283  0.5940811\n",
      "\n",
      "Tuning parameter 'nrounds' was held constant at a value of 100\n",
      "Tuning\n",
      " held constant at a value of 1\n",
      "Tuning parameter 'subsample' was held\n",
      " constant at a value of 1\n"
     ]
    },
    {
     "data": {
      "image/png": "[encoded data removed]",
      "text/plain": [
       "Plot with title \"ROC Curve for excluded density\""
      ]
     },
     "metadata": {
      "image/png": {
       "height": 420,
       "width": 420
      }
     },
     "output_type": "display_data"
    }
   ],
   "source": [
    "excluded_column <- \"density\"\n",
    "run_xgboost(excluded_column)"
   ]
  },
  {
   "cell_type": "code",
   "execution_count": 32,
   "id": "917ba574-9362-4031-804a-20a5cee30ddb",
   "metadata": {},
   "outputs": [
    {
     "name": "stdout",
     "output_type": "stream",
     "text": [
      "eXtreme Gradient Boosting \n",
      "\n",
      "4873 samples\n",
      "  11 predictor\n",
      "   2 classes: 'bad', 'good' \n",
      "\n",
      "No pre-processing\n",
      "Resampling: Cross-Validated (10 fold, repeated 3 times) \n",
      "Summary of sample sizes: 4386, 4386, 4386, 4386, 4385, 4386, ... \n",
      "Resampling results:\n",
      "\n",
      "  Accuracy   Kappa    \n",
      "  0.8148344  0.5921647\n",
      "\n",
      "Tuning parameter 'nrounds' was held constant at a value of 100\n",
      "Tuning\n",
      " held constant at a value of 1\n",
      "Tuning parameter 'subsample' was held\n",
      " constant at a value of 1\n"
     ]
    },
    {
     "data": {
      "image/png": "[encoded data removed]",
      "text/plain": [
       "Plot with title \"ROC Curve for excluded pH\""
      ]
     },
     "metadata": {
      "image/png": {
       "height": 420,
       "width": 420
      }
     },
     "output_type": "display_data"
    }
   ],
   "source": [
    "excluded_column <- \"pH\"\n",
    "run_xgboost(excluded_column)"
   ]
  },
  {
   "cell_type": "code",
   "execution_count": 33,
   "id": "bae21f26-b371-4a4e-9b1d-ebf441e207fa",
   "metadata": {},
   "outputs": [
    {
     "name": "stdout",
     "output_type": "stream",
     "text": [
      "eXtreme Gradient Boosting \n",
      "\n",
      "4873 samples\n",
      "  11 predictor\n",
      "   2 classes: 'bad', 'good' \n",
      "\n",
      "No pre-processing\n",
      "Resampling: Cross-Validated (10 fold, repeated 3 times) \n",
      "Summary of sample sizes: 4386, 4386, 4386, 4386, 4385, 4386, ... \n",
      "Resampling results:\n",
      "\n",
      "  Accuracy  Kappa    \n",
      "  0.810453  0.5822814\n",
      "\n",
      "Tuning parameter 'nrounds' was held constant at a value of 100\n",
      "Tuning\n",
      " held constant at a value of 1\n",
      "Tuning parameter 'subsample' was held\n",
      " constant at a value of 1\n"
     ]
    },
    {
     "data": {
      "image/png": "[encoded data removed]",
      "text/plain": [
       "Plot with title \"ROC Curve for excluded sulphates\""
      ]
     },
     "metadata": {
      "image/png": {
       "height": 420,
       "width": 420
      }
     },
     "output_type": "display_data"
    }
   ],
   "source": [
    "excluded_column <- \"sulphates\"\n",
    "run_xgboost(excluded_column)"
   ]
  },
  {
   "cell_type": "code",
   "execution_count": 34,
   "id": "23a9762c-449b-446d-a673-3f883be6dd7d",
   "metadata": {},
   "outputs": [
    {
     "name": "stdout",
     "output_type": "stream",
     "text": [
      "eXtreme Gradient Boosting \n",
      "\n",
      "4873 samples\n",
      "  11 predictor\n",
      "   2 classes: 'bad', 'good' \n",
      "\n",
      "No pre-processing\n",
      "Resampling: Cross-Validated (10 fold, repeated 3 times) \n",
      "Summary of sample sizes: 4386, 4386, 4386, 4386, 4385, 4386, ... \n",
      "Resampling results:\n",
      "\n",
      "  Accuracy   Kappa    \n",
      "  0.8067629  0.5755718\n",
      "\n",
      "Tuning parameter 'nrounds' was held constant at a value of 100\n",
      "Tuning\n",
      " held constant at a value of 1\n",
      "Tuning parameter 'subsample' was held\n",
      " constant at a value of 1\n"
     ]
    },
    {
     "data": {
      "image/png": "[encoded data removed]",
      "text/plain": [
       "Plot with title \"ROC Curve for excluded alcohol\""
      ]
     },
     "metadata": {
      "image/png": {
       "height": 420,
       "width": 420
      }
     },
     "output_type": "display_data"
    }
   ],
   "source": [
    "excluded_column <- \"alcohol\"\n",
    "run_xgboost(excluded_column)"
   ]
  },
  {
   "cell_type": "code",
   "execution_count": 35,
   "id": "b320821e-4b72-41d6-b26a-ff81b6c902fd",
   "metadata": {},
   "outputs": [
    {
     "name": "stdout",
     "output_type": "stream",
     "text": [
      "eXtreme Gradient Boosting \n",
      "\n",
      "4873 samples\n",
      "  11 predictor\n",
      "   2 classes: 'bad', 'good' \n",
      "\n",
      "No pre-processing\n",
      "Resampling: Cross-Validated (10 fold, repeated 3 times) \n",
      "Summary of sample sizes: 4386, 4386, 4386, 4386, 4385, 4386, ... \n",
      "Resampling results:\n",
      "\n",
      "  Accuracy  Kappa    \n",
      "  0.816954  0.5977514\n",
      "\n",
      "Tuning parameter 'nrounds' was held constant at a value of 100\n",
      "Tuning\n",
      " held constant at a value of 1\n",
      "Tuning parameter 'subsample' was held\n",
      " constant at a value of 1\n"
     ]
    },
    {
     "data": {
      "image/png": "[encoded data removed]",
      "text/plain": [
       "Plot with title \"ROC Curve for excluded is_red\""
      ]
     },
     "metadata": {
      "image/png": {
       "height": 420,
       "width": 420
      }
     },
     "output_type": "display_data"
    }
   ],
   "source": [
    "excluded_column <- \"is_red\"\n",
    "run_xgboost(excluded_column)"
   ]
  },
  {
   "cell_type": "code",
   "execution_count": 37,
   "id": "b9c5199e-8656-45bc-9bed-05b861a78f20",
   "metadata": {},
   "outputs": [],
   "source": [
    "# KONIEC #"
   ]
  }
 ],
 "metadata": {
  "kernelspec": {
   "display_name": "R",
   "language": "R",
   "name": "ir"
  },
  "language_info": {
   "codemirror_mode": "r",
   "file_extension": ".r",
   "mimetype": "text/x-r-source",
   "name": "R",
   "pygments_lexer": "r",
   "version": "4.4.1"
  }
 },
 "nbformat": 4,
 "nbformat_minor": 5
}
