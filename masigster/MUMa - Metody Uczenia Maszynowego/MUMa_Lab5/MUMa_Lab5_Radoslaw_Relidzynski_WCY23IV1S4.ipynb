{
 "cells": [
  {
   "cell_type": "code",
   "execution_count": 2,
   "id": "194da931-d5e9-4425-b582-1e71bd9c4a55",
   "metadata": {},
   "outputs": [],
   "source": [
    "#########################################\n",
    "# Treść zadania laboratoryjnego część 1 #\n",
    "#########################################\n",
    "\n",
    "# Generowanie regul asocjacyjnych\n",
    "\n",
    "# Zaimportowac zbi?r danych groceries,csv\n",
    "\n",
    "# Zbi?r danych sklada sie z 9835 transakcji odnotowanych w ciagu miesiaca w malym sklepie \n",
    "# spozywczym.\n",
    "# Ma podobna strukture co przedstawione wczesniej dane z belgijskiego supermarketu\n",
    "# z dwoma podstawowymi r?znicami. Pierwsza jest to, ze w odr?znieniu od zbioru danych\n",
    "# z supermarketu, w kt?rym elementy byly oddzielone bialymi znakami, elementy\n",
    "# w tym zbiorze danych sa rozdzielone przecinkiem. Druga r?znica polega na tym,\n",
    "# ze elementy w tym zbiorze danych nie zostaly zanonimizowane. Tym razem widac,\n",
    "# jaki produkt reprezentuje kazdy z element?w. \n",
    "# \n",
    "# Zadamie polega na wygenerowaniu regul\n",
    "# asocjacyjnych, kt?re opisuja interesujace wzorce zakupowe w danych."
   ]
  },
  {
   "cell_type": "code",
   "execution_count": 3,
   "id": "f9574549-53d7-4727-baba-4d95295b4b76",
   "metadata": {},
   "outputs": [],
   "source": [
    "###############################################\n",
    "# Rozwiązanie zadania laboratoryjnego część 1 #\n",
    "###############################################"
   ]
  },
  {
   "cell_type": "code",
   "execution_count": 4,
   "id": "57a0943e-2153-4951-a649-0a1b8c66239b",
   "metadata": {},
   "outputs": [
    {
     "name": "stderr",
     "output_type": "stream",
     "text": [
      "Warning message:\n",
      "\"package 'arules' was built under R version 4.4.2\"\n",
      "Loading required package: Matrix\n",
      "\n",
      "\n",
      "Attaching package: 'arules'\n",
      "\n",
      "\n",
      "The following objects are masked from 'package:base':\n",
      "\n",
      "    abbreviate, write\n",
      "\n",
      "\n",
      "Warning message:\n",
      "\"package 'tidyverse' was built under R version 4.4.2\"\n",
      "Warning message:\n",
      "\"package 'readr' was built under R version 4.4.2\"\n",
      "Warning message:\n",
      "\"package 'dplyr' was built under R version 4.4.2\"\n",
      "── \u001b[1mAttaching core tidyverse packages\u001b[22m ──────────────────────── tidyverse 2.0.0 ──\n",
      "\u001b[32m✔\u001b[39m \u001b[34mdplyr    \u001b[39m 1.1.4     \u001b[32m✔\u001b[39m \u001b[34mreadr    \u001b[39m 2.1.5\n",
      "\u001b[32m✔\u001b[39m \u001b[34mforcats  \u001b[39m 1.0.0     \u001b[32m✔\u001b[39m \u001b[34mstringr  \u001b[39m 1.5.1\n",
      "\u001b[32m✔\u001b[39m \u001b[34mggplot2  \u001b[39m 3.5.1     \u001b[32m✔\u001b[39m \u001b[34mtibble   \u001b[39m 3.2.1\n",
      "\u001b[32m✔\u001b[39m \u001b[34mlubridate\u001b[39m 1.9.3     \u001b[32m✔\u001b[39m \u001b[34mtidyr    \u001b[39m 1.3.1\n",
      "\u001b[32m✔\u001b[39m \u001b[34mpurrr    \u001b[39m 1.0.2     \n",
      "── \u001b[1mConflicts\u001b[22m ────────────────────────────────────────── tidyverse_conflicts() ──\n",
      "\u001b[31m✖\u001b[39m \u001b[34mtidyr\u001b[39m::\u001b[32mexpand()\u001b[39m masks \u001b[34mMatrix\u001b[39m::expand()\n",
      "\u001b[31m✖\u001b[39m \u001b[34mdplyr\u001b[39m::\u001b[32mfilter()\u001b[39m masks \u001b[34mstats\u001b[39m::filter()\n",
      "\u001b[31m✖\u001b[39m \u001b[34mdplyr\u001b[39m::\u001b[32mlag()\u001b[39m    masks \u001b[34mstats\u001b[39m::lag()\n",
      "\u001b[31m✖\u001b[39m \u001b[34mtidyr\u001b[39m::\u001b[32mpack()\u001b[39m   masks \u001b[34mMatrix\u001b[39m::pack()\n",
      "\u001b[31m✖\u001b[39m \u001b[34mdplyr\u001b[39m::\u001b[32mrecode()\u001b[39m masks \u001b[34marules\u001b[39m::recode()\n",
      "\u001b[31m✖\u001b[39m \u001b[34mtidyr\u001b[39m::\u001b[32munpack()\u001b[39m masks \u001b[34mMatrix\u001b[39m::unpack()\n",
      "\u001b[36mℹ\u001b[39m Use the conflicted package (\u001b[3m\u001b[34m<http://conflicted.r-lib.org/>\u001b[39m\u001b[23m) to force all conflicts to become errors\n"
     ]
    }
   ],
   "source": [
    "library(arules)\n",
    "library(tidyverse)\n",
    "\n",
    "groceries <- read.transactions(\"http://jolej.linuxpl.info/groceries.csv\", sep = \",\")"
   ]
  },
  {
   "cell_type": "code",
   "execution_count": 5,
   "id": "bdbce620-ee08-40dd-8a53-7131136f6cb1",
   "metadata": {},
   "outputs": [
    {
     "data": {
      "text/plain": [
       "transactions as itemMatrix in sparse format with\n",
       " 9835 rows (elements/itemsets/transactions) and\n",
       " 169 columns (items) and a density of 0.02609146 \n",
       "\n",
       "most frequent items:\n",
       "      whole milk other vegetables       rolls/buns             soda \n",
       "            2513             1903             1809             1715 \n",
       "          yogurt          (Other) \n",
       "            1372            34055 \n",
       "\n",
       "element (itemset/transaction) length distribution:\n",
       "sizes\n",
       "   1    2    3    4    5    6    7    8    9   10   11   12   13   14   15   16 \n",
       "2159 1643 1299 1005  855  645  545  438  350  246  182  117   78   77   55   46 \n",
       "  17   18   19   20   21   22   23   24   26   27   28   29   32 \n",
       "  29   14   14    9   11    4    6    1    1    1    1    3    1 \n",
       "\n",
       "   Min. 1st Qu.  Median    Mean 3rd Qu.    Max. \n",
       "  1.000   2.000   3.000   4.409   6.000  32.000 \n",
       "\n",
       "includes extended item information - examples:\n",
       "            labels\n",
       "1 abrasive cleaner\n",
       "2 artif. sweetener\n",
       "3   baby cosmetics"
      ]
     },
     "metadata": {},
     "output_type": "display_data"
    }
   ],
   "source": [
    "# Wyświetlenie ogólnego podsumowania\n",
    "summary(groceries)\n",
    "\n",
    "# Zbior danych zawiera 9835 transakcji (wierszy) i 169 unikatowych elementow (kolumn). \n",
    "\n",
    "# Gestosc zbioru danych wynosi 0.02609146.\n",
    "# Jest bardzo rzadki, ale mniej rzadki niż zbiór supermart\n",
    "# Oznacza to, że w pojedynczych transakcjach znajduje się średnio więcej produktów\n",
    "\n",
    "# 3 najczęściej kupowane produkty:\n",
    "# - whole milk (mleko pełnotłuste) – w 2513 transakcjach (ponad 25% wszystkich transakcji)\n",
    "# - other vegetables (inne warzywa nie wymienione jako niezależne produkty) – w 1903 transakcjach  \n",
    "# - rolls/buns (bułki) – w 1809 transakcjach  \n",
    "\n",
    "# W ramach podsumowania długości transakcji widać, że:\n",
    "# - najwięcej było jednoelementowych (2159)\n",
    "# - największa transakcja miała 32 elementy (była taka tylko jedna)\n",
    "# - im większa długośc transakcji tym rzadsze wystąpienie tej długości\n",
    "# - średnia długość transakcji to 4,409"
   ]
  },
  {
   "cell_type": "code",
   "execution_count": 6,
   "id": "f27cb1f6-e210-4575-8a3d-da382039e399",
   "metadata": {},
   "outputs": [
    {
     "name": "stdout",
     "output_type": "stream",
     "text": [
      "     items                                                                     \n",
      "[1]  {citrus fruit, margarine, ready soups, semi-finished bread}               \n",
      "[2]  {coffee, tropical fruit, yogurt}                                          \n",
      "[3]  {whole milk}                                                              \n",
      "[4]  {cream cheese, meat spreads, pip fruit, yogurt}                           \n",
      "[5]  {condensed milk, long life bakery product, other vegetables, whole milk}  \n",
      "[6]  {abrasive cleaner, butter, rice, whole milk, yogurt}                      \n",
      "[7]  {rolls/buns}                                                              \n",
      "[8]  {bottled beer, liquor (appetizer), other vegetables, rolls/buns, UHT-milk}\n",
      "[9]  {potted plants}                                                           \n",
      "[10] {cereals, whole milk}                                                     \n"
     ]
    }
   ],
   "source": [
    "# Wyświetlenie listy 5 pierwszych transakcji\n",
    "inspect(groceries[1:10], linebreak = FALSE)\n",
    "\n",
    "# 4 z wyświetlonych transakcji posiadają element \"whole milk\"\n",
    "# 2 z wyświetlanych transakcji posaida element \"other vegetables\"\n",
    "# 3 z wyświetlanych transakcji posaida element \"rolls/buns\"\n",
    "# Ten zestaw transakcji potwierdza dużą występowalność tych 3 elementów w zbiorze"
   ]
  },
  {
   "cell_type": "code",
   "execution_count": 7,
   "id": "4c257d2c-530c-4aa5-bbe5-7a025b6464cf",
   "metadata": {},
   "outputs": [
    {
     "data": {
      "text/html": [
       "<strong>whole milk:</strong> 0.255516014234875"
      ],
      "text/latex": [
       "\\textbf{whole milk:} 0.255516014234875"
      ],
      "text/markdown": [
       "**whole milk:** 0.255516014234875"
      ],
      "text/plain": [
       "whole milk \n",
       "  0.255516 "
      ]
     },
     "metadata": {},
     "output_type": "display_data"
    },
    {
     "data": {
      "text/html": [
       "<strong>other vegetables:</strong> 0.193492628368073"
      ],
      "text/latex": [
       "\\textbf{other vegetables:} 0.193492628368073"
      ],
      "text/markdown": [
       "**other vegetables:** 0.193492628368073"
      ],
      "text/plain": [
       "other vegetables \n",
       "       0.1934926 "
      ]
     },
     "metadata": {},
     "output_type": "display_data"
    },
    {
     "data": {
      "text/html": [
       "<strong>rolls/buns:</strong> 0.183934926283681"
      ],
      "text/latex": [
       "\\textbf{rolls/buns:} 0.183934926283681"
      ],
      "text/markdown": [
       "**rolls/buns:** 0.183934926283681"
      ],
      "text/plain": [
       "rolls/buns \n",
       " 0.1839349 "
      ]
     },
     "metadata": {},
     "output_type": "display_data"
    }
   ],
   "source": [
    "# Wypisanie czestotliwosci (wsparcia) elementu\n",
    "itemFrequency(groceries[ ,\"whole milk\"])\n",
    "itemFrequency(groceries[ ,\"other vegetables\"])\n",
    "itemFrequency(groceries[ ,\"rolls/buns\"])\n",
    "\n",
    "# Funkcja zwraca procent transakcji,w których dany produkt się pojawia"
   ]
  },
  {
   "cell_type": "code",
   "execution_count": 8,
   "id": "3e466725-dc59-4757-aeff-8b68062ddad7",
   "metadata": {},
   "outputs": [],
   "source": [
    "# Tworzenie obiektu tibble \n",
    "groceries_frequency <- \n",
    "  tibble(\n",
    "    Items = names(itemFrequency(groceries)),\n",
    "    Frequency = itemFrequency(groceries)\n",
    "  )\n",
    "\n",
    "# Obiekt zawiera czestotliwosc wystąpienia wszystkich elementów w zbiorze"
   ]
  },
  {
   "cell_type": "code",
   "execution_count": 9,
   "id": "51f54218-f57e-47c9-99cb-0e8ead3d4bc1",
   "metadata": {},
   "outputs": [
    {
     "data": {
      "text/html": [
       "<table class=\"dataframe\">\n",
       "<caption>A tibble: 3 × 2</caption>\n",
       "<thead>\n",
       "\t<tr><th scope=col>Items</th><th scope=col>Frequency</th></tr>\n",
       "\t<tr><th scope=col>&lt;chr&gt;</th><th scope=col>&lt;dbl&gt;</th></tr>\n",
       "</thead>\n",
       "<tbody>\n",
       "\t<tr><td>abrasive cleaner</td><td>0.0035587189</td></tr>\n",
       "\t<tr><td>artif. sweetener</td><td>0.0032536858</td></tr>\n",
       "\t<tr><td>baby cosmetics  </td><td>0.0006100661</td></tr>\n",
       "</tbody>\n",
       "</table>\n"
      ],
      "text/latex": [
       "A tibble: 3 × 2\n",
       "\\begin{tabular}{ll}\n",
       " Items & Frequency\\\\\n",
       " <chr> & <dbl>\\\\\n",
       "\\hline\n",
       "\t abrasive cleaner & 0.0035587189\\\\\n",
       "\t artif. sweetener & 0.0032536858\\\\\n",
       "\t baby cosmetics   & 0.0006100661\\\\\n",
       "\\end{tabular}\n"
      ],
      "text/markdown": [
       "\n",
       "A tibble: 3 × 2\n",
       "\n",
       "| Items &lt;chr&gt; | Frequency &lt;dbl&gt; |\n",
       "|---|---|\n",
       "| abrasive cleaner | 0.0035587189 |\n",
       "| artif. sweetener | 0.0032536858 |\n",
       "| baby cosmetics   | 0.0006100661 |\n",
       "\n"
      ],
      "text/plain": [
       "                 Items            Frequency   \n",
       "abrasive cleaner abrasive cleaner 0.0035587189\n",
       "artif. sweetener artif. sweetener 0.0032536858\n",
       "baby cosmetics   baby cosmetics   0.0006100661"
      ]
     },
     "metadata": {},
     "output_type": "display_data"
    }
   ],
   "source": [
    "# Wypisanie pierwszych wierszy obiektu\n",
    "head(groceries_frequency, n = 3)"
   ]
  },
  {
   "cell_type": "code",
   "execution_count": 10,
   "id": "2fed4640-9e31-4e7a-816f-2641c7dbc998",
   "metadata": {},
   "outputs": [
    {
     "data": {
      "text/html": [
       "<table class=\"dataframe\">\n",
       "<caption>A tibble: 3 × 2</caption>\n",
       "<thead>\n",
       "\t<tr><th scope=col>Items</th><th scope=col>Frequency</th></tr>\n",
       "\t<tr><th scope=col>&lt;chr&gt;</th><th scope=col>&lt;dbl&gt;</th></tr>\n",
       "</thead>\n",
       "<tbody>\n",
       "\t<tr><td>whole milk      </td><td>0.2555160</td></tr>\n",
       "\t<tr><td>other vegetables</td><td>0.1934926</td></tr>\n",
       "\t<tr><td>rolls/buns      </td><td>0.1839349</td></tr>\n",
       "</tbody>\n",
       "</table>\n"
      ],
      "text/latex": [
       "A tibble: 3 × 2\n",
       "\\begin{tabular}{ll}\n",
       " Items & Frequency\\\\\n",
       " <chr> & <dbl>\\\\\n",
       "\\hline\n",
       "\t whole milk       & 0.2555160\\\\\n",
       "\t other vegetables & 0.1934926\\\\\n",
       "\t rolls/buns       & 0.1839349\\\\\n",
       "\\end{tabular}\n"
      ],
      "text/markdown": [
       "\n",
       "A tibble: 3 × 2\n",
       "\n",
       "| Items &lt;chr&gt; | Frequency &lt;dbl&gt; |\n",
       "|---|---|\n",
       "| whole milk       | 0.2555160 |\n",
       "| other vegetables | 0.1934926 |\n",
       "| rolls/buns       | 0.1839349 |\n",
       "\n"
      ],
      "text/plain": [
       "                 Items            Frequency\n",
       "whole milk       whole milk       0.2555160\n",
       "other vegetables other vegetables 0.1934926\n",
       "rolls/buns       rolls/buns       0.1839349"
      ]
     },
     "metadata": {},
     "output_type": "display_data"
    }
   ],
   "source": [
    "# Wypisanie 3 najczęściej kupowanych produktów\n",
    "groceries_frequency %>%\n",
    "  arrange(desc(Frequency)) %>%\n",
    "  slice(1:3)\n",
    "\n",
    "# Częstotliwość elementu \"whole milk\": 0.256\n",
    "# Częstotliwość elementu \"other vegetables\": 0.193\n",
    "# Częstotliwość elementu \"rolls/buns\": 0.184\n",
    "# Ponownie widać, że są to najczęściej występujące elementy"
   ]
  },
  {
   "cell_type": "code",
   "execution_count": 11,
   "id": "8da26783-94d9-4006-9003-fa1a8172fb65",
   "metadata": {},
   "outputs": [],
   "source": [
    "### Ustalanie parametrów modelu\n",
    "\n",
    "# Minimalny próg wsparcia\n",
    "# Interesują nas wzorce, które pojawiają się przynajmniej 1 raz dziennie.\n",
    "# Załóżmy, że dane były zbierane przez 5 miesięcy, a każdy miesiąc miał 30 dni.\n",
    "# Oznacza to, że wzorzec powinien pojawiać się w co najmniej 1 * 150 = 150 transakcjach.\n",
    "# Wiemy, że zbiór danych zawiera 9835 transakcji, więc minimalne wsparcie będzie:\n",
    "# 150 / 9835 ≈ 0.0153\n",
    "\n",
    "# Wyznaczanie progu ufności.\n",
    "# Aby reguła została uwzględniona, poprzednik i następnik muszą występować razem \n",
    "# w przynajmniej połowie przypadków. Dlatego próg ufności ustawiamy na 0.5.\n",
    "\n",
    "# Aby wyeliminować reguły mające mniej niż dwa elementy, minimalna długość reguły została ustawiona na 2."
   ]
  },
  {
   "cell_type": "code",
   "execution_count": 12,
   "id": "ac1b521c-08c1-4da6-bfa3-541bcf81449d",
   "metadata": {},
   "outputs": [
    {
     "name": "stdout",
     "output_type": "stream",
     "text": [
      "Apriori\n",
      "\n",
      "Parameter specification:\n",
      " confidence minval smax arem  aval originalSupport maxtime support minlen\n",
      "        0.5    0.1    1 none FALSE            TRUE       5  0.0153      2\n",
      " maxlen target  ext\n",
      "     10  rules TRUE\n",
      "\n",
      "Algorithmic control:\n",
      " filter tree heap memopt load sort verbose\n",
      "    0.1 TRUE TRUE  FALSE TRUE    2    TRUE\n",
      "\n",
      "Absolute minimum support count: 150 \n",
      "\n",
      "set item appearances ...[0 item(s)] done [0.00s].\n",
      "set transactions ...[169 item(s), 9835 transaction(s)] done [0.00s].\n",
      "sorting and recoding items ... [71 item(s)] done [0.00s].\n",
      "creating transaction tree ... done [0.00s].\n",
      "checking subsets of size 1 2 3 done [0.00s].\n",
      "writing ... [1 rule(s)] done [0.00s].\n",
      "creating S4 object  ... done [0.00s].\n"
     ]
    }
   ],
   "source": [
    "# Tworzenie modelu z regułami\n",
    "groceries_rules <- apriori(\n",
    "  groceries,\n",
    "  parameter = list(\n",
    "    support = 0.0153,\n",
    "    confidence = 0.5,\n",
    "    minlen = 2\n",
    "  )\n",
    ")"
   ]
  },
  {
   "cell_type": "code",
   "execution_count": 13,
   "id": "c1f73daf-bc7e-41c2-970b-3c9eea4848a3",
   "metadata": {},
   "outputs": [
    {
     "data": {
      "text/plain": [
       "set of 1 rules\n",
       "\n",
       "rule length distribution (lhs + rhs):sizes\n",
       "3 \n",
       "1 \n",
       "\n",
       "   Min. 1st Qu.  Median    Mean 3rd Qu.    Max. \n",
       "      3       3       3       3       3       3 \n",
       "\n",
       "summary of quality measures:\n",
       "    support          confidence        coverage            lift      \n",
       " Min.   :0.02227   Min.   :0.5129   Min.   :0.04342   Min.   :2.007  \n",
       " 1st Qu.:0.02227   1st Qu.:0.5129   1st Qu.:0.04342   1st Qu.:2.007  \n",
       " Median :0.02227   Median :0.5129   Median :0.04342   Median :2.007  \n",
       " Mean   :0.02227   Mean   :0.5129   Mean   :0.04342   Mean   :2.007  \n",
       " 3rd Qu.:0.02227   3rd Qu.:0.5129   3rd Qu.:0.04342   3rd Qu.:2.007  \n",
       " Max.   :0.02227   Max.   :0.5129   Max.   :0.04342   Max.   :2.007  \n",
       "     count    \n",
       " Min.   :219  \n",
       " 1st Qu.:219  \n",
       " Median :219  \n",
       " Mean   :219  \n",
       " 3rd Qu.:219  \n",
       " Max.   :219  \n",
       "\n",
       "mining info:\n",
       "      data ntransactions support confidence\n",
       " groceries          9835  0.0153        0.5\n",
       "                                                                                        call\n",
       " apriori(data = groceries, parameter = list(support = 0.0153, confidence = 0.5, minlen = 2))"
      ]
     },
     "metadata": {},
     "output_type": "display_data"
    }
   ],
   "source": [
    "# Wyświetlenie podsumowania modelu\n",
    "summary(groceries_rules)\n",
    "\n",
    "# Dwie pierwsze sekcje wyników informują, że zgodnie z ustawionymi progami wygenerowano \n",
    "# określoną liczbę reguł. Widać również podział reguł według ich długości.\n",
    "# Kolejna sekcja wyników podaje podsumowanie statystyczne wsparcia, ufności, \n",
    "# przyrostu (lift) oraz liczby wystąpień każdej reguły w zbiorze danych."
   ]
  },
  {
   "cell_type": "code",
   "execution_count": 14,
   "id": "8ca2ae63-9f1b-4fb2-9e8b-15f035bf7bbf",
   "metadata": {},
   "outputs": [
    {
     "name": "stdout",
     "output_type": "stream",
     "text": [
      "    lhs                           rhs          support    confidence coverage  \n",
      "[1] {other vegetables, yogurt} => {whole milk} 0.02226741 0.5128806  0.04341637\n",
      "    lift     count\n",
      "[1] 2.007235 219  \n"
     ]
    }
   ],
   "source": [
    "# Wyświetlenie reguły\n",
    "inspect(groceries_rules[1])\n",
    "\n",
    "# Opis rezultatu:\n",
    "# lhs (left-hand side) - Lewa strona reguły – produkty, które są już w koszyku klienta.\n",
    "# rhs (right-hand side) -\tPrawa strona reguły – produkt, którego zakup jest przewidywany.\n",
    "# support (wsparcie) - częstotliwość występowania transkacji.\n",
    "# confidence (ufność) - Ufność, że jeśli wystąpi lhs to wystąpi rhs\n",
    "# coverage - pokazuje, jak często kombinacja pojawia się w transakcjach.\n",
    "# lift (przyrost) -\tIle razy częściej reguła aplikuje się względem losowej transakcji\n",
    "# count -\tLiczba transakcji, w których ta reguła występuje.\n",
    "\n",
    "# Wynik działania (wygenerowano jedną regułę):\n",
    "\n",
    "#     lhs                           rhs          support    confidence coverage   lift     count\n",
    "# [1] {other vegetables, yogurt} => {whole milk} 0.02226741 0.5128806  0.04341637 2.007235 219 \n",
    "\n",
    "# Analiza rezultatu dla reguły:\n",
    "# lhs – reguła dotyczy transakcji zawierających {other vegetables, yogurt}\n",
    "# rhs – dla wystąpienia lhs ({other vegetables, yogurt}) przewidywane jest kupienie {whole milk}\n",
    "# support - reguła występuje w ~2.23% wszystkich transakcji. Oznacza to, że spośród wszystkich zakupów w zbiorze, 2.23% zawiera zarówno {other vegetables, yogurt, whole milk}.\n",
    "# confidence - gdy klient kupił \"other vegetables\" i \"yogurt\", w 51.29% przypadków dokonał również zakupu \"whole milk\".\n",
    "# coverage - w 4.34% przypadków w bazie danych klienci kupili te {other vegetables, yogurt} razem.\n",
    "# lift - klienci, którzy kupili \"other vegetables\" i \"yogurt\", są 2 razy bardziej skłonni do zakupu \"whole milk\" niż losowy klient.\n",
    "# count -\tw 219 przypadkach spośród wszystkich transakcji klienci kupili \"other vegetables\", \"yogurt\" i \"whole milk\"."
   ]
  },
  {
   "cell_type": "code",
   "execution_count": 15,
   "id": "ca2290a9-472e-4c21-89c3-0568db03205f",
   "metadata": {},
   "outputs": [],
   "source": [
    "#########################################\n",
    "# Treść zadania laboratoryjnego część 2 #\n",
    "#########################################\n",
    "\n",
    "# Klasteryzacja metoda k-srednich\n",
    "\n",
    "# zaczytanie zbioru danych mallcustomers.csv dotyczacych klient?w galerii handlowej\n",
    "\n",
    "# Rekord kazdego klienta sklada sie z unikatowego identyfikatora\n",
    "# (CustomerID), plci (Gender), wieku (Age), rocznej pensji (Income) oraz oceny\n",
    "# wydatk?w, od 1 do 100, przypisanej w zaleznosci od nawyk?w zakupowych klienta\n",
    "# i kilku innych czynnik?w (SpendingScore). \n",
    "# \n",
    "# \n",
    "# Zadamie polega na  segmentacji klient?w w oparciu o zmienne Income i SpendingScore.\n",
    "\n",
    "# UWAGA\n",
    "# cecha Income jest przechowywana w postaci ciagu znakowego.\n",
    "# funkcji str_replace_all() z pakietu stringr do zastapienie podciag?w ciagiem pustym (\"\")"
   ]
  },
  {
   "cell_type": "code",
   "execution_count": 16,
   "id": "e260ba27-862a-47fa-bb3e-e003fc144769",
   "metadata": {},
   "outputs": [],
   "source": [
    "###############################################\n",
    "# Rozwiązanie zadania laboratoryjnego część 2 #\n",
    "###############################################"
   ]
  },
  {
   "cell_type": "code",
   "execution_count": 17,
   "id": "b0fa6c03-3b01-4fe9-a14a-2060d45be748",
   "metadata": {},
   "outputs": [],
   "source": [
    "library(tidyverse)\n",
    "\n",
    "mallcustomers <- read_csv(\"http://jolej.linuxpl.info/mallcustomers.csv\", col_types=\"cfnnn\")"
   ]
  },
  {
   "cell_type": "code",
   "execution_count": 18,
   "id": "5739eef3-80d6-4f39-984f-e89c36e313a8",
   "metadata": {},
   "outputs": [
    {
     "name": "stderr",
     "output_type": "stream",
     "text": [
      "Warning message:\n",
      "\"package 'fastDummies' was built under R version 4.4.2\"\n"
     ]
    }
   ],
   "source": [
    "# Zamiana zmiennej \"Gender\" na zmienne logiczne\n",
    "library(fastDummies)\n",
    "mallcustomers <- dummy_cols(mallcustomers, select_columns = \"Gender\", remove_selected_columns = TRUE)"
   ]
  },
  {
   "cell_type": "code",
   "execution_count": 19,
   "id": "b7353a15-1310-4524-9eb1-70c10f66feef",
   "metadata": {},
   "outputs": [
    {
     "name": "stdout",
     "output_type": "stream",
     "text": [
      "Rows: 200\n",
      "Columns: 6\n",
      "$ CustomerID    \u001b[3m\u001b[90m<chr>\u001b[39m\u001b[23m \"1\", \"2\", \"3\", \"4\", \"5\", \"6\", \"7\", \"8\", \"9\", \"10\", \"11\",…\n",
      "$ Age           \u001b[3m\u001b[90m<dbl>\u001b[39m\u001b[23m 19, 21, 20, 23, 31, 22, 35, 23, 64, 30, 67, 35, 58, 24, …\n",
      "$ Income        \u001b[3m\u001b[90m<dbl>\u001b[39m\u001b[23m 15000, 15000, 16000, 16000, 17000, 17000, 18000, 18000, …\n",
      "$ SpendingScore \u001b[3m\u001b[90m<dbl>\u001b[39m\u001b[23m 39, 81, 6, 77, 40, 76, 6, 94, 3, 72, 14, 99, 15, 77, 13,…\n",
      "$ Gender_Male   \u001b[3m\u001b[90m<int>\u001b[39m\u001b[23m 1, 1, 0, 0, 0, 0, 0, 0, 1, 0, 1, 0, 0, 0, 1, 1, 0, 1, 1,…\n",
      "$ Gender_Female \u001b[3m\u001b[90m<int>\u001b[39m\u001b[23m 0, 0, 1, 1, 1, 1, 1, 1, 0, 1, 0, 1, 1, 1, 0, 0, 1, 0, 0,…\n"
     ]
    }
   ],
   "source": [
    "# Podglad zbioru danych\n",
    "glimpse(mallcustomers)"
   ]
  },
  {
   "cell_type": "code",
   "execution_count": 20,
   "id": "965c2997-a987-4cb9-bd43-96f965fde9e1",
   "metadata": {},
   "outputs": [
    {
     "data": {
      "text/plain": [
       "     Income       SpendingScore  \n",
       " Min.   : 15000   Min.   : 1.00  \n",
       " 1st Qu.: 41500   1st Qu.:34.75  \n",
       " Median : 61500   Median :50.00  \n",
       " Mean   : 60560   Mean   :50.20  \n",
       " 3rd Qu.: 78000   3rd Qu.:73.00  \n",
       " Max.   :137000   Max.   :99.00  "
      ]
     },
     "metadata": {},
     "output_type": "display_data"
    }
   ],
   "source": [
    "# Wyświetlenie podsumowania dla zmiennych Income i SpendingScore\n",
    "mallcustomers %>%\n",
    "  select(Income, SpendingScore) %>%\n",
    "  summary()"
   ]
  },
  {
   "cell_type": "code",
   "execution_count": 21,
   "id": "de265d77-cae2-419f-9de9-e623838b24ae",
   "metadata": {},
   "outputs": [],
   "source": [
    "# Cechy maja inne zakresy wartosci dlatego powinny zostac znormalizowane\n",
    "mallcustomers_scaled <- mallcustomers %>%\n",
    "  select(Income, SpendingScore) %>%\n",
    "  scale()"
   ]
  },
  {
   "cell_type": "code",
   "execution_count": 22,
   "id": "067fc3f9-cef9-49b9-80c0-2bee5a44c71e",
   "metadata": {},
   "outputs": [
    {
     "data": {
      "text/plain": [
       "     Income         SpendingScore      \n",
       " Min.   :-1.73465   Min.   :-1.905240  \n",
       " 1st Qu.:-0.72569   1st Qu.:-0.598292  \n",
       " Median : 0.03579   Median :-0.007745  \n",
       " Mean   : 0.00000   Mean   : 0.000000  \n",
       " 3rd Qu.: 0.66401   3rd Qu.: 0.882916  \n",
       " Max.   : 2.91037   Max.   : 1.889750  "
      ]
     },
     "metadata": {},
     "output_type": "display_data"
    }
   ],
   "source": [
    "# Wyświetlenie podsumowania dla zmiennych Income i SpendingScore po znormalizowaniu\n",
    "mallcustomers_scaled %>%\n",
    "  summary()"
   ]
  },
  {
   "cell_type": "code",
   "execution_count": 23,
   "id": "fac2d914-03af-40e3-bcc6-c0b5508f123b",
   "metadata": {},
   "outputs": [
    {
     "name": "stderr",
     "output_type": "stream",
     "text": [
      "Warning message:\n",
      "\"package 'factoextra' was built under R version 4.4.2\"\n",
      "Welcome! Want to learn more? See two factoextra-related books at https://goo.gl/ve3WBa\n",
      "\n"
     ]
    },
    {
     "data": {
      "image/png": "[encoded data removed]",
      "text/plain": [
       "plot without title"
      ]
     },
     "metadata": {
      "image/png": {
       "height": 420,
       "width": 420
      }
     },
     "output_type": "display_data"
    }
   ],
   "source": [
    "# Sprawdzenie jaką liczbę poziomów klasteryzacji zastosować\n",
    "library(factoextra)\n",
    "fviz_nbclust(mallcustomers_scaled, kmeans, method = \"silhouette\")\n",
    "# Największa ąsrednia jest dla 6"
   ]
  },
  {
   "cell_type": "code",
   "execution_count": 24,
   "id": "ca82095a-4800-4f3a-991c-23fa36dce0d6",
   "metadata": {},
   "outputs": [],
   "source": [
    "### Klasteryzacja za pomoca funkcji kmeans()\n",
    "\n",
    "library(stats)\n",
    "\n",
    "set.seed(1234)\n",
    "\n",
    "k_6 <- kmeans(mallcustomers_scaled, centers=6, nstart = 25)"
   ]
  },
  {
   "cell_type": "code",
   "execution_count": 25,
   "id": "9e2c3c59-c3de-4943-87ee-6d27f4fe0cfb",
   "metadata": {},
   "outputs": [
    {
     "data": {
      "text/html": [
       "<style>\n",
       ".list-inline {list-style: none; margin:0; padding: 0}\n",
       ".list-inline>li {display: inline-block}\n",
       ".list-inline>li:not(:last-child)::after {content: \"\\00b7\"; padding: 0 .5ex}\n",
       "</style>\n",
       "<ol class=list-inline><li>29</li><li>10</li><li>35</li><li>23</li><li>81</li><li>22</li></ol>\n"
      ],
      "text/latex": [
       "\\begin{enumerate*}\n",
       "\\item 29\n",
       "\\item 10\n",
       "\\item 35\n",
       "\\item 23\n",
       "\\item 81\n",
       "\\item 22\n",
       "\\end{enumerate*}\n"
      ],
      "text/markdown": [
       "1. 29\n",
       "2. 10\n",
       "3. 35\n",
       "4. 23\n",
       "5. 81\n",
       "6. 22\n",
       "\n",
       "\n"
      ],
      "text/plain": [
       "[1] 29 10 35 23 81 22"
      ]
     },
     "metadata": {},
     "output_type": "display_data"
    }
   ],
   "source": [
    "# Liczba obserwacji w kazdym z klastrow\n",
    "k_6$size"
   ]
  },
  {
   "cell_type": "code",
   "execution_count": 26,
   "id": "b9a3c510-83f6-4a2e-a094-baebc206b98f",
   "metadata": {},
   "outputs": [
    {
     "data": {
      "text/html": [
       "<table class=\"dataframe\">\n",
       "<caption>A matrix: 6 × 2 of type dbl</caption>\n",
       "<thead>\n",
       "\t<tr><th></th><th scope=col>Income</th><th scope=col>SpendingScore</th></tr>\n",
       "</thead>\n",
       "<tbody>\n",
       "\t<tr><th scope=row>1</th><td> 0.6850149</td><td> 1.23811207</td></tr>\n",
       "\t<tr><th scope=row>2</th><td> 1.8709508</td><td> 1.23143545</td></tr>\n",
       "\t<tr><th scope=row>3</th><td> 1.0523622</td><td>-1.28122394</td></tr>\n",
       "\t<tr><th scope=row>4</th><td>-1.3042458</td><td>-1.13411939</td></tr>\n",
       "\t<tr><th scope=row>5</th><td>-0.2004097</td><td>-0.02638995</td></tr>\n",
       "\t<tr><th scope=row>6</th><td>-1.3262173</td><td> 1.12934389</td></tr>\n",
       "</tbody>\n",
       "</table>\n"
      ],
      "text/latex": [
       "A matrix: 6 × 2 of type dbl\n",
       "\\begin{tabular}{r|ll}\n",
       "  & Income & SpendingScore\\\\\n",
       "\\hline\n",
       "\t1 &  0.6850149 &  1.23811207\\\\\n",
       "\t2 &  1.8709508 &  1.23143545\\\\\n",
       "\t3 &  1.0523622 & -1.28122394\\\\\n",
       "\t4 & -1.3042458 & -1.13411939\\\\\n",
       "\t5 & -0.2004097 & -0.02638995\\\\\n",
       "\t6 & -1.3262173 &  1.12934389\\\\\n",
       "\\end{tabular}\n"
      ],
      "text/markdown": [
       "\n",
       "A matrix: 6 × 2 of type dbl\n",
       "\n",
       "| <!--/--> | Income | SpendingScore |\n",
       "|---|---|---|\n",
       "| 1 |  0.6850149 |  1.23811207 |\n",
       "| 2 |  1.8709508 |  1.23143545 |\n",
       "| 3 |  1.0523622 | -1.28122394 |\n",
       "| 4 | -1.3042458 | -1.13411939 |\n",
       "| 5 | -0.2004097 | -0.02638995 |\n",
       "| 6 | -1.3262173 |  1.12934389 |\n",
       "\n"
      ],
      "text/plain": [
       "  Income     SpendingScore\n",
       "1  0.6850149  1.23811207  \n",
       "2  1.8709508  1.23143545  \n",
       "3  1.0523622 -1.28122394  \n",
       "4 -1.3042458 -1.13411939  \n",
       "5 -0.2004097 -0.02638995  \n",
       "6 -1.3262173  1.12934389  "
      ]
     },
     "metadata": {},
     "output_type": "display_data"
    }
   ],
   "source": [
    "# Srodki kazdego z klastr?w\n",
    "k_6$centers"
   ]
  },
  {
   "cell_type": "code",
   "execution_count": 27,
   "id": "d011767c-682a-4c72-8063-e8cfd74a0bfb",
   "metadata": {},
   "outputs": [
    {
     "data": {
      "image/png": "[encoded data removed]",
      "text/plain": [
       "plot without title"
      ]
     },
     "metadata": {
      "image/png": {
       "height": 420,
       "width": 420
      }
     },
     "output_type": "display_data"
    }
   ],
   "source": [
    "# Wizualizacja klasteryzacji za pomoca funkcji fviz_cluster() z pakietu factoextra\n",
    "fviz_cluster(k_6, data = mallcustomers_scaled, repel = TRUE,\n",
    "             ggtheme = theme_minimal()) + theme(text = element_text(size = 14))"
   ]
  },
  {
   "cell_type": "code",
   "execution_count": 28,
   "id": "d6d4e110-21ac-4cb8-8ff2-7700183fe6f9",
   "metadata": {},
   "outputs": [
    {
     "data": {
      "text/html": [
       "<table class=\"dataframe\">\n",
       "<caption>A tibble: 6 × 6</caption>\n",
       "<thead>\n",
       "\t<tr><th scope=col>cluster</th><th scope=col>Gender_Male</th><th scope=col>Gender_Female</th><th scope=col>Age</th><th scope=col>Income</th><th scope=col>SpendingScore</th></tr>\n",
       "\t<tr><th scope=col>&lt;int&gt;</th><th scope=col>&lt;dbl&gt;</th><th scope=col>&lt;dbl&gt;</th><th scope=col>&lt;dbl&gt;</th><th scope=col>&lt;dbl&gt;</th><th scope=col>&lt;dbl&gt;</th></tr>\n",
       "</thead>\n",
       "<tbody>\n",
       "\t<tr><td>6</td><td>0.4090909</td><td>0.5909091</td><td>25.27273</td><td> 25727.27</td><td>79.36364</td></tr>\n",
       "\t<tr><td>2</td><td>0.4000000</td><td>0.6000000</td><td>32.20000</td><td>109700.00</td><td>82.00000</td></tr>\n",
       "\t<tr><td>1</td><td>0.4827586</td><td>0.5172414</td><td>32.86207</td><td> 78551.72</td><td>82.17241</td></tr>\n",
       "\t<tr><td>3</td><td>0.5428571</td><td>0.4571429</td><td>41.11429</td><td> 88200.00</td><td>17.11429</td></tr>\n",
       "\t<tr><td>5</td><td>0.4074074</td><td>0.5925926</td><td>42.71605</td><td> 55296.30</td><td>49.51852</td></tr>\n",
       "\t<tr><td>4</td><td>0.3913043</td><td>0.6086957</td><td>45.21739</td><td> 26304.35</td><td>20.91304</td></tr>\n",
       "</tbody>\n",
       "</table>\n"
      ],
      "text/latex": [
       "A tibble: 6 × 6\n",
       "\\begin{tabular}{llllll}\n",
       " cluster & Gender\\_Male & Gender\\_Female & Age & Income & SpendingScore\\\\\n",
       " <int> & <dbl> & <dbl> & <dbl> & <dbl> & <dbl>\\\\\n",
       "\\hline\n",
       "\t 6 & 0.4090909 & 0.5909091 & 25.27273 &  25727.27 & 79.36364\\\\\n",
       "\t 2 & 0.4000000 & 0.6000000 & 32.20000 & 109700.00 & 82.00000\\\\\n",
       "\t 1 & 0.4827586 & 0.5172414 & 32.86207 &  78551.72 & 82.17241\\\\\n",
       "\t 3 & 0.5428571 & 0.4571429 & 41.11429 &  88200.00 & 17.11429\\\\\n",
       "\t 5 & 0.4074074 & 0.5925926 & 42.71605 &  55296.30 & 49.51852\\\\\n",
       "\t 4 & 0.3913043 & 0.6086957 & 45.21739 &  26304.35 & 20.91304\\\\\n",
       "\\end{tabular}\n"
      ],
      "text/markdown": [
       "\n",
       "A tibble: 6 × 6\n",
       "\n",
       "| cluster &lt;int&gt; | Gender_Male &lt;dbl&gt; | Gender_Female &lt;dbl&gt; | Age &lt;dbl&gt; | Income &lt;dbl&gt; | SpendingScore &lt;dbl&gt; |\n",
       "|---|---|---|---|---|---|\n",
       "| 6 | 0.4090909 | 0.5909091 | 25.27273 |  25727.27 | 79.36364 |\n",
       "| 2 | 0.4000000 | 0.6000000 | 32.20000 | 109700.00 | 82.00000 |\n",
       "| 1 | 0.4827586 | 0.5172414 | 32.86207 |  78551.72 | 82.17241 |\n",
       "| 3 | 0.5428571 | 0.4571429 | 41.11429 |  88200.00 | 17.11429 |\n",
       "| 5 | 0.4074074 | 0.5925926 | 42.71605 |  55296.30 | 49.51852 |\n",
       "| 4 | 0.3913043 | 0.6086957 | 45.21739 |  26304.35 | 20.91304 |\n",
       "\n"
      ],
      "text/plain": [
       "  cluster Gender_Male Gender_Female Age      Income    SpendingScore\n",
       "1 6       0.4090909   0.5909091     25.27273  25727.27 79.36364     \n",
       "2 2       0.4000000   0.6000000     32.20000 109700.00 82.00000     \n",
       "3 1       0.4827586   0.5172414     32.86207  78551.72 82.17241     \n",
       "4 3       0.5428571   0.4571429     41.11429  88200.00 17.11429     \n",
       "5 5       0.4074074   0.5925926     42.71605  55296.30 49.51852     \n",
       "6 4       0.3913043   0.6086957     45.21739  26304.35 20.91304     "
      ]
     },
     "metadata": {},
     "output_type": "display_data"
    }
   ],
   "source": [
    "# Generowanie srednich wartosci dla kazdego z wybranych atrybutow\n",
    "mallcustomers %>%\n",
    "  mutate(cluster = k_6$cluster) %>%\n",
    "  select(cluster,\n",
    "         Gender_Male,\n",
    "         Gender_Female,\n",
    "         Age,\n",
    "         Income,\n",
    "         SpendingScore) %>%\n",
    "  group_by(cluster) %>%\n",
    "  summarise_all(\"mean\") %>%\n",
    "  arrange(Age)"
   ]
  },
  {
   "cell_type": "code",
   "execution_count": 29,
   "id": "c9deef4f-9803-4787-8935-38d95ce39db3",
   "metadata": {},
   "outputs": [],
   "source": [
    "# WNIOSKI:\n",
    "# - im młodsze osoby tym większy SpendingScore\n",
    "# - najmłodsi i najstarsi mają skrajnie różny SpendingScore\n",
    "# - najmłodszi i najstarsi mają najniższe docohdy\n",
    "# - największy średni income ma klaster 2\n",
    "# - największy średni wieki ma klaster 1\n",
    "# - największy średni SpendingScore ma klaster 6\n",
    "# - w klastrze drugim jako jedynym istnieje przewaga kobiet i mężczyzn"
   ]
  }
 ],
 "metadata": {
  "kernelspec": {
   "display_name": "R",
   "language": "R",
   "name": "ir"
  },
  "language_info": {
   "codemirror_mode": "r",
   "file_extension": ".r",
   "mimetype": "text/x-r-source",
   "name": "R",
   "pygments_lexer": "r",
   "version": "4.4.1"
  }
 },
 "nbformat": 4,
 "nbformat_minor": 5
}
